{
  "cells": [
    {
      "cell_type": "markdown",
      "metadata": {
        "id": "YE1jtJx4QiEH"
      },
      "source": [
        "### **Part 5 ChatGPT**"
      ]
    },
    {
      "cell_type": "code",
      "execution_count": 2,
      "metadata": {
        "id": "ybfJr8UvQbzh"
      },
      "outputs": [],
      "source": [
        "import pandas as pd"
      ]
    },
    {
      "cell_type": "markdown",
      "metadata": {
        "id": "VVIYSTMuTmA9"
      },
      "source": [
        "Mount Google Drive to Read in the files."
      ]
    },
    {
      "cell_type": "code",
      "execution_count": 25,
      "metadata": {
        "colab": {
          "base_uri": "https://localhost:8080/"
        },
        "id": "8XqCKSSATqdj",
        "outputId": "46ae7359-c56d-4853-e5a1-587795acab79"
      },
      "outputs": [],
      "source": [
        "# from google.colab import drive\n",
        "# drive.mount('/content/drive')"
      ]
    },
    {
      "cell_type": "markdown",
      "metadata": {},
      "source": [
        "Choose the local or google file path depending on how you are running the notebook."
      ]
    },
    {
      "cell_type": "code",
      "execution_count": 4,
      "metadata": {
        "id": "celW3R9-Qrm0"
      },
      "outputs": [],
      "source": [
        "# df = pd.read_csv(\"/content/drive/MyDrive/CA4023/ParlVote+.csv\")\n",
        "df = pd.read_csv(\"../data/ParlVote+.csv\")"
      ]
    },
    {
      "cell_type": "code",
      "execution_count": 5,
      "metadata": {},
      "outputs": [],
      "source": [
        "from sklearn.model_selection import train_test_split"
      ]
    },
    {
      "cell_type": "code",
      "execution_count": 6,
      "metadata": {},
      "outputs": [],
      "source": [
        "# Stratified Sampling\n",
        "X = df.drop(columns=['party'])  # Features\n",
        "y = df['party']  # Target variable\n",
        "\n",
        "# Use stratified sampling to split the data into training and testing sets\n",
        "train_df, test_df = train_test_split(df, test_size=0.2, random_state=62, stratify=y)"
      ]
    },
    {
      "cell_type": "markdown",
      "metadata": {},
      "source": [
        "Sample 30 rows from the test set."
      ]
    },
    {
      "cell_type": "code",
      "execution_count": 15,
      "metadata": {},
      "outputs": [],
      "source": [
        "chatgpt_sample = test_df.sample(n=30, random_state=62)"
      ]
    },
    {
      "cell_type": "code",
      "execution_count": 16,
      "metadata": {},
      "outputs": [
        {
          "name": "stdout",
          "output_type": "stream",
          "text": [
            "                                                  speech  \\\n",
            "4464   The hon Gentleman will appreciate that we have...   \n",
            "3651   I should say at the outset that I sympathise w...   \n",
            "12953  With this it will be convenient to discuss the...   \n",
            "30800  Can the Secretary of State confirm that amendm...   \n",
            "13062  Would that not require the Prime Minister and ...   \n",
            "14216  Widespread concern has been expressed througho...   \n",
            "22960  On the number of front-line police officers, w...   \n",
            "31926  I want to find out what has changed since the ...   \n",
            "14462  Would the Minister not agree that the logic of...   \n",
            "24588  On a point of order, Madam Deputy Speaker. The...   \n",
            "14878  It is interesting that the right hon Gentleman...   \n",
            "29761  Further to that point of order, Mr Speaker. It...   \n",
            "3861   The arguments are well trodden. They were made...   \n",
            "927    I start by congratulating my hon Friend the Me...   \n",
            "10545  I agree with a great deal of what the hon Memb...   \n",
            "27997  It is a great pleasure, for the second time th...   \n",
            "21990  We have had a good wide-ranging debate. In the...   \n",
            "30388  Can the hon Lady explain the consultation that...   \n",
            "4847   I will confine my remarks to new clause 21, in...   \n",
            "27908  I strongly support the principles behind the B...   \n",
            "25466  The hon Gentleman was giving reasons why young...   \n",
            "4762   I wish to support amendment No. 2, and I shall...   \n",
            "10441  The hon Member for Wycombe  finished slightly ...   \n",
            "11587  I fully support new clause 4. I wonder whether...   \n",
            "26811  Will my hon Friend join me in welcoming the un...   \n",
            "13423  The hon Lady just said in closing that she wou...   \n",
            "10261  Does the shadow Chief Secretary to the Treasur...   \n",
            "9674   We supported conditional cautions, which were ...   \n",
            "5577   It is a pleasure to follow the hon Member for ...   \n",
            "30241  Does the right hon and learned Gentleman agree...   \n",
            "\n",
            "                         party  \n",
            "4464                    labour  \n",
            "3651        labourco-operative  \n",
            "12953                   labour  \n",
            "30800                   labour  \n",
            "13062                   labour  \n",
            "14216                   labour  \n",
            "22960         liberal-democrat  \n",
            "31926       labourco-operative  \n",
            "14462                   labour  \n",
            "24588                   labour  \n",
            "14878             conservative  \n",
            "29761  scottish-national-party  \n",
            "3861          liberal-democrat  \n",
            "927         labourco-operative  \n",
            "10545                   labour  \n",
            "27997             conservative  \n",
            "21990         liberal-democrat  \n",
            "30388             conservative  \n",
            "4847                       dup  \n",
            "27908             conservative  \n",
            "25466              plaid-cymru  \n",
            "4762          liberal-democrat  \n",
            "10441         liberal-democrat  \n",
            "11587                   labour  \n",
            "26811             conservative  \n",
            "13423                   labour  \n",
            "10261                   labour  \n",
            "9674              conservative  \n",
            "5577              conservative  \n",
            "30241         liberal-democrat  \n"
          ]
        }
      ],
      "source": [
        "print(chatgpt_sample[['speech', 'party']])"
      ]
    },
    {
      "cell_type": "code",
      "execution_count": 17,
      "metadata": {},
      "outputs": [],
      "source": [
        "chatgpt_sample[['speech', 'party']].to_csv(\"../data/chatgpt_samples.csv\")"
      ]
    },
    {
      "cell_type": "code",
      "execution_count": 19,
      "metadata": {},
      "outputs": [],
      "source": [
        "results_df = pd.read_csv(\"../data/chat_gpt_results.csv\")"
      ]
    },
    {
      "cell_type": "code",
      "execution_count": 21,
      "metadata": {},
      "outputs": [],
      "source": [
        "from sklearn.metrics import accuracy_score, classification_report"
      ]
    },
    {
      "cell_type": "code",
      "execution_count": 22,
      "metadata": {},
      "outputs": [],
      "source": [
        "def calculate_metrics(y_test, y_pred):\n",
        "\n",
        "    # Calculate overall accuracy\n",
        "    overall_accuracy = accuracy_score(y_test, y_pred)\n",
        "    print(f\"Overall Accuracy: {overall_accuracy}\\n\")\n",
        "\n",
        "    # Calculate precision, recall, and F1-score for each class\n",
        "    report = classification_report(y_test, y_pred)\n",
        "    print(\"\\nClassification Report:\")\n",
        "    print(report)"
      ]
    },
    {
      "cell_type": "code",
      "execution_count": 23,
      "metadata": {},
      "outputs": [
        {
          "name": "stdout",
          "output_type": "stream",
          "text": [
            "Overall Accuracy: 0.4666666666666667\n",
            "\n",
            "\n",
            "Classification Report:\n",
            "                         precision    recall  f1-score   support\n",
            "\n",
            "           conservative       0.62      0.71      0.67         7\n",
            "                    dup       1.00      1.00      1.00         1\n",
            "                  green       0.00      0.00      0.00         0\n",
            "            independent       0.00      0.00      0.00         0\n",
            "                 labour       0.50      0.55      0.52        11\n",
            "     labourco-operative       0.00      0.00      0.00         3\n",
            "       liberal-democrat       0.40      0.33      0.36         6\n",
            "            plaid-cymru       0.00      0.00      0.00         1\n",
            "scottish-national-party       0.00      0.00      0.00         1\n",
            "\n",
            "               accuracy                           0.47        30\n",
            "              macro avg       0.28      0.29      0.28        30\n",
            "           weighted avg       0.44      0.47      0.45        30\n",
            "\n"
          ]
        },
        {
          "name": "stderr",
          "output_type": "stream",
          "text": [
            "c:\\Users\\FX 8320\\AppData\\Local\\Programs\\Python\\Python311\\Lib\\site-packages\\sklearn\\metrics\\_classification.py:1471: UndefinedMetricWarning: Precision and F-score are ill-defined and being set to 0.0 in labels with no predicted samples. Use `zero_division` parameter to control this behavior.\n",
            "  _warn_prf(average, modifier, msg_start, len(result))\n",
            "c:\\Users\\FX 8320\\AppData\\Local\\Programs\\Python\\Python311\\Lib\\site-packages\\sklearn\\metrics\\_classification.py:1471: UndefinedMetricWarning: Recall and F-score are ill-defined and being set to 0.0 in labels with no true samples. Use `zero_division` parameter to control this behavior.\n",
            "  _warn_prf(average, modifier, msg_start, len(result))\n",
            "c:\\Users\\FX 8320\\AppData\\Local\\Programs\\Python\\Python311\\Lib\\site-packages\\sklearn\\metrics\\_classification.py:1471: UndefinedMetricWarning: Precision and F-score are ill-defined and being set to 0.0 in labels with no predicted samples. Use `zero_division` parameter to control this behavior.\n",
            "  _warn_prf(average, modifier, msg_start, len(result))\n",
            "c:\\Users\\FX 8320\\AppData\\Local\\Programs\\Python\\Python311\\Lib\\site-packages\\sklearn\\metrics\\_classification.py:1471: UndefinedMetricWarning: Recall and F-score are ill-defined and being set to 0.0 in labels with no true samples. Use `zero_division` parameter to control this behavior.\n",
            "  _warn_prf(average, modifier, msg_start, len(result))\n",
            "c:\\Users\\FX 8320\\AppData\\Local\\Programs\\Python\\Python311\\Lib\\site-packages\\sklearn\\metrics\\_classification.py:1471: UndefinedMetricWarning: Precision and F-score are ill-defined and being set to 0.0 in labels with no predicted samples. Use `zero_division` parameter to control this behavior.\n",
            "  _warn_prf(average, modifier, msg_start, len(result))\n",
            "c:\\Users\\FX 8320\\AppData\\Local\\Programs\\Python\\Python311\\Lib\\site-packages\\sklearn\\metrics\\_classification.py:1471: UndefinedMetricWarning: Recall and F-score are ill-defined and being set to 0.0 in labels with no true samples. Use `zero_division` parameter to control this behavior.\n",
            "  _warn_prf(average, modifier, msg_start, len(result))\n"
          ]
        }
      ],
      "source": [
        "calculate_metrics(results_df['party'], results_df['prediction'])"
      ]
    }
  ],
  "metadata": {
    "colab": {
      "provenance": []
    },
    "kernelspec": {
      "display_name": "Python 3",
      "name": "python3"
    },
    "language_info": {
      "codemirror_mode": {
        "name": "ipython",
        "version": 3
      },
      "file_extension": ".py",
      "mimetype": "text/x-python",
      "name": "python",
      "nbconvert_exporter": "python",
      "pygments_lexer": "ipython3",
      "version": "3.11.1"
    }
  },
  "nbformat": 4,
  "nbformat_minor": 0
}
