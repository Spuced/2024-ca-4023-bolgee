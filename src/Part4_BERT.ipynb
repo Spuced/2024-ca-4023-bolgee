{
  "cells": [
    {
      "cell_type": "code",
      "execution_count": 1,
      "metadata": {
        "id": "0Xrgl1o7SuK3"
      },
      "outputs": [],
      "source": [
        "import pandas as pd"
      ]
    },
    {
      "cell_type": "code",
      "execution_count": 2,
      "metadata": {
        "colab": {
          "base_uri": "https://localhost:8080/"
        },
        "id": "g12KuWL08j9X",
        "outputId": "89fc5940-72e3-4548-aebd-d3b9f84709e9"
      },
      "outputs": [
        {
          "output_type": "stream",
          "name": "stdout",
          "text": [
            "Collecting datasets\n",
            "  Downloading datasets-2.15.0-py3-none-any.whl (521 kB)\n",
            "\u001b[2K     \u001b[90m━━━━━━━━━━━━━━━━━━━━━━━━━━━━━━━━━━━━━━━━\u001b[0m \u001b[32m521.2/521.2 kB\u001b[0m \u001b[31m8.1 MB/s\u001b[0m eta \u001b[36m0:00:00\u001b[0m\n",
            "\u001b[?25hRequirement already satisfied: numpy>=1.17 in /usr/local/lib/python3.10/dist-packages (from datasets) (1.23.5)\n",
            "Requirement already satisfied: pyarrow>=8.0.0 in /usr/local/lib/python3.10/dist-packages (from datasets) (10.0.1)\n",
            "Collecting pyarrow-hotfix (from datasets)\n",
            "  Downloading pyarrow_hotfix-0.6-py3-none-any.whl (7.9 kB)\n",
            "Collecting dill<0.3.8,>=0.3.0 (from datasets)\n",
            "  Downloading dill-0.3.7-py3-none-any.whl (115 kB)\n",
            "\u001b[2K     \u001b[90m━━━━━━━━━━━━━━━━━━━━━━━━━━━━━━━━━━━━━━━━\u001b[0m \u001b[32m115.3/115.3 kB\u001b[0m \u001b[31m10.0 MB/s\u001b[0m eta \u001b[36m0:00:00\u001b[0m\n",
            "\u001b[?25hRequirement already satisfied: pandas in /usr/local/lib/python3.10/dist-packages (from datasets) (1.5.3)\n",
            "Requirement already satisfied: requests>=2.19.0 in /usr/local/lib/python3.10/dist-packages (from datasets) (2.31.0)\n",
            "Requirement already satisfied: tqdm>=4.62.1 in /usr/local/lib/python3.10/dist-packages (from datasets) (4.66.1)\n",
            "Requirement already satisfied: xxhash in /usr/local/lib/python3.10/dist-packages (from datasets) (3.4.1)\n",
            "Collecting multiprocess (from datasets)\n",
            "  Downloading multiprocess-0.70.15-py310-none-any.whl (134 kB)\n",
            "\u001b[2K     \u001b[90m━━━━━━━━━━━━━━━━━━━━━━━━━━━━━━━━━━━━━━━━\u001b[0m \u001b[32m134.8/134.8 kB\u001b[0m \u001b[31m11.7 MB/s\u001b[0m eta \u001b[36m0:00:00\u001b[0m\n",
            "\u001b[?25hRequirement already satisfied: fsspec[http]<=2023.10.0,>=2023.1.0 in /usr/local/lib/python3.10/dist-packages (from datasets) (2023.6.0)\n",
            "Requirement already satisfied: aiohttp in /usr/local/lib/python3.10/dist-packages (from datasets) (3.9.1)\n",
            "Requirement already satisfied: huggingface-hub>=0.18.0 in /usr/local/lib/python3.10/dist-packages (from datasets) (0.19.4)\n",
            "Requirement already satisfied: packaging in /usr/local/lib/python3.10/dist-packages (from datasets) (23.2)\n",
            "Requirement already satisfied: pyyaml>=5.1 in /usr/local/lib/python3.10/dist-packages (from datasets) (6.0.1)\n",
            "Requirement already satisfied: attrs>=17.3.0 in /usr/local/lib/python3.10/dist-packages (from aiohttp->datasets) (23.1.0)\n",
            "Requirement already satisfied: multidict<7.0,>=4.5 in /usr/local/lib/python3.10/dist-packages (from aiohttp->datasets) (6.0.4)\n",
            "Requirement already satisfied: yarl<2.0,>=1.0 in /usr/local/lib/python3.10/dist-packages (from aiohttp->datasets) (1.9.4)\n",
            "Requirement already satisfied: frozenlist>=1.1.1 in /usr/local/lib/python3.10/dist-packages (from aiohttp->datasets) (1.4.0)\n",
            "Requirement already satisfied: aiosignal>=1.1.2 in /usr/local/lib/python3.10/dist-packages (from aiohttp->datasets) (1.3.1)\n",
            "Requirement already satisfied: async-timeout<5.0,>=4.0 in /usr/local/lib/python3.10/dist-packages (from aiohttp->datasets) (4.0.3)\n",
            "Requirement already satisfied: filelock in /usr/local/lib/python3.10/dist-packages (from huggingface-hub>=0.18.0->datasets) (3.13.1)\n",
            "Requirement already satisfied: typing-extensions>=3.7.4.3 in /usr/local/lib/python3.10/dist-packages (from huggingface-hub>=0.18.0->datasets) (4.5.0)\n",
            "Requirement already satisfied: charset-normalizer<4,>=2 in /usr/local/lib/python3.10/dist-packages (from requests>=2.19.0->datasets) (3.3.2)\n",
            "Requirement already satisfied: idna<4,>=2.5 in /usr/local/lib/python3.10/dist-packages (from requests>=2.19.0->datasets) (3.6)\n",
            "Requirement already satisfied: urllib3<3,>=1.21.1 in /usr/local/lib/python3.10/dist-packages (from requests>=2.19.0->datasets) (2.0.7)\n",
            "Requirement already satisfied: certifi>=2017.4.17 in /usr/local/lib/python3.10/dist-packages (from requests>=2.19.0->datasets) (2023.11.17)\n",
            "Requirement already satisfied: python-dateutil>=2.8.1 in /usr/local/lib/python3.10/dist-packages (from pandas->datasets) (2.8.2)\n",
            "Requirement already satisfied: pytz>=2020.1 in /usr/local/lib/python3.10/dist-packages (from pandas->datasets) (2023.3.post1)\n",
            "Requirement already satisfied: six>=1.5 in /usr/local/lib/python3.10/dist-packages (from python-dateutil>=2.8.1->pandas->datasets) (1.16.0)\n",
            "Installing collected packages: pyarrow-hotfix, dill, multiprocess, datasets\n",
            "Successfully installed datasets-2.15.0 dill-0.3.7 multiprocess-0.70.15 pyarrow-hotfix-0.6\n"
          ]
        }
      ],
      "source": [
        "pip install datasets"
      ]
    },
    {
      "cell_type": "code",
      "execution_count": 3,
      "metadata": {
        "colab": {
          "base_uri": "https://localhost:8080/"
        },
        "id": "3L_EYn7eQrWN",
        "outputId": "7d29763c-bc8e-42d0-dfb3-ed9a5ea88b0b"
      },
      "outputs": [
        {
          "output_type": "stream",
          "name": "stdout",
          "text": [
            "Requirement already satisfied: transformers[torch] in /usr/local/lib/python3.10/dist-packages (4.35.2)\n",
            "Requirement already satisfied: filelock in /usr/local/lib/python3.10/dist-packages (from transformers[torch]) (3.13.1)\n",
            "Requirement already satisfied: huggingface-hub<1.0,>=0.16.4 in /usr/local/lib/python3.10/dist-packages (from transformers[torch]) (0.19.4)\n",
            "Requirement already satisfied: numpy>=1.17 in /usr/local/lib/python3.10/dist-packages (from transformers[torch]) (1.23.5)\n",
            "Requirement already satisfied: packaging>=20.0 in /usr/local/lib/python3.10/dist-packages (from transformers[torch]) (23.2)\n",
            "Requirement already satisfied: pyyaml>=5.1 in /usr/local/lib/python3.10/dist-packages (from transformers[torch]) (6.0.1)\n",
            "Requirement already satisfied: regex!=2019.12.17 in /usr/local/lib/python3.10/dist-packages (from transformers[torch]) (2023.6.3)\n",
            "Requirement already satisfied: requests in /usr/local/lib/python3.10/dist-packages (from transformers[torch]) (2.31.0)\n",
            "Requirement already satisfied: tokenizers<0.19,>=0.14 in /usr/local/lib/python3.10/dist-packages (from transformers[torch]) (0.15.0)\n",
            "Requirement already satisfied: safetensors>=0.3.1 in /usr/local/lib/python3.10/dist-packages (from transformers[torch]) (0.4.1)\n",
            "Requirement already satisfied: tqdm>=4.27 in /usr/local/lib/python3.10/dist-packages (from transformers[torch]) (4.66.1)\n",
            "Requirement already satisfied: torch!=1.12.0,>=1.10 in /usr/local/lib/python3.10/dist-packages (from transformers[torch]) (2.1.0+cu121)\n",
            "Collecting accelerate>=0.20.3 (from transformers[torch])\n",
            "  Downloading accelerate-0.25.0-py3-none-any.whl (265 kB)\n",
            "\u001b[2K     \u001b[90m━━━━━━━━━━━━━━━━━━━━━━━━━━━━━━━━━━━━━━━━\u001b[0m \u001b[32m265.7/265.7 kB\u001b[0m \u001b[31m7.2 MB/s\u001b[0m eta \u001b[36m0:00:00\u001b[0m\n",
            "\u001b[?25hRequirement already satisfied: psutil in /usr/local/lib/python3.10/dist-packages (from accelerate>=0.20.3->transformers[torch]) (5.9.5)\n",
            "Requirement already satisfied: fsspec>=2023.5.0 in /usr/local/lib/python3.10/dist-packages (from huggingface-hub<1.0,>=0.16.4->transformers[torch]) (2023.6.0)\n",
            "Requirement already satisfied: typing-extensions>=3.7.4.3 in /usr/local/lib/python3.10/dist-packages (from huggingface-hub<1.0,>=0.16.4->transformers[torch]) (4.5.0)\n",
            "Requirement already satisfied: sympy in /usr/local/lib/python3.10/dist-packages (from torch!=1.12.0,>=1.10->transformers[torch]) (1.12)\n",
            "Requirement already satisfied: networkx in /usr/local/lib/python3.10/dist-packages (from torch!=1.12.0,>=1.10->transformers[torch]) (3.2.1)\n",
            "Requirement already satisfied: jinja2 in /usr/local/lib/python3.10/dist-packages (from torch!=1.12.0,>=1.10->transformers[torch]) (3.1.2)\n",
            "Requirement already satisfied: triton==2.1.0 in /usr/local/lib/python3.10/dist-packages (from torch!=1.12.0,>=1.10->transformers[torch]) (2.1.0)\n",
            "Requirement already satisfied: charset-normalizer<4,>=2 in /usr/local/lib/python3.10/dist-packages (from requests->transformers[torch]) (3.3.2)\n",
            "Requirement already satisfied: idna<4,>=2.5 in /usr/local/lib/python3.10/dist-packages (from requests->transformers[torch]) (3.6)\n",
            "Requirement already satisfied: urllib3<3,>=1.21.1 in /usr/local/lib/python3.10/dist-packages (from requests->transformers[torch]) (2.0.7)\n",
            "Requirement already satisfied: certifi>=2017.4.17 in /usr/local/lib/python3.10/dist-packages (from requests->transformers[torch]) (2023.11.17)\n",
            "Requirement already satisfied: MarkupSafe>=2.0 in /usr/local/lib/python3.10/dist-packages (from jinja2->torch!=1.12.0,>=1.10->transformers[torch]) (2.1.3)\n",
            "Requirement already satisfied: mpmath>=0.19 in /usr/local/lib/python3.10/dist-packages (from sympy->torch!=1.12.0,>=1.10->transformers[torch]) (1.3.0)\n",
            "Installing collected packages: accelerate\n",
            "Successfully installed accelerate-0.25.0\n"
          ]
        }
      ],
      "source": [
        "pip install transformers[torch]"
      ]
    },
    {
      "cell_type": "code",
      "execution_count": 4,
      "metadata": {
        "colab": {
          "base_uri": "https://localhost:8080/"
        },
        "id": "ugvX1SiJSRc0",
        "outputId": "fda04060-8dab-4d97-b624-5e4e711bcd99"
      },
      "outputs": [
        {
          "output_type": "stream",
          "name": "stdout",
          "text": [
            "Mounted at /content/drive\n"
          ]
        }
      ],
      "source": [
        "from google.colab import drive\n",
        "drive.mount('/content/drive')"
      ]
    },
    {
      "cell_type": "markdown",
      "metadata": {
        "id": "irhSJDB_wNLP"
      },
      "source": [
        "Load the dataset."
      ]
    },
    {
      "cell_type": "code",
      "execution_count": 5,
      "metadata": {
        "id": "RfxcOrE6Shy7"
      },
      "outputs": [],
      "source": [
        "df = pd.read_csv(\"/content/drive/MyDrive/CA4023/ParlVote+.csv\")"
      ]
    },
    {
      "cell_type": "code",
      "execution_count": 6,
      "metadata": {
        "id": "VtAzH8oKUbks"
      },
      "outputs": [],
      "source": [
        "from sklearn.model_selection import train_test_split\n",
        "from datasets import Dataset\n",
        "import numpy as np"
      ]
    },
    {
      "cell_type": "markdown",
      "metadata": {
        "id": "DxPMOMX0wQWR"
      },
      "source": [
        "Bert only takes integer labels, so I converted the partys to integers."
      ]
    },
    {
      "cell_type": "code",
      "execution_count": 7,
      "metadata": {
        "colab": {
          "base_uri": "https://localhost:8080/"
        },
        "id": "tlLgvoQwikAC",
        "outputId": "274231bf-7312-4196-f732-8b16e54cc4fe"
      },
      "outputs": [
        {
          "output_type": "stream",
          "name": "stdout",
          "text": [
            "{'labour': 0, 'labourco-operative': 1, 'scottish-national-party': 2, 'conservative': 3, 'liberal-democrat': 4, 'plaid-cymru': 5, 'uup': 6, 'social-democratic-and-labour-party': 7, 'independent': 8, 'dup': 9, 'independent-conservative': 10, 'independent-ulster-unionist': 11, 'respect': 12, 'ukip': 13, 'green': 14, 'alliance': 15}\n"
          ]
        }
      ],
      "source": [
        "unique_parties = df['party'].unique()\n",
        "label_dict = {party: i for i, party in enumerate(unique_parties)}\n",
        "\n",
        "# Print the label dictionary\n",
        "print(label_dict)"
      ]
    },
    {
      "cell_type": "markdown",
      "metadata": {
        "id": "uhVoAztXwWYR"
      },
      "source": [
        "Create the training, testing and validation sets."
      ]
    },
    {
      "cell_type": "code",
      "execution_count": 8,
      "metadata": {
        "id": "LQJGnvfYUY11"
      },
      "outputs": [],
      "source": [
        "ml_df = df[['speech', 'party']]\n",
        "\n",
        "# Separate features and labels\n",
        "X = ml_df['speech']\n",
        "y = ml_df['party']\n",
        "\n",
        "# Split the data into training and testing sets (80% train, 20% test)\n",
        "X_train, X_test, y_train, y_test = train_test_split(X, y, test_size=0.2, random_state=62, stratify=y)\n",
        "\n",
        "# Split the training set further into training and validation sets (80% train, 20% validation)\n",
        "X_train, X_val, y_train, y_val = train_test_split(X_train, y_train, test_size=0.2, random_state=62, stratify=y_train)\n"
      ]
    },
    {
      "cell_type": "markdown",
      "metadata": {
        "id": "77Af1Z6wwbv7"
      },
      "source": [
        "Bert requires the feature column to be called \"text\" and the label column to be called \"label\"."
      ]
    },
    {
      "cell_type": "code",
      "execution_count": 9,
      "metadata": {
        "id": "6R0nK9usJ9xs"
      },
      "outputs": [],
      "source": [
        "train_df = pd.DataFrame({\"text\": X_train, \"label\": y_train})\n",
        "test_df = pd.DataFrame({\"text\": X_test, \"label\": y_test})\n",
        "val_df = pd.DataFrame({\"text\": X_val, \"label\": y_val})"
      ]
    },
    {
      "cell_type": "markdown",
      "metadata": {
        "id": "AEvZOtPVwwdf"
      },
      "source": [
        "Convert the dataframes to HuggingFace datasets."
      ]
    },
    {
      "cell_type": "code",
      "execution_count": 10,
      "metadata": {
        "id": "kTFMlD36KYH7"
      },
      "outputs": [],
      "source": [
        "train_dataset = Dataset.from_pandas(train_df)\n",
        "test_dataset = Dataset.from_pandas(test_df)\n",
        "val_dataset = Dataset.from_pandas(val_df)"
      ]
    },
    {
      "cell_type": "code",
      "execution_count": 11,
      "metadata": {
        "id": "wWA8CcNdVnws"
      },
      "outputs": [],
      "source": [
        "train_dataset = train_dataset.remove_columns(\"__index_level_0__\")\n",
        "test_dataset = test_dataset.remove_columns(\"__index_level_0__\")\n",
        "val_dataset = val_dataset.remove_columns(\"__index_level_0__\")"
      ]
    },
    {
      "cell_type": "code",
      "execution_count": 12,
      "metadata": {
        "colab": {
          "base_uri": "https://localhost:8080/"
        },
        "id": "bU9jBVyO_pqJ",
        "outputId": "86bff16e-9454-465b-9e54-d33817eedd07"
      },
      "outputs": [
        {
          "output_type": "stream",
          "name": "stdout",
          "text": [
            "21318 6663 5330\n"
          ]
        }
      ],
      "source": [
        "print(len(train_dataset), len(test_dataset), len(val_dataset))"
      ]
    },
    {
      "cell_type": "code",
      "execution_count": 13,
      "metadata": {
        "colab": {
          "base_uri": "https://localhost:8080/",
          "height": 116,
          "referenced_widgets": [
            "4e00820a72b04018b89762cd1476d82c",
            "ebeb29a6621c4a1b87bdf73f736bceff",
            "b5b1d85d9da5435ebe075c19a5610e52",
            "87abc4f43e204929aa1d4654c2260150",
            "abad7fb1be9641a6b3e9faab7e053717",
            "ffdc8441182745ef9fa612493f7a8045",
            "e46d5e66ea484c648f06dfb1c16bc037",
            "69911b40c1db4260a95bc815bea5d4e2",
            "2af134bc5b2d4a87b61dce0dc93baa26",
            "ae09e06924b94288b5c7e9c84bb63d90",
            "f823849f814d4bd89f9f321c8886bca7",
            "60ff0d53b7d3469b8f806c1eebdd8119",
            "6e5e8fa5c1304908b9915a3306d22500",
            "20241512018040a08f334f8345e473e0",
            "05029595449b465991914abf4a3d460f",
            "73446575332f448494ea65875b708dec",
            "ad143f6852ce46b8a3c7ad264e6723fe",
            "11d8162ba77d4021a84751ebbd2f5aba",
            "57240fd8a4004458916076babb8b4599",
            "c6e474b0c66842abbcbddc0e5f9d4e07",
            "c5b5e09c77b141bcbdda0016288b94ba",
            "627380a73dfc4ae1b90797919344b85b"
          ]
        },
        "id": "JgJ2odbyUqb-",
        "outputId": "94dd3723-3cee-47eb-e8c5-f3b8937d8bf2"
      },
      "outputs": [
        {
          "output_type": "display_data",
          "data": {
            "text/plain": [
              "config.json:   0%|          | 0.00/570 [00:00<?, ?B/s]"
            ],
            "application/vnd.jupyter.widget-view+json": {
              "version_major": 2,
              "version_minor": 0,
              "model_id": "4e00820a72b04018b89762cd1476d82c"
            }
          },
          "metadata": {}
        },
        {
          "output_type": "display_data",
          "data": {
            "text/plain": [
              "model.safetensors:   0%|          | 0.00/436M [00:00<?, ?B/s]"
            ],
            "application/vnd.jupyter.widget-view+json": {
              "version_major": 2,
              "version_minor": 0,
              "model_id": "60ff0d53b7d3469b8f806c1eebdd8119"
            }
          },
          "metadata": {}
        },
        {
          "output_type": "stream",
          "name": "stderr",
          "text": [
            "Some weights of BertForSequenceClassification were not initialized from the model checkpoint at bert-base-cased and are newly initialized: ['classifier.weight', 'classifier.bias']\n",
            "You should probably TRAIN this model on a down-stream task to be able to use it for predictions and inference.\n"
          ]
        }
      ],
      "source": [
        "from transformers import AutoModelForSequenceClassification\n",
        "\n",
        "model = AutoModelForSequenceClassification.from_pretrained(\"bert-base-cased\", num_labels=16)"
      ]
    },
    {
      "cell_type": "markdown",
      "metadata": {
        "id": "ZcVB2XGkVLfA"
      },
      "source": [
        "Tokenize the speeches."
      ]
    },
    {
      "cell_type": "code",
      "execution_count": 14,
      "metadata": {
        "colab": {
          "base_uri": "https://localhost:8080/",
          "height": 113,
          "referenced_widgets": [
            "70457ab74aff4b7584ff9bc830e6976e",
            "44d26e28c48646279fec54095d9e0bfb",
            "2ce585ec3b794bfeb4c66e8d71d718a6",
            "1e0e47e912b94935beaec12df122f71d",
            "42b022f7145e40e39b3242037c67e6d3",
            "e693791c5cb04eb29281e25f9b8a6c03",
            "05f0da63b2234e718014284a604b9b79",
            "e9256939d6874855b06e63ccf288f0ee",
            "26d969d29cc74de0aabf0fe879d8d2e3",
            "c6036cca5b264ab58acef0c88e0d55dc",
            "b248d1fea3b64df5ac0efad0c05d76de",
            "0e7ef7a44deb4cbf8049fc066698e014",
            "58d57b25c2c947de8467ec93475b2713",
            "8eea6acb9c7343478c978fa2d03cb04b",
            "7f3109cf0b1a44bf8c9820cd2a90eed9",
            "6cd9d4bcfca74d13b03d32c28cae0e9b",
            "faba5c6176914ea69a2091206288d96e",
            "f2f281fa0bac42789db4f76ec94de25b",
            "941ddfef1237472d9389ff95632cc52f",
            "bcdbfe6f795d48838d639b897fa60b4d",
            "0e829886e3ca447395096f5e46128882",
            "7023f070bf8343bda9698a3480fb0728",
            "c7ae965fde12411790a9bc02bb7b0d1f",
            "718a7dc4c8ad42baaf6befe27a551e6c",
            "68fd9b7f57594c7d93f5b4d1de3cd9d7",
            "df7f4731589b412d8ef2efe72e2bba5b",
            "4546d4ff5df44ce680e75bbc23e1d3e0",
            "2bcff7b4dbcc4509b0e38821bdfb198c",
            "b56bc8c84a0547d3b9bcf84bb87cd339",
            "4a188bff608a47559e9b090e8b8dc15a",
            "5dac1042017a4f6d878fb387180e854b",
            "87224dbdd2b643ffad79077db4ebeb96",
            "ab6ffb2e625543d1bb91faefb54479ef"
          ]
        },
        "id": "HiVZtT08sH_9",
        "outputId": "dfd92ade-b494-4281-d4a1-0c394b370417"
      },
      "outputs": [
        {
          "output_type": "display_data",
          "data": {
            "text/plain": [
              "tokenizer_config.json:   0%|          | 0.00/29.0 [00:00<?, ?B/s]"
            ],
            "application/vnd.jupyter.widget-view+json": {
              "version_major": 2,
              "version_minor": 0,
              "model_id": "70457ab74aff4b7584ff9bc830e6976e"
            }
          },
          "metadata": {}
        },
        {
          "output_type": "display_data",
          "data": {
            "text/plain": [
              "vocab.txt:   0%|          | 0.00/213k [00:00<?, ?B/s]"
            ],
            "application/vnd.jupyter.widget-view+json": {
              "version_major": 2,
              "version_minor": 0,
              "model_id": "0e7ef7a44deb4cbf8049fc066698e014"
            }
          },
          "metadata": {}
        },
        {
          "output_type": "display_data",
          "data": {
            "text/plain": [
              "tokenizer.json:   0%|          | 0.00/436k [00:00<?, ?B/s]"
            ],
            "application/vnd.jupyter.widget-view+json": {
              "version_major": 2,
              "version_minor": 0,
              "model_id": "c7ae965fde12411790a9bc02bb7b0d1f"
            }
          },
          "metadata": {}
        }
      ],
      "source": [
        "from transformers import AutoTokenizer\n",
        "\n",
        "tokenizer = AutoTokenizer.from_pretrained(\"bert-base-cased\")\n",
        "\n",
        "def tokenize_dataset(dataset,tokenizer):\n",
        "  tokenized_dataset = []\n",
        "  for item in dataset:\n",
        "    tokenized = tokenizer(item[\"text\"],padding=\"max_length\", truncation=True)\n",
        "    item.update(tokenized)\n",
        "    item['label'] = label_dict[item['label']]\n",
        "    tokenized_dataset.append(item)\n",
        "  return tokenized_dataset\n",
        "\n",
        "tokenized_train = tokenize_dataset(train_dataset,tokenizer)\n",
        "tokenized_val = tokenize_dataset(val_dataset,tokenizer)\n",
        "tokenized_test = tokenize_dataset(test_dataset,tokenizer)"
      ]
    },
    {
      "cell_type": "code",
      "execution_count": 15,
      "metadata": {
        "id": "yzx59mArZ3WQ"
      },
      "outputs": [],
      "source": [
        "from transformers import TrainingArguments\n",
        "\n",
        "training_args = TrainingArguments(\"test_trainer\",evaluation_strategy=\"epoch\", num_train_epochs=3)"
      ]
    },
    {
      "cell_type": "code",
      "execution_count": 16,
      "metadata": {
        "colab": {
          "base_uri": "https://localhost:8080/",
          "height": 104,
          "referenced_widgets": [
            "7f9e2f04ff294d91a9dcbf168fca41f8",
            "27ff044225854e7cb9becbd5fc551d38",
            "236301f952264115a87424867f079c80",
            "32f1cf57c9314cbd87acccfeec704e4f",
            "d855dc480d5b45c08c604c06390f92d8",
            "12d07673390145c5a646ef5d63159cb2",
            "a21b891df8fa4d9e9e97384ba5225c6e",
            "89a6de74e04f449abe1f7656227fc0e2",
            "470c8ade1af14b46bc078c8e14eb6dc4",
            "6c6ba4e5da6f40d8ad9571894edd3de2",
            "6a46c6d0a1a94c41b66c83567d89b8ec"
          ]
        },
        "id": "bMdJFY6iuK89",
        "outputId": "f963c6e9-7cf7-4bfb-9fab-27eff248b1e8"
      },
      "outputs": [
        {
          "output_type": "stream",
          "name": "stderr",
          "text": [
            "<ipython-input-16-232cc753b777>:3: FutureWarning: load_metric is deprecated and will be removed in the next major version of datasets. Use 'evaluate.load' instead, from the new library 🤗 Evaluate: https://huggingface.co/docs/evaluate\n",
            "  metric = load_metric(\"accuracy\")\n"
          ]
        },
        {
          "output_type": "display_data",
          "data": {
            "text/plain": [
              "Downloading builder script:   0%|          | 0.00/1.65k [00:00<?, ?B/s]"
            ],
            "application/vnd.jupyter.widget-view+json": {
              "version_major": 2,
              "version_minor": 0,
              "model_id": "7f9e2f04ff294d91a9dcbf168fca41f8"
            }
          },
          "metadata": {}
        }
      ],
      "source": [
        "import numpy as np\n",
        "from datasets import load_metric\n",
        "metric = load_metric(\"accuracy\")\n",
        "\n",
        "def compute_metrics(eval_pred):\n",
        "    logits, labels = eval_pred\n",
        "    predictions = np.argmax(logits, axis=-1)\n",
        "    return metric.compute(predictions=predictions, references=labels)"
      ]
    },
    {
      "cell_type": "markdown",
      "source": [
        "My attempt to use class weights.\n"
      ],
      "metadata": {
        "id": "TmXN0GfPqzo-"
      }
    },
    {
      "cell_type": "code",
      "source": [
        "class_weights = {}\n",
        "\n",
        "# Use the same formula as scikit-learn's balanced weights\n",
        "for party in np.unique(train_dataset['label']):\n",
        "    occurrence = np.bincount(y_train == party)[1]\n",
        "    class_weights[party] = float(len(y_train) / (len(np.unique(y_train)) * occurrence))\n",
        "\n",
        "updated_class_weights = {label_dict[key]: value for key, value in class_weights.items()}\n",
        "print(updated_class_weights)\n",
        "\n",
        "# Create a list of weights with indices matching the keys\n",
        "weights_list = [updated_class_weights[key] for key in sorted(updated_class_weights.keys())]\n",
        "print(weights_list)"
      ],
      "metadata": {
        "colab": {
          "base_uri": "https://localhost:8080/"
        },
        "id": "kaTZrUmYq1j6",
        "outputId": "1f7576ef-b478-4f06-b322-c2ce1514eed7"
      },
      "execution_count": 47,
      "outputs": [
        {
          "output_type": "stream",
          "name": "stdout",
          "text": [
            "{15: 148.04166666666666, 3: 0.15422791989813636, 9: 3.6010135135135135, 14: 18.00506756756757, 8: 9.125856164383562, 10: 444.125, 11: 222.0625, 0: 0.15897565922920892, 1: 2.659431137724551, 4: 0.7284718425369054, 5: 6.197093023255814, 12: 333.09375, 2: 1.4593373493975903, 7: 11.011363636363637, 13: 148.04166666666666, 6: 13.595663265306122}\n",
            "[0.15897565922920892, 2.659431137724551, 1.4593373493975903, 0.15422791989813636, 0.7284718425369054, 6.197093023255814, 13.595663265306122, 11.011363636363637, 9.125856164383562, 3.6010135135135135, 444.125, 222.0625, 333.09375, 148.04166666666666, 18.00506756756757, 148.04166666666666]\n"
          ]
        }
      ]
    },
    {
      "cell_type": "markdown",
      "source": [
        "Create a CustomTrainer with a weighted loss function."
      ],
      "metadata": {
        "id": "RYT9zhU8rCWf"
      }
    },
    {
      "cell_type": "code",
      "source": [
        "import torch\n",
        "from transformers import Trainer\n",
        "from torch import nn\n",
        "\n",
        "class CustomTrainer(Trainer):\n",
        "    def compute_loss(self, model, inputs, return_outputs=False):\n",
        "        labels = inputs.pop(\"labels\")\n",
        "        # forward pass\n",
        "        outputs = model(**inputs)\n",
        "        logits = outputs.get(\"logits\")\n",
        "        # compute custom loss\n",
        "        loss_fct = nn.CrossEntropyLoss(weight=torch.tensor(weights_list, device=model.device))\n",
        "        loss = loss_fct(logits.view(-1, self.model.config.num_labels), labels.view(-1))\n",
        "        return (loss, outputs) if return_outputs else loss"
      ],
      "metadata": {
        "id": "lzm8ECRbq7x8"
      },
      "execution_count": 48,
      "outputs": []
    },
    {
      "cell_type": "markdown",
      "metadata": {
        "id": "DxUNAvhRw_Ud"
      },
      "source": [
        "Set the model parameters."
      ]
    },
    {
      "cell_type": "markdown",
      "source": [
        "Choose between the unweighted and weighted trainer."
      ],
      "metadata": {
        "id": "ECsOSqOlrKgX"
      }
    },
    {
      "cell_type": "code",
      "execution_count": 49,
      "metadata": {
        "id": "8Qdmx6WxuMfH"
      },
      "outputs": [],
      "source": [
        "from transformers import Trainer\n",
        "\n",
        "trainer = Trainer(\n",
        "    model=model,\n",
        "    args=training_args,\n",
        "    train_dataset=tokenized_train,\n",
        "    eval_dataset=tokenized_val,\n",
        "    compute_metrics = compute_metrics\n",
        ")"
      ]
    },
    {
      "cell_type": "code",
      "source": [
        "# from transformers import Trainer\n",
        "\n",
        "# trainer = CustomTrainer(\n",
        "#     model=model,\n",
        "#     args=training_args,\n",
        "#     train_dataset=tokenized_train,\n",
        "#     eval_dataset=tokenized_val,\n",
        "#     compute_metrics = compute_metrics"
      ],
      "metadata": {
        "colab": {
          "base_uri": "https://localhost:8080/",
          "height": 142
        },
        "id": "6U3JiJiKrNpP",
        "outputId": "765606f6-13bc-41e7-d98a-fb5af3ba6c52"
      },
      "execution_count": 50,
      "outputs": [
        {
          "output_type": "error",
          "ename": "SyntaxError",
          "evalue": "ignored",
          "traceback": [
            "\u001b[0;36m  File \u001b[0;32m\"<ipython-input-50-41474cae685e>\"\u001b[0;36m, line \u001b[0;32m9\u001b[0m\n\u001b[0;31m    )\u001b[0m\n\u001b[0m    ^\u001b[0m\n\u001b[0;31mSyntaxError\u001b[0m\u001b[0;31m:\u001b[0m unmatched ')'\n"
          ]
        }
      ]
    },
    {
      "cell_type": "markdown",
      "metadata": {
        "id": "HXrxfXRZxBd3"
      },
      "source": [
        "Train the model."
      ]
    },
    {
      "cell_type": "code",
      "execution_count": 51,
      "metadata": {
        "colab": {
          "base_uri": "https://localhost:8080/",
          "height": 205
        },
        "id": "P-fHnVSkusnX",
        "outputId": "1b1d7afd-c3dc-4751-8af6-a8630191dc27"
      },
      "outputs": [
        {
          "output_type": "display_data",
          "data": {
            "text/plain": [
              "<IPython.core.display.HTML object>"
            ],
            "text/html": [
              "\n",
              "    <div>\n",
              "      \n",
              "      <progress value='7995' max='7995' style='width:300px; height:20px; vertical-align: middle;'></progress>\n",
              "      [7995/7995 37:09, Epoch 3/3]\n",
              "    </div>\n",
              "    <table border=\"1\" class=\"dataframe\">\n",
              "  <thead>\n",
              " <tr style=\"text-align: left;\">\n",
              "      <th>Epoch</th>\n",
              "      <th>Training Loss</th>\n",
              "      <th>Validation Loss</th>\n",
              "      <th>Accuracy</th>\n",
              "    </tr>\n",
              "  </thead>\n",
              "  <tbody>\n",
              "    <tr>\n",
              "      <td>1</td>\n",
              "      <td>1.315000</td>\n",
              "      <td>1.255088</td>\n",
              "      <td>0.512008</td>\n",
              "    </tr>\n",
              "    <tr>\n",
              "      <td>2</td>\n",
              "      <td>1.152500</td>\n",
              "      <td>1.165745</td>\n",
              "      <td>0.556660</td>\n",
              "    </tr>\n",
              "    <tr>\n",
              "      <td>3</td>\n",
              "      <td>0.930800</td>\n",
              "      <td>1.220331</td>\n",
              "      <td>0.565291</td>\n",
              "    </tr>\n",
              "  </tbody>\n",
              "</table><p>"
            ]
          },
          "metadata": {}
        },
        {
          "output_type": "execute_result",
          "data": {
            "text/plain": [
              "TrainOutput(global_step=7995, training_loss=1.162077277149537, metrics={'train_runtime': 2230.9923, 'train_samples_per_second': 28.666, 'train_steps_per_second': 3.584, 'total_flos': 1.6829119594856448e+16, 'train_loss': 1.162077277149537, 'epoch': 3.0})"
            ]
          },
          "metadata": {},
          "execution_count": 51
        }
      ],
      "source": [
        "trainer.train()"
      ]
    },
    {
      "cell_type": "code",
      "execution_count": 83,
      "metadata": {
        "id": "SIm4u--9Jmij"
      },
      "outputs": [],
      "source": [
        "trainer.save_model(\"/content/drive/MyDrive/CA4023/bert\")"
      ]
    },
    {
      "cell_type": "code",
      "execution_count": 53,
      "metadata": {
        "colab": {
          "base_uri": "https://localhost:8080/",
          "height": 143
        },
        "id": "OFABv7T7uvOB",
        "outputId": "2065c32b-7f4d-4b79-a93d-a1a44023dbc4"
      },
      "outputs": [
        {
          "output_type": "display_data",
          "data": {
            "text/plain": [
              "<IPython.core.display.HTML object>"
            ],
            "text/html": [
              "\n",
              "    <div>\n",
              "      \n",
              "      <progress value='833' max='833' style='width:300px; height:20px; vertical-align: middle;'></progress>\n",
              "      [833/833 01:07]\n",
              "    </div>\n",
              "    "
            ]
          },
          "metadata": {}
        },
        {
          "output_type": "execute_result",
          "data": {
            "text/plain": [
              "{'eval_loss': 1.196746826171875,\n",
              " 'eval_accuracy': 0.579468707789284,\n",
              " 'eval_runtime': 67.9908,\n",
              " 'eval_samples_per_second': 97.999,\n",
              " 'eval_steps_per_second': 12.252,\n",
              " 'epoch': 3.0}"
            ]
          },
          "metadata": {},
          "execution_count": 53
        }
      ],
      "source": [
        "trainer.evaluate(tokenized_test)"
      ]
    },
    {
      "cell_type": "code",
      "execution_count": 54,
      "metadata": {
        "colab": {
          "base_uri": "https://localhost:8080/",
          "height": 17
        },
        "id": "et2cYNBEqo6G",
        "outputId": "579483bc-4b01-4290-c772-51b174a3ee7c"
      },
      "outputs": [
        {
          "output_type": "display_data",
          "data": {
            "text/plain": [
              "<IPython.core.display.HTML object>"
            ],
            "text/html": []
          },
          "metadata": {}
        }
      ],
      "source": [
        "predictions = trainer.predict(tokenized_test)"
      ]
    },
    {
      "cell_type": "code",
      "execution_count": 55,
      "metadata": {
        "colab": {
          "base_uri": "https://localhost:8080/"
        },
        "id": "WSWHX98uq_rI",
        "outputId": "2e7ee587-1142-4698-b76e-0a65b55a717b"
      },
      "outputs": [
        {
          "output_type": "stream",
          "name": "stdout",
          "text": [
            "PredictionOutput(predictions=array([[ 4.9581633 ,  2.0783215 , -0.14955413, ..., -3.9742467 ,\n",
            "        -1.971783  , -4.3814197 ],\n",
            "       [ 3.15072   ,  0.7886949 , -0.03045169, ..., -3.596786  ,\n",
            "        -1.6494777 , -4.144554  ],\n",
            "       [ 3.9917543 ,  0.63038516, -1.3032236 , ..., -3.797861  ,\n",
            "        -1.8224882 , -3.7930496 ],\n",
            "       ...,\n",
            "       [ 1.6123435 , -1.2843546 , -1.1176488 , ..., -3.315163  ,\n",
            "        -1.491772  , -3.1000147 ],\n",
            "       [ 5.788758  ,  2.4049222 ,  0.19824277, ..., -3.8444047 ,\n",
            "        -1.5294923 , -3.827639  ],\n",
            "       [ 3.937896  ,  1.1568533 , -0.868874  , ..., -4.0261736 ,\n",
            "        -2.1152086 , -4.6193185 ]], dtype=float32), label_ids=array([0, 2, 0, ..., 3, 0, 0]), metrics={'test_loss': 1.196746826171875, 'test_accuracy': 0.579468707789284, 'test_runtime': 70.7997, 'test_samples_per_second': 94.111, 'test_steps_per_second': 11.766})\n"
          ]
        }
      ],
      "source": [
        "print(predictions)"
      ]
    },
    {
      "cell_type": "markdown",
      "metadata": {
        "id": "JcO8cDiExHeu"
      },
      "source": [
        "Retrieve the predictions."
      ]
    },
    {
      "cell_type": "code",
      "execution_count": 56,
      "metadata": {
        "id": "blqWtiljsInu"
      },
      "outputs": [],
      "source": [
        "def get_predictions_by_type(dataset):\n",
        "\n",
        "  y_test = []\n",
        "  y_pred = []\n",
        "  for i,item in enumerate(dataset):\n",
        "    y_test.append(item['label'])\n",
        "    predicted = np.argmax(predictions.predictions[i])\n",
        "    y_pred.append(predicted)\n",
        "  return y_pred, y_test\n",
        "\n",
        "y_pred, y_test = get_predictions_by_type(tokenized_test)"
      ]
    },
    {
      "cell_type": "code",
      "execution_count": 57,
      "metadata": {
        "colab": {
          "base_uri": "https://localhost:8080/"
        },
        "id": "yifoba-IsYba",
        "outputId": "57187ee9-5c20-4c3a-d8f4-e51060d0825c"
      },
      "outputs": [
        {
          "output_type": "stream",
          "name": "stdout",
          "text": [
            "[0, 2, 0, 3, 3, 4, 0, 0, 0, 3, 3, 0, 0, 0, 2, 3, 3, 3, 0, 0, 0, 3, 3, 3, 3, 2, 3, 4, 0, 3, 3, 0, 3, 3, 3, 0, 0, 0, 3, 3, 4, 0, 0, 4, 3, 0, 0, 0, 0, 3, 3, 1, 3, 3, 0, 5, 0, 3, 0, 0, 3, 0, 3, 4, 0, 3, 4, 0, 0, 1, 0, 3, 3, 0, 3, 0, 0, 4, 0, 3, 3, 0, 0, 0, 3, 0, 0, 3, 3, 0, 0, 3, 3, 0, 4, 4, 0, 4, 3, 3, 1, 0, 3, 0, 0, 0, 3, 4, 3, 3, 0, 0, 4, 3, 0, 0, 0, 5, 3, 3, 0, 3, 3, 3, 0, 3, 3, 3, 4, 3, 3, 0, 3, 3, 3, 0, 0, 3, 3, 0, 1, 3, 4, 3, 0, 3, 4, 0, 0, 0, 3, 3, 0, 3, 3, 0, 0, 3, 0, 4, 5, 0, 0, 3, 9, 4, 2, 0, 4, 3, 0, 4, 0, 3, 3, 0, 3, 0, 0, 0, 4, 3, 0, 4, 0, 3, 0, 7, 3, 3, 0, 0, 3, 0, 0, 2, 3, 3, 3, 4, 3, 0, 4, 3, 3, 3, 3, 3, 3, 4, 0, 3, 3, 2, 3, 3, 4, 4, 3, 3, 3, 3, 0, 0, 3, 0, 3, 0, 3, 1, 2, 3, 0, 4, 2, 3, 0, 0, 3, 3, 3, 3, 3, 4, 3, 0, 4, 3, 3, 3, 0, 9, 0, 2, 9, 0, 5, 3, 0, 0, 3, 1, 0, 0, 0, 0, 3, 2, 0, 3, 3, 0, 3, 0, 0, 0, 3, 0, 3, 3, 3, 8, 0, 0, 3, 0, 3, 3, 4, 0, 8, 3, 1, 3, 0, 0, 3, 0, 2, 0, 9, 0, 2, 0, 3, 0, 0, 3, 0, 3, 0, 3, 3, 0, 0, 3, 0, 3, 0, 4, 4, 0, 0, 4, 0, 0, 3, 0, 0, 0, 3, 3, 0, 3, 0, 0, 4, 0, 3, 0, 0, 2, 0, 4, 3, 4, 0, 0, 0, 3, 3, 2, 4, 3, 3, 0, 3, 3, 0, 8, 0, 0, 4, 3, 3, 2, 3, 3, 2, 3, 0, 4, 4, 3, 0, 0, 3, 0, 3, 3, 0, 1, 0, 2, 3, 0, 0, 3, 3, 0, 3, 0, 0, 14, 3, 3, 9, 0, 3, 0, 0, 3, 1, 0, 0, 0, 4, 3, 1, 3, 3, 3, 3, 3, 3, 0, 0, 3, 0, 3, 3, 3, 0, 3, 0, 2, 0, 3, 0, 3, 0, 1, 3, 3, 0, 4, 3, 3, 2, 0, 3, 4, 3, 3, 0, 0, 0, 0, 3, 0, 0, 3, 3, 3, 0, 2, 3, 3, 3, 3, 0, 0, 0, 0, 0, 3, 0, 0, 4, 3, 3, 14, 3, 0, 0, 4, 0, 0, 3, 3, 3, 0, 4, 3, 0, 3, 4, 9, 0, 3, 0, 0, 0, 3, 3, 0, 4, 4, 0, 0, 3, 0, 3, 3, 0, 0, 0, 3, 0, 4, 3, 0, 3, 0, 5, 2, 0, 4, 4, 2, 0, 3, 3, 3, 3, 9, 0, 0, 3, 3, 9, 0, 1, 0, 3, 0, 0, 3, 0, 0, 3, 0, 3, 0, 0, 3, 0, 1, 0, 4, 3, 0, 3, 2, 0, 0, 0, 0, 3, 0, 0, 0, 0, 3, 3, 4, 0, 3, 0, 3, 3, 0, 0, 0, 3, 0, 9, 2, 2, 3, 3, 3, 0, 0, 3, 0, 0, 3, 3, 0, 3, 0, 0, 0, 8, 0, 0, 0, 0, 3, 3, 0, 8, 3, 3, 3, 3, 0, 0, 2, 0, 3, 0, 3, 3, 0, 3, 4, 0, 0, 0, 4, 3, 3, 0, 3, 3, 3, 0, 0, 8, 4, 3, 0, 0, 0, 0, 3, 3, 4, 0, 1, 3, 3, 0, 3, 0, 0, 3, 4, 3, 0, 3, 3, 0, 4, 0, 4, 2, 3, 3, 0, 3, 3, 0, 3, 0, 9, 3, 0, 3, 0, 3, 0, 3, 3, 3, 0, 0, 3, 3, 0, 3, 3, 3, 3, 5, 3, 0, 5, 3, 4, 0, 0, 3, 0, 0, 0, 2, 0, 9, 0, 0, 0, 3, 3, 0, 0, 3, 3, 3, 3, 4, 3, 3, 3, 0, 3, 0, 3, 0, 0, 3, 0, 3, 3, 2, 4, 3, 0, 3, 3, 0, 3, 0, 0, 4, 0, 0, 3, 3, 1, 9, 0, 4, 3, 4, 0, 0, 0, 2, 0, 4, 0, 3, 3, 3, 0, 3, 1, 0, 4, 0, 3, 3, 3, 4, 0, 3, 3, 4, 4, 0, 3, 0, 0, 2, 8, 0, 0, 3, 0, 3, 0, 0, 0, 0, 0, 3, 0, 0, 0, 4, 3, 3, 0, 0, 0, 0, 3, 3, 0, 0, 0, 3, 3, 3, 3, 0, 0, 4, 0, 3, 4, 0, 3, 4, 3, 3, 3, 0, 0, 3, 3, 0, 4, 0, 3, 0, 0, 0, 4, 3, 3, 3, 3, 4, 0, 0, 4, 2, 0, 3, 3, 3, 0, 4, 0, 3, 0, 3, 4, 0, 3, 4, 3, 0, 2, 0, 3, 3, 3, 0, 0, 3, 9, 1, 0, 11, 3, 3, 0, 0, 3, 9, 0, 0, 3, 3, 3, 3, 3, 0, 0, 0, 3, 0, 0, 0, 5, 3, 4, 3, 3, 3, 0, 4, 3, 0, 0, 3, 0, 3, 0, 0, 0, 4, 3, 0, 3, 5, 0, 3, 3, 3, 0, 0, 3, 0, 3, 3, 4, 0, 3, 3, 0, 3, 7, 0, 0, 3, 3, 3, 3, 0, 0, 4, 4, 0, 3, 3, 3, 3, 3, 0, 3, 3, 2, 3, 0, 0, 3, 4, 1, 0, 3, 0, 3, 3, 3, 3, 1, 2, 3, 3, 3, 0, 4, 3, 3, 0, 4, 0, 2, 3, 4, 3, 0, 3, 3, 3, 3, 3, 3, 3, 0, 3, 3, 0, 0, 2, 3, 0, 0, 3, 0, 0, 0, 3, 3, 4, 0, 3, 0, 0, 0, 3, 3, 4, 3, 3, 3, 4, 0, 0, 0, 3, 3, 2, 4, 3, 3, 3, 3, 4, 3, 0, 0, 0, 3, 0, 9, 3, 3, 0, 0, 0, 3, 4, 3, 0, 0, 0, 0, 0, 3, 0, 0, 3, 3, 4, 0, 0, 0, 0, 0, 9, 0, 0, 4, 0, 0, 4, 3, 3, 3, 8, 0, 3, 0, 0, 4, 0, 0, 5, 3, 0, 9, 3, 1, 3, 0, 4, 3, 3, 3, 0, 0, 0, 0, 0, 3, 0, 0, 0, 4, 4, 4, 3, 4, 3, 3, 0, 3, 0, 4, 0, 3, 1, 0, 0, 4, 3, 4, 3, 0, 4, 0, 0, 4, 0, 3, 5, 3, 0, 0, 3, 3, 2, 3, 0, 3, 3, 3, 9, 3, 0, 0, 3, 0, 4, 0, 3, 2, 3, 0, 3, 2, 0, 3, 8, 2, 3, 1, 1, 3, 3, 2, 3, 0, 3, 3, 9, 3, 3, 0, 3, 0, 2, 9, 3, 0, 3, 3, 3, 3, 2, 0, 3, 4, 3, 3, 8, 0, 3, 0, 4, 8, 0, 3, 3, 0, 9, 2, 7, 3, 9, 0, 3, 9, 0, 3, 0, 3, 1, 3, 3, 3, 3, 0, 4, 0, 1, 3, 3, 3, 3, 0, 3, 3, 0, 0, 4, 0, 3, 3, 3, 3, 2, 3, 3, 0, 3, 0, 5, 3, 3, 3, 3, 0, 3, 8, 0, 4, 4, 3, 3, 3, 0, 0, 0, 3, 4, 4, 3, 0, 3, 3, 0, 0, 3, 3, 0, 3, 0, 0, 0, 9, 3, 9, 3, 3, 0, 0, 3, 3, 0, 3, 0, 0, 3, 4, 0, 3, 4, 3, 0, 3, 3, 0, 0, 2, 9, 3, 3, 3, 0, 0, 0, 0, 3, 4, 3, 3, 3, 0, 3, 3, 0, 0, 0, 0, 0, 9, 0, 2, 3, 3, 3, 0, 0, 3, 0, 3, 3, 0, 3, 1, 3, 3, 3, 3, 4, 1, 0, 0, 0, 3, 3, 0, 0, 0, 1, 1, 0, 3, 3, 3, 0, 3, 0, 3, 0, 0, 0, 0, 0, 4, 0, 3, 3, 0, 3, 0, 0, 3, 0, 0, 0, 0, 0, 3, 0, 0, 3, 2, 0, 0, 0, 3, 3, 0, 4, 3, 2, 0, 3, 0, 3, 0, 3, 0, 3, 3, 0, 0, 3, 5, 3, 3, 0, 0, 3, 3, 4, 2, 3, 4, 3, 0, 3, 3, 3, 3, 4, 3, 0, 3, 3, 0, 3, 3, 0, 2, 3, 4, 0, 0, 3, 3, 0, 0, 0, 6, 9, 0, 3, 4, 0, 0, 0, 0, 6, 4, 0, 3, 5, 0, 3, 9, 3, 3, 3, 0, 0, 2, 0, 4, 1, 0, 3, 8, 3, 3, 3, 4, 0, 0, 3, 0, 0, 3, 4, 3, 4, 1, 0, 7, 4, 0, 3, 0, 3, 4, 5, 0, 4, 3, 4, 3, 0, 0, 3, 0, 2, 4, 0, 0, 3, 2, 3, 5, 3, 0, 3, 9, 4, 3, 0, 0, 3, 4, 1, 3, 3, 0, 3, 3, 3, 0, 4, 3, 3, 0, 0, 4, 3, 0, 3, 2, 9, 3, 0, 0, 3, 0, 9, 3, 1, 0, 0, 9, 0, 0, 3, 3, 4, 0, 0, 3, 3, 3, 3, 3, 3, 9, 0, 3, 0, 3, 0, 0, 0, 3, 0, 4, 3, 0, 0, 0, 3, 0, 2, 3, 3, 3, 0, 0, 0, 3, 3, 3, 3, 3, 0, 2, 0, 3, 4, 0, 4, 0, 3, 0, 3, 0, 0, 3, 0, 0, 4, 4, 4, 0, 3, 0, 3, 0, 3, 0, 0, 4, 3, 1, 3, 5, 3, 0, 3, 3, 3, 4, 4, 5, 3, 0, 3, 4, 0, 0, 3, 4, 4, 3, 8, 0, 0, 3, 3, 3, 3, 3, 0, 0, 3, 0, 0, 3, 0, 3, 0, 0, 0, 4, 0, 3, 0, 3, 3, 0, 0, 0, 3, 3, 0, 3, 4, 0, 0, 3, 3, 0, 3, 3, 3, 3, 0, 0, 2, 0, 13, 0, 2, 3, 5, 0, 0, 3, 3, 9, 0, 0, 3, 0, 3, 0, 0, 3, 0, 0, 3, 0, 3, 3, 3, 0, 3, 0, 3, 0, 0, 0, 2, 4, 3, 4, 0, 1, 3, 3, 1, 4, 0, 3, 3, 0, 3, 3, 0, 4, 3, 3, 3, 3, 4, 3, 0, 3, 3, 0, 3, 0, 3, 3, 4, 2, 0, 4, 3, 0, 4, 0, 3, 3, 4, 3, 0, 0, 3, 3, 3, 3, 3, 0, 3, 3, 4, 8, 3, 0, 1, 0, 0, 3, 2, 0, 3, 0, 3, 7, 3, 0, 0, 3, 0, 5, 3, 0, 3, 3, 2, 4, 0, 0, 0, 0, 0, 0, 3, 4, 4, 3, 3, 0, 3, 3, 3, 3, 9, 0, 0, 0, 1, 0, 7, 0, 0, 3, 4, 3, 3, 0, 3, 3, 3, 0, 4, 0, 1, 3, 3, 3, 0, 3, 0, 0, 3, 3, 0, 3, 3, 3, 0, 3, 0, 3, 0, 3, 0, 3, 3, 2, 3, 0, 3, 3, 6, 3, 4, 0, 0, 0, 3, 3, 4, 3, 3, 0, 3, 3, 0, 5, 2, 3, 4, 3, 3, 3, 0, 3, 3, 0, 3, 0, 5, 3, 0, 0, 0, 3, 0, 6, 0, 0, 3, 0, 0, 0, 0, 3, 4, 3, 0, 0, 0, 0, 0, 3, 4, 4, 0, 3, 3, 3, 0, 9, 0, 3, 3, 3, 3, 3, 3, 0, 3, 0, 4, 3, 0, 0, 0, 0, 3, 14, 0, 3, 0, 0, 3, 3, 3, 3, 3, 3, 0, 3, 0, 0, 9, 14, 3, 4, 0, 3, 0, 3, 3, 3, 7, 4, 3, 3, 3, 3, 4, 3, 2, 0, 0, 3, 3, 1, 3, 3, 3, 5, 0, 3, 3, 3, 4, 0, 3, 0, 1, 0, 0, 3, 0, 0, 0, 0, 4, 0, 6, 0, 0, 0, 0, 3, 3, 0, 3, 3, 0, 0, 0, 3, 4, 0, 0, 0, 4, 0, 3, 0, 3, 3, 0, 2, 4, 9, 4, 3, 0, 3, 3, 0, 3, 0, 0, 0, 6, 3, 3, 3, 4, 0, 0, 0, 3, 5, 4, 3, 3, 3, 4, 0, 2, 3, 0, 9, 3, 0, 3, 0, 3, 0, 3, 3, 0, 3, 0, 3, 3, 0, 3, 3, 3, 0, 3, 3, 3, 7, 4, 3, 1, 3, 3, 0, 0, 3, 0, 4, 3, 3, 0, 5, 0, 0, 3, 3, 0, 4, 0, 3, 0, 0, 3, 3, 3, 3, 3, 0, 0, 3, 0, 2, 0, 0, 3, 0, 0, 3, 1, 3, 3, 3, 0, 8, 2, 0, 0, 0, 3, 3, 3, 4, 0, 3, 3, 0, 0, 0, 3, 0, 0, 3, 0, 3, 0, 7, 0, 4, 0, 3, 0, 4, 3, 4, 0, 0, 3, 4, 0, 4, 0, 3, 1, 0, 3, 3, 3, 3, 3, 3, 3, 3, 0, 4, 0, 3, 0, 3, 0, 0, 0, 3, 3, 7, 0, 0, 3, 0, 3, 3, 0, 3, 0, 3, 3, 4, 0, 3, 4, 3, 3, 3, 0, 0, 2, 3, 0, 3, 3, 3, 3, 3, 0, 0, 0, 14, 3, 4, 0, 0, 0, 3, 0, 0, 3, 3, 3, 3, 3, 3, 3, 0, 0, 0, 3, 0, 0, 3, 3, 3, 0, 5, 0, 3, 3, 3, 3, 3, 0, 0, 3, 0, 0, 3, 0, 4, 0, 3, 2, 0, 4, 3, 0, 0, 0, 9, 9, 7, 3, 0, 2, 0, 2, 3, 0, 0, 0, 0, 4, 2, 0, 3, 3, 0, 0, 3, 3, 1, 0, 0, 0, 0, 3, 4, 0, 0, 0, 3, 0, 0, 3, 3, 0, 6, 0, 0, 0, 3, 3, 4, 3, 3, 0, 3, 4, 3, 3, 0, 0, 0, 0, 0, 0, 4, 3, 3, 3, 3, 0, 0, 4, 0, 0, 0, 0, 0, 3, 0, 0, 0, 0, 3, 3, 4, 3, 6, 3, 10, 0, 9, 0, 4, 3, 3, 0, 4, 0, 0, 3, 3, 0, 0, 0, 3, 0, 3, 0, 3, 3, 3, 0, 4, 0, 0, 4, 1, 9, 2, 3, 3, 0, 0, 0, 1, 3, 3, 3, 3, 0, 4, 0, 9, 3, 0, 1, 5, 0, 3, 1, 0, 8, 2, 3, 3, 0, 0, 0, 7, 3, 3, 0, 0, 1, 0, 0, 0, 0, 3, 0, 3, 3, 3, 0, 0, 3, 9, 3, 3, 3, 4, 0, 3, 3, 4, 3, 3, 3, 0, 3, 0, 3, 3, 0, 3, 3, 0, 0, 4, 3, 3, 3, 0, 0, 3, 0, 0, 4, 2, 4, 5, 0, 3, 0, 3, 0, 0, 3, 3, 3, 3, 3, 3, 5, 4, 4, 0, 3, 3, 0, 3, 0, 3, 0, 0, 0, 0, 3, 3, 0, 0, 0, 3, 7, 3, 4, 0, 3, 0, 2, 2, 3, 0, 4, 3, 0, 4, 2, 3, 3, 0, 0, 3, 3, 3, 0, 4, 0, 3, 3, 0, 3, 3, 0, 4, 3, 0, 0, 5, 3, 0, 0, 0, 0, 0, 3, 3, 3, 0, 4, 3, 3, 0, 0, 3, 1, 0, 3, 3, 0, 0, 0, 0, 3, 0, 3, 2, 3, 3, 0, 3, 0, 3, 3, 0, 6, 3, 3, 3, 3, 0, 0, 0, 0, 3, 0, 3, 2, 3, 4, 3, 3, 0, 3, 1, 3, 2, 6, 0, 0, 0, 1, 3, 2, 0, 0, 2, 3, 3, 4, 0, 0, 0, 0, 0, 2, 3, 0, 0, 3, 4, 4, 0, 4, 3, 0, 3, 3, 0, 3, 3, 2, 0, 3, 3, 3, 3, 3, 0, 0, 3, 0, 0, 11, 0, 3, 3, 3, 0, 4, 1, 2, 3, 0, 0, 0, 3, 4, 3, 2, 0, 0, 3, 7, 4, 5, 2, 0, 3, 3, 1, 0, 3, 3, 3, 0, 3, 0, 3, 1, 3, 3, 3, 3, 4, 0, 0, 9, 0, 3, 0, 0, 7, 0, 0, 3, 0, 0, 3, 4, 4, 0, 0, 4, 0, 0, 0, 3, 3, 0, 0, 3, 3, 3, 3, 4, 3, 3, 3, 0, 0, 0, 2, 3, 0, 0, 3, 0, 3, 3, 3, 3, 8, 0, 9, 0, 2, 0, 0, 0, 3, 13, 0, 0, 3, 3, 9, 0, 3, 3, 0, 0, 3, 3, 4, 3, 0, 0, 3, 0, 2, 0, 0, 0, 0, 3, 0, 3, 0, 3, 0, 9, 3, 2, 4, 8, 0, 0, 4, 0, 3, 0, 3, 4, 2, 3, 0, 3, 3, 0, 3, 3, 0, 0, 0, 0, 0, 3, 3, 3, 3, 3, 2, 1, 0, 0, 2, 5, 3, 3, 0, 3, 3, 0, 9, 3, 3, 3, 0, 0, 3, 3, 9, 3, 4, 3, 4, 3, 0, 0, 3, 3, 14, 3, 3, 3, 5, 3, 3, 0, 3, 3, 0, 3, 3, 0, 3, 0, 0, 0, 0, 0, 3, 3, 0, 3, 3, 3, 0, 2, 0, 3, 0, 0, 7, 3, 3, 0, 3, 0, 0, 3, 0, 4, 3, 4, 8, 3, 3, 3, 3, 0, 2, 4, 6, 0, 3, 0, 3, 3, 3, 3, 4, 0, 0, 0, 0, 3, 3, 3, 0, 2, 2, 0, 0, 4, 3, 4, 3, 2, 3, 1, 0, 0, 0, 0, 0, 0, 0, 8, 4, 0, 3, 3, 3, 0, 0, 3, 3, 7, 0, 0, 0, 0, 3, 2, 0, 3, 3, 3, 3, 3, 2, 3, 3, 3, 0, 3, 3, 2, 3, 0, 4, 3, 3, 0, 3, 4, 3, 0, 0, 3, 3, 3, 0, 0, 0, 0, 0, 0, 0, 3, 0, 4, 3, 3, 0, 0, 2, 3, 3, 0, 3, 3, 3, 0, 0, 0, 0, 0, 3, 0, 0, 0, 0, 0, 3, 4, 3, 3, 3, 3, 3, 0, 3, 0, 3, 0, 3, 0, 8, 0, 4, 14, 3, 3, 3, 4, 0, 0, 3, 0, 0, 4, 0, 2, 0, 3, 3, 3, 3, 3, 3, 3, 2, 4, 0, 3, 3, 2, 3, 0, 3, 7, 0, 3, 4, 0, 0, 0, 1, 4, 3, 3, 0, 4, 3, 4, 0, 3, 2, 1, 4, 4, 0, 3, 0, 4, 3, 0, 3, 3, 3, 3, 0, 0, 0, 0, 3, 0, 0, 0, 3, 2, 3, 0, 3, 5, 1, 3, 0, 0, 3, 0, 3, 0, 0, 3, 0, 3, 4, 4, 3, 9, 3, 9, 7, 3, 3, 0, 0, 0, 0, 9, 3, 0, 3, 9, 3, 0, 3, 0, 3, 2, 3, 0, 3, 3, 2, 3, 3, 9, 3, 3, 3, 3, 14, 3, 3, 0, 3, 4, 0, 4, 0, 3, 0, 3, 0, 0, 0, 3, 0, 1, 3, 0, 3, 0, 0, 3, 0, 0, 8, 3, 8, 1, 3, 3, 0, 2, 3, 3, 2, 3, 4, 0, 3, 3, 3, 3, 0, 2, 3, 3, 0, 0, 3, 0, 0, 0, 2, 3, 0, 3, 0, 3, 0, 4, 3, 3, 14, 0, 0, 0, 3, 0, 0, 0, 0, 3, 4, 4, 4, 3, 0, 0, 3, 0, 3, 0, 3, 3, 3, 3, 3, 0, 0, 0, 3, 3, 0, 0, 0, 3, 0, 2, 0, 3, 0, 3, 4, 0, 3, 0, 3, 4, 6, 9, 3, 3, 0, 0, 0, 2, 3, 0, 0, 0, 2, 0, 3, 1, 3, 3, 0, 0, 2, 3, 3, 3, 3, 3, 9, 0, 0, 1, 3, 0, 0, 0, 0, 3, 0, 4, 0, 5, 0, 0, 3, 0, 3, 0, 3, 0, 3, 0, 4, 3, 3, 0, 0, 0, 3, 0, 3, 3, 1, 3, 1, 0, 0, 3, 2, 3, 2, 3, 3, 3, 3, 1, 0, 5, 3, 4, 4, 0, 3, 0, 4, 0, 0, 0, 4, 0, 3, 0, 0, 2, 3, 0, 0, 3, 2, 3, 2, 0, 3, 0, 4, 3, 0, 0, 0, 0, 3, 4, 3, 3, 3, 3, 0, 3, 3, 3, 2, 3, 0, 3, 0, 3, 9, 9, 0, 3, 4, 3, 0, 3, 3, 5, 0, 5, 0, 3, 5, 3, 4, 4, 0, 1, 4, 4, 3, 3, 0, 3, 3, 0, 0, 0, 3, 3, 3, 0, 0, 9, 0, 3, 0, 0, 4, 2, 0, 0, 4, 0, 3, 3, 0, 2, 1, 3, 2, 0, 3, 4, 0, 4, 2, 0, 0, 0, 3, 1, 4, 3, 3, 3, 0, 0, 4, 3, 0, 1, 4, 3, 0, 0, 0, 0, 3, 3, 3, 3, 2, 0, 0, 0, 4, 0, 3, 2, 0, 0, 0, 0, 3, 1, 0, 3, 0, 0, 4, 0, 3, 0, 0, 0, 0, 3, 0, 3, 0, 3, 3, 0, 1, 0, 0, 4, 9, 3, 3, 3, 4, 3, 2, 0, 0, 3, 0, 3, 4, 4, 3, 3, 1, 3, 3, 0, 0, 0, 0, 0, 0, 0, 0, 3, 0, 3, 0, 2, 0, 3, 3, 3, 3, 0, 3, 3, 4, 3, 3, 8, 0, 0, 2, 3, 0, 1, 0, 0, 3, 3, 3, 3, 0, 3, 3, 0, 3, 3, 0, 3, 6, 0, 3, 0, 3, 3, 0, 3, 1, 9, 0, 0, 0, 3, 1, 3, 3, 9, 3, 3, 0, 3, 14, 0, 3, 0, 0, 0, 3, 9, 0, 9, 0, 3, 3, 2, 0, 4, 0, 7, 3, 0, 3, 0, 4, 0, 9, 0, 0, 3, 3, 3, 3, 0, 5, 3, 3, 3, 0, 3, 3, 0, 4, 2, 0, 1, 0, 3, 3, 3, 0, 0, 3, 2, 1, 0, 3, 3, 4, 3, 0, 0, 6, 3, 0, 3, 0, 2, 3, 3, 0, 3, 3, 4, 0, 0, 3, 0, 2, 4, 0, 0, 9, 0, 4, 3, 0, 3, 0, 0, 0, 3, 0, 0, 0, 1, 3, 3, 3, 3, 3, 0, 0, 0, 4, 3, 0, 2, 0, 2, 3, 3, 0, 3, 3, 0, 0, 3, 14, 0, 3, 3, 3, 3, 0, 2, 4, 0, 0, 0, 3, 0, 2, 3, 0, 3, 0, 0, 0, 3, 1, 4, 0, 0, 0, 3, 0, 0, 4, 3, 0, 0, 4, 4, 0, 3, 4, 0, 0, 4, 0, 3, 3, 2, 3, 4, 3, 3, 4, 3, 0, 1, 3, 3, 4, 3, 3, 3, 0, 0, 0, 0, 7, 0, 3, 3, 0, 3, 3, 1, 2, 0, 3, 4, 0, 3, 3, 3, 0, 3, 2, 3, 0, 0, 0, 4, 0, 6, 4, 0, 3, 3, 4, 3, 0, 0, 0, 0, 3, 0, 1, 3, 4, 4, 4, 0, 0, 0, 8, 0, 0, 3, 0, 0, 0, 4, 0, 3, 3, 0, 0, 3, 3, 7, 3, 3, 3, 3, 3, 0, 4, 3, 4, 3, 0, 4, 3, 0, 0, 3, 3, 3, 3, 4, 3, 0, 3, 0, 3, 3, 0, 0, 0, 0, 0, 1, 1, 2, 0, 3, 3, 3, 0, 4, 0, 0, 0, 4, 3, 0, 0, 3, 0, 0, 2, 3, 3, 0, 3, 0, 0, 3, 3, 0, 3, 0, 3, 3, 3, 1, 0, 0, 5, 0, 5, 0, 9, 3, 0, 3, 5, 3, 0, 3, 3, 0, 2, 3, 3, 0, 2, 3, 3, 0, 3, 9, 9, 3, 3, 3, 3, 0, 3, 3, 3, 3, 3, 0, 1, 0, 3, 9, 3, 3, 4, 3, 3, 0, 0, 3, 7, 3, 3, 3, 0, 3, 0, 3, 0, 3, 3, 0, 2, 0, 0, 3, 3, 0, 0, 2, 0, 0, 0, 3, 4, 0, 3, 3, 0, 0, 3, 1, 0, 0, 0, 3, 1, 3, 0, 4, 0, 0, 0, 0, 3, 3, 3, 0, 3, 3, 0, 3, 3, 3, 0, 0, 9, 0, 0, 4, 1, 8, 3, 0, 3, 3, 3, 0, 0, 3, 1, 3, 3, 3, 3, 3, 9, 3, 3, 4, 0, 3, 3, 3, 3, 0, 3, 3, 2, 0, 0, 3, 14, 0, 3, 0, 4, 3, 0, 0, 4, 0, 3, 3, 3, 0, 4, 0, 3, 3, 3, 0, 3, 0, 3, 3, 3, 3, 0, 3, 4, 3, 3, 0, 0, 0, 0, 4, 2, 3, 3, 0, 0, 0, 0, 4, 3, 3, 0, 0, 3, 0, 3, 3, 2, 3, 4, 0, 0, 0, 3, 2, 15, 0, 3, 3, 0, 0, 3, 0, 3, 3, 3, 0, 2, 3, 4, 3, 4, 0, 0, 3, 8, 0, 0, 3, 3, 0, 3, 0, 3, 3, 0, 0, 3, 0, 4, 0, 4, 3, 0, 0, 0, 0, 2, 4, 0, 4, 0, 3, 3, 0, 3, 0, 3, 3, 0, 0, 0, 3, 4, 9, 0, 0, 0, 0, 0, 3, 0, 4, 2, 0, 3, 4, 4, 6, 3, 3, 4, 0, 4, 3, 0, 0, 3, 3, 3, 0, 4, 3, 3, 3, 0, 4, 0, 3, 4, 0, 0, 0, 2, 4, 4, 0, 9, 3, 0, 3, 0, 0, 3, 0, 2, 0, 0, 0, 4, 0, 0, 4, 0, 3, 3, 0, 3, 3, 2, 0, 3, 3, 1, 3, 0, 4, 3, 3, 3, 3, 4, 3, 0, 0, 3, 3, 4, 0, 0, 7, 0, 3, 0, 0, 0, 2, 0, 0, 3, 0, 3, 2, 4, 0, 3, 3, 0, 3, 0, 0, 0, 0, 0, 3, 0, 3, 0, 3, 3, 3, 0, 0, 3, 0, 0, 3, 0, 3, 3, 0, 3, 1, 9, 3, 0, 0, 3, 0, 1, 4, 0, 3, 3, 0, 3, 0, 3, 0, 4, 2, 0, 3, 3, 5, 3, 3, 1, 0, 3, 0, 9, 3, 3, 0, 14, 3, 2, 0, 4, 9, 9, 3, 3, 3, 3, 2, 0, 1, 0, 3, 3, 0, 3, 3, 0, 0, 3, 0, 0, 3, 2, 0, 3, 3, 0, 3, 4, 4, 8, 0, 3, 0, 0, 3, 0, 0, 0, 3, 3, 0, 3, 3, 3, 3, 0, 3, 3, 3, 0, 4, 0, 0, 0, 9, 4, 3, 0, 3, 3, 6, 3, 0, 2, 4, 3, 3, 0, 0, 2, 3, 1, 3, 2, 2, 3, 3, 1, 3, 3, 0, 3, 3, 0, 0, 3, 0, 3, 3, 3, 0, 3, 0, 3, 0, 3, 3, 3, 0, 3, 0, 0, 0, 3, 0, 0, 0, 7, 3, 0, 3, 3, 3, 4, 3, 2, 3, 3, 3, 0, 3, 9, 9, 0, 3, 0, 0, 3, 0, 3, 1, 0, 4, 2, 4, 5, 0, 3, 3, 3, 0, 3, 3, 0, 0, 3, 3, 0, 3, 3, 4, 3, 4, 0, 3, 5, 1, 0, 3, 0, 3, 14, 4, 2, 0, 4, 9, 3, 3, 0, 3, 4, 3, 3, 0, 3, 4, 3, 3, 0, 0, 0, 3, 3, 0, 3, 0, 0, 0, 3, 3, 0, 4, 0, 0, 5, 0, 3, 2, 2, 0, 4, 3, 0, 3, 0, 3, 3, 0, 3, 0, 3, 4, 0, 4, 0, 0, 0, 3, 5, 8, 3, 0, 3, 0, 0, 3, 2, 0, 3, 3, 3, 8, 3, 0, 2, 3, 4, 0, 3, 3, 0, 3, 0, 0, 3, 4, 3, 3, 3, 9, 0, 4, 0, 3, 3, 9, 0, 0, 0, 3, 3, 0, 3, 1, 0, 3, 0, 0, 0, 0, 0, 0, 2, 0, 3, 3, 3, 3, 8, 0, 3, 0, 3, 0, 0, 1, 0, 0, 2, 4, 3, 0, 3, 3, 3, 0, 0, 3, 3, 3, 4, 2, 3, 2, 1, 3, 3, 2, 0, 0, 0, 0, 4, 0, 0, 3, 3, 3, 3, 3, 1, 3, 0, 3, 0, 0, 0, 0, 0, 3, 3, 0, 0, 0, 0, 0, 3, 0, 3, 4, 0, 0, 3, 3, 0, 4, 4, 3, 3, 2, 0, 2, 3, 3, 3, 3, 9, 3, 0, 3, 2, 4, 0, 4, 0, 3, 3, 2, 3, 2, 0, 1, 0, 0, 0, 3, 0, 3, 4, 0, 0, 0, 0, 3, 3, 0, 3, 0, 0, 4, 2, 0, 3, 3, 0, 0, 5, 1, 0, 1, 0, 0, 0, 2, 4, 4, 0, 0, 3, 4, 3, 3, 5, 3, 3, 0, 0, 12, 4, 3, 3, 0, 0, 4, 4, 0, 0, 0, 3, 0, 3, 0, 0, 3, 0, 3, 3, 0, 5, 3, 3, 9, 3, 3, 3, 4, 1, 0, 6, 0, 0, 0, 0, 3, 3, 0, 3, 3, 3, 3, 1, 3, 3, 0, 3, 4, 0, 3, 3, 4, 0, 3, 0, 0, 1, 3, 3, 9, 3, 3, 8, 0, 9, 0, 0, 0, 3, 0, 3, 0, 0, 4, 3, 0, 0, 0, 0, 3, 6, 0, 2, 3, 0, 0, 2, 1, 3, 4, 3, 0, 4, 0, 0, 0, 1, 3, 3, 3, 1, 9, 1, 3, 3, 3, 3, 3, 0, 0, 9, 9, 3, 0, 0, 0, 0, 4, 0, 3, 0, 8, 0, 0, 0, 3, 4, 1, 0, 3, 3, 0, 0, 2, 4, 3, 9, 0, 3, 3, 0, 3, 3, 3, 0, 3, 0, 0, 3, 3, 3, 2, 3, 0, 0, 0, 4, 0, 4, 3, 3, 4, 3, 0, 4, 4, 0, 0, 3, 0, 0, 0, 0, 3, 3, 3, 9, 4, 0, 3, 1, 3, 2, 0, 0, 0, 9, 0, 0, 0, 0, 0, 0, 2, 0, 0, 3, 3, 0, 4, 0, 3, 4, 0, 3, 3, 3, 3, 4, 3, 0, 3, 0, 3, 0, 0, 3, 0, 2, 2, 3, 0, 3, 3, 3, 4, 0, 3, 3, 0, 3, 4, 7, 0, 0, 3, 0, 3, 3, 0, 0, 0, 0, 9, 3, 0, 0, 3, 0, 3, 3, 0, 0, 3, 3, 3, 0, 7, 7, 3, 0, 8, 2, 0, 3, 0, 0, 0, 4, 2, 4, 3, 2, 0, 8, 3, 0, 3, 4, 0, 1, 0, 3, 0, 0, 0, 0, 0, 4, 3, 3, 4, 9, 4, 0, 2, 2, 3, 3, 0, 3, 3, 3, 0, 0, 4, 2, 0, 3, 3, 3, 3, 3, 3, 5, 0, 3, 2, 0, 3, 3, 3, 0, 3, 0, 0, 3, 3, 0, 0, 0, 3, 3, 4, 0, 3, 3, 2, 1, 3, 3, 4, 3, 3, 0, 4, 0, 2, 4, 3, 0, 3, 4, 0, 0, 3, 3, 3, 2, 2, 3, 3, 3, 3, 3, 0, 3, 0, 3, 3, 0, 0, 0, 4, 3, 3, 0, 0, 3, 0, 0, 3, 2, 3, 0, 0, 6, 3, 3, 3, 3, 0, 0, 3, 3, 3, 0, 4, 3, 0, 3, 0, 0, 3, 3, 3, 0, 3, 3, 2, 3, 0, 3, 0, 0, 0, 3, 3, 0, 4, 0, 3, 3, 3, 3, 3, 3, 0, 0, 3, 3, 4, 3, 0, 0, 0, 0, 3, 3, 3, 3, 3, 0, 3, 0, 8, 0, 0, 15, 9, 3, 2, 0, 3, 3, 0, 0, 3, 2, 3, 3, 0, 0, 3, 0, 0, 3, 3, 3, 9, 3, 3, 3, 4, 5, 0, 0, 5, 3, 0, 1, 3, 9, 3, 3, 4, 3, 0, 0, 3, 3, 8, 3, 0, 3, 3, 0, 0, 4, 3, 0, 0, 0, 1, 5, 3, 0, 1, 0, 2, 3, 0, 0, 0, 3, 3, 6, 3, 0, 3, 1, 0, 0, 0, 3, 0, 1, 3, 3, 0, 0, 0, 0, 0, 0, 4, 0, 0, 0, 3, 4, 0, 3, 3, 13, 3, 3, 4, 2, 3, 3, 4, 0, 3, 3, 0, 3, 3, 8, 0, 2, 3, 3, 0, 4, 3, 2, 0, 0, 4, 0, 9, 0, 0, 0, 3, 3, 0, 0, 3, 0, 4, 4, 0, 0, 3, 0, 4, 3, 0, 0, 2, 3, 7, 3, 3, 3, 0, 0, 3, 0, 4, 3, 0, 3, 3, 0, 0, 3, 0, 2, 4, 3, 3, 3, 4, 3, 0, 0, 3, 4, 3, 4, 6, 3, 3, 3, 0, 0, 3, 0, 3, 3, 0, 0, 3, 0, 3, 3, 0, 0, 0, 0, 0, 2, 2, 6, 2, 3, 0, 4, 3, 0, 0, 0, 3, 1, 5, 3, 2, 7, 3, 3, 3, 1, 4, 3, 0, 3, 0, 3, 3, 0, 3, 3, 0, 3, 9, 3, 0, 0, 2, 3, 0, 0, 3, 3, 3, 0, 2, 0, 9, 0, 3, 3, 0, 0, 0, 3, 3, 3, 3, 3, 3, 6, 0, 0, 3, 0, 0, 9, 3, 2, 3, 1, 3, 3, 3, 3, 3, 3, 2, 0, 0, 0, 2, 0, 4, 3, 0, 0, 0, 0, 0, 3, 3, 0, 0, 0, 1, 0, 3, 0, 3, 3, 1, 0, 0, 0, 3, 3, 3, 0, 3, 3, 3, 0, 0, 0, 0, 3, 0, 0, 0, 4, 2, 0, 3, 3, 0, 3, 3, 4, 0, 1, 0, 4, 3, 4, 3, 2, 0, 4, 0, 0, 0, 0, 0, 0, 0, 0, 3, 3, 1, 3, 3, 3, 3, 3, 2, 3, 0, 0, 4, 0, 0, 1, 3, 1, 3, 3, 3, 3, 0, 5, 0, 3, 3, 0, 4, 4, 3, 0, 1, 0, 3, 3, 3, 2, 1, 4, 0, 3, 0, 3, 3, 3, 1, 2, 0, 3, 3, 3, 3, 3, 3, 3, 5, 3, 0, 0, 0, 0, 3, 0, 3, 3, 0, 3, 3, 0, 0, 0, 3, 3, 0, 0, 0, 0, 3, 0, 3, 0, 3, 4, 3, 3, 3, 3, 3, 3, 0, 1, 0, 3, 3, 0, 3, 3, 3, 5, 3, 0, 3, 3, 0, 3, 3, 3, 4, 3, 3, 3, 4, 3, 3, 3, 3, 3, 0, 0, 4, 0, 0, 0, 0, 2, 3, 3, 3, 0, 0, 0, 3, 0, 3, 3, 0, 1, 3, 0, 0, 0, 3, 0, 4, 0, 0, 0, 0, 3, 3, 3, 0, 0, 3, 0, 3, 3, 0, 3, 3, 3, 3, 3, 0, 3, 0, 2, 3, 7, 3, 7, 4, 0, 4, 2, 0, 0, 0, 1, 0, 6, 0, 3, 0, 0, 3, 3, 0, 3, 0, 9, 1, 3, 3, 3, 0, 0, 3, 3, 0, 0, 3, 3, 3, 3, 4, 0, 5, 0, 3, 3, 0, 3, 7, 0, 3, 2, 3, 4, 0, 0, 3, 2, 0, 3, 0, 4, 0, 0, 3, 14, 3, 0, 0, 3, 0, 0, 1, 0, 0, 3, 0, 0, 14, 14, 3, 0, 3, 0, 3, 14, 8, 4, 2, 0, 4, 3, 0, 2, 0, 0, 0, 0, 2, 3, 4, 3, 0, 0, 4, 3, 0, 0, 0, 3, 2, 0, 3, 0, 0, 3, 3, 0, 0, 0, 3, 1, 3, 0, 2, 3, 0, 0, 7, 0, 0, 4, 0, 3, 5, 0, 0, 3, 2, 3, 0, 0, 0, 3, 3, 3, 1, 4, 0, 0, 0, 0, 9, 0, 0, 3, 2, 0, 0, 3, 3, 3, 3, 3, 3, 0, 0, 4, 2, 0, 0, 0, 3, 3, 4, 3, 3, 0, 0, 0, 0, 0, 0, 3, 0, 0, 1, 2, 0, 3, 0, 4, 0, 3, 3, 2, 0, 3, 0, 3, 0, 3, 0, 4, 3, 2, 3, 0, 0, 4, 4, 2, 3, 0, 3, 3, 3, 4, 3, 3, 0, 0, 3, 0, 4, 0, 3, 3, 2, 0, 4, 0, 3, 0, 0, 3, 2, 0, 4, 0, 0, 3, 3, 0, 2, 3, 3, 0, 3, 8, 3, 3, 0, 0, 0, 0, 2, 3, 0, 0, 3, 3, 0, 3, 1, 8, 0, 14, 0, 0, 0, 4, 3, 0, 4, 3, 3, 3, 0, 0, 4, 3, 3, 0, 0, 4, 1, 0, 3, 4, 0, 3, 1, 3, 2, 0, 3, 1, 0, 0, 3, 3, 1, 3, 0, 4, 3, 0, 0, 0, 0, 3, 0, 3, 4, 0, 0, 4, 3, 3, 0, 3, 3, 0, 7, 0, 4, 3, 9, 0, 0, 5, 0, 3, 3, 3, 3, 3, 3, 0, 0, 0, 3, 3, 0, 0, 3, 0, 0, 4, 0, 0, 0, 3, 0, 0, 0, 3, 3, 3, 3, 3, 3, 3, 0, 3, 2, 3, 3, 3, 4, 0, 3, 0, 3, 4, 0, 2, 0, 0, 0, 0, 4, 0, 3, 0, 3, 4, 0, 3, 3, 0, 3, 0, 2, 0, 0, 3, 2, 9, 0, 3, 0, 0, 0, 0, 0, 2, 3, 4, 5, 0, 3, 0, 3, 4, 0, 3, 0, 0, 3, 3, 3, 3, 1, 0, 3, 4, 3, 3, 0, 3, 0, 4, 0, 2, 3, 3, 0, 9, 0, 3, 0, 0, 3, 0, 3, 3, 3, 3, 3, 2, 0, 0, 3, 3, 0, 3, 3, 0, 0, 3, 0, 4, 3, 9, 3, 0, 3, 4, 0, 3, 3, 2, 3, 0, 2, 8, 3, 0, 4, 0, 0, 3, 0, 3, 0, 0, 0, 3, 0, 3, 4, 3, 0, 0, 2, 3, 2, 0, 3, 3, 0, 0, 4, 2, 1, 3, 0, 3, 3, 3, 3, 3, 0, 4, 0, 3, 0, 3, 0, 0, 3, 0, 3, 3, 4, 4, 4, 2, 0, 0, 3, 0, 3, 2, 4, 3, 3, 4, 7, 8, 3, 3, 0, 8, 0, 3, 0, 3, 0, 3, 0, 8, 3, 0, 3, 3, 3, 3, 9, 3, 4, 3, 4, 3, 3, 0, 6, 0, 3, 0, 3, 3, 3, 3, 3, 0, 3, 3, 4, 3, 4, 0, 3, 0, 0, 3, 3, 0, 0, 1, 3, 3, 3, 0, 3, 0, 0, 3, 0, 3, 0, 0, 0, 0, 4, 0, 0, 0, 3, 0, 0, 0, 0, 0, 5, 3, 3, 0, 3, 0, 0, 3, 4, 3, 3, 3, 3, 6, 0, 3, 3, 0, 0, 2, 3, 0, 3, 3, 3, 3, 3, 0, 3, 3, 0, 0, 0, 0, 3, 0, 3, 3, 3, 3, 0, 3, 3, 3, 0, 9, 3, 0, 3, 0, 0, 0, 3, 3, 3, 0, 2, 5, 3, 3, 0, 0, 3, 1, 3, 3, 0, 0, 3, 3, 0, 0, 0, 0, 3, 0, 4, 0, 0, 3, 3, 0, 2, 4, 0, 4, 3, 0, 0, 4, 0, 3, 3, 0, 3, 3, 3, 0, 3, 4, 4, 3, 0, 0, 3, 0, 4, 3, 4, 3, 3, 0, 4, 3, 0, 3, 4, 6, 3, 0, 3, 3, 2, 3, 3, 0, 3, 0, 0, 0, 3, 6, 3, 0, 0, 3, 3, 4, 0, 0, 3, 0, 0, 0, 3, 0, 0, 14, 3, 3, 3, 3, 3, 0, 0, 0, 0, 3, 0, 0, 0, 3, 4, 0, 0, 4, 3, 0, 0, 4, 3, 3, 3, 0, 0, 3, 0, 4, 4, 3, 3, 3, 3, 3, 3, 0, 0, 0, 14, 9, 0, 3, 0, 3, 0, 3, 0, 3, 0, 0, 0, 0, 3, 3, 0, 0, 2, 0, 3, 3, 0, 0, 5, 3, 0, 0, 0, 3, 3, 3, 0, 3, 0, 0, 0, 0, 1, 3, 4, 3, 3, 4, 0, 0, 3, 3, 0, 0, 3, 14, 0, 0, 0, 14, 2, 3, 0, 3, 0, 0, 3, 0, 0, 3, 3, 0, 3, 3, 3, 3, 0, 3, 0, 3, 3, 3, 3, 3, 3, 2, 0, 9, 0, 0, 3, 4, 3, 0, 0, 3, 3, 0, 0, 0, 3, 6, 1, 4, 3, 3, 3, 3, 3, 0, 2, 5, 0, 0, 0, 3, 3, 4, 0, 0, 0, 0, 0, 3, 4, 3, 0, 3, 0, 3, 3, 2, 0, 0, 7, 3, 0, 0, 0, 3, 2, 0, 3, 3, 0, 3, 4, 3, 3, 0, 3, 0, 0, 0, 0, 3, 0, 0, 0, 3, 3, 0, 3, 3, 3, 3, 3, 0, 0, 3, 0, 3, 0, 3, 0, 3, 2, 0, 3, 3, 3, 7, 0, 3, 4, 6, 0, 3, 3, 0, 0]\n"
          ]
        }
      ],
      "source": [
        "print(y_test)"
      ]
    },
    {
      "cell_type": "code",
      "execution_count": 58,
      "metadata": {
        "id": "lN3BMwk6sEXz"
      },
      "outputs": [],
      "source": [
        "from sklearn.metrics import accuracy_score, classification_report"
      ]
    },
    {
      "cell_type": "markdown",
      "metadata": {
        "id": "heZ18-Ghu5RK"
      },
      "source": [
        "Get the party names back from the integers."
      ]
    },
    {
      "cell_type": "code",
      "execution_count": 59,
      "metadata": {
        "id": "3_DOWCp0u3yS"
      },
      "outputs": [],
      "source": [
        "int_dict = {v: k for k, v in label_dict.items()}"
      ]
    },
    {
      "cell_type": "code",
      "execution_count": 60,
      "metadata": {
        "colab": {
          "base_uri": "https://localhost:8080/"
        },
        "id": "vr62pEA-vhmx",
        "outputId": "c79787cc-53b7-46ac-e231-52540680c1ad"
      },
      "outputs": [
        {
          "output_type": "stream",
          "name": "stdout",
          "text": [
            "{0: 'labour', 1: 'labourco-operative', 2: 'scottish-national-party', 3: 'conservative', 4: 'liberal-democrat', 5: 'plaid-cymru', 6: 'uup', 7: 'social-democratic-and-labour-party', 8: 'independent', 9: 'dup', 10: 'independent-conservative', 11: 'independent-ulster-unionist', 12: 'respect', 13: 'ukip', 14: 'green', 15: 'alliance'}\n"
          ]
        }
      ],
      "source": [
        "print(int_dict)"
      ]
    },
    {
      "cell_type": "code",
      "execution_count": 71,
      "metadata": {
        "id": "PqIzQFZovA6P"
      },
      "outputs": [],
      "source": [
        "y_test = [int_dict[label] for label in y_test]\n",
        "y_pred = [int_dict[label] for label in y_pred]"
      ]
    },
    {
      "cell_type": "code",
      "execution_count": 62,
      "metadata": {
        "colab": {
          "base_uri": "https://localhost:8080/"
        },
        "id": "8-6CfRZgvcjJ",
        "outputId": "49e6a540-fe3a-470f-a139-2f5d4585ee51"
      },
      "outputs": [
        {
          "output_type": "stream",
          "name": "stdout",
          "text": [
            "['labour', 'scottish-national-party', 'labour', 'conservative', 'conservative', 'liberal-democrat', 'labour', 'labour', 'labour', 'conservative', 'conservative', 'labour', 'labour', 'labour', 'scottish-national-party', 'conservative', 'conservative', 'conservative', 'labour', 'labour', 'labour', 'conservative', 'conservative', 'conservative', 'conservative', 'scottish-national-party', 'conservative', 'liberal-democrat', 'labour', 'conservative', 'conservative', 'labour', 'conservative', 'conservative', 'conservative', 'labour', 'labour', 'labour', 'conservative', 'conservative', 'liberal-democrat', 'labour', 'labour', 'liberal-democrat', 'conservative', 'labour', 'labour', 'labour', 'labour', 'conservative', 'conservative', 'labourco-operative', 'conservative', 'conservative', 'labour', 'plaid-cymru', 'labour', 'conservative', 'labour', 'labour', 'conservative', 'labour', 'conservative', 'liberal-democrat', 'labour', 'conservative', 'liberal-democrat', 'labour', 'labour', 'labourco-operative', 'labour', 'conservative', 'conservative', 'labour', 'conservative', 'labour', 'labour', 'liberal-democrat', 'labour', 'conservative', 'conservative', 'labour', 'labour', 'labour', 'conservative', 'labour', 'labour', 'conservative', 'conservative', 'labour', 'labour', 'conservative', 'conservative', 'labour', 'liberal-democrat', 'liberal-democrat', 'labour', 'liberal-democrat', 'conservative', 'conservative', 'labourco-operative', 'labour', 'conservative', 'labour', 'labour', 'labour', 'conservative', 'liberal-democrat', 'conservative', 'conservative', 'labour', 'labour', 'liberal-democrat', 'conservative', 'labour', 'labour', 'labour', 'plaid-cymru', 'conservative', 'conservative', 'labour', 'conservative', 'conservative', 'conservative', 'labour', 'conservative', 'conservative', 'conservative', 'liberal-democrat', 'conservative', 'conservative', 'labour', 'conservative', 'conservative', 'conservative', 'labour', 'labour', 'conservative', 'conservative', 'labour', 'labourco-operative', 'conservative', 'liberal-democrat', 'conservative', 'labour', 'conservative', 'liberal-democrat', 'labour', 'labour', 'labour', 'conservative', 'conservative', 'labour', 'conservative', 'conservative', 'labour', 'labour', 'conservative', 'labour', 'liberal-democrat', 'plaid-cymru', 'labour', 'labour', 'conservative', 'dup', 'liberal-democrat', 'scottish-national-party', 'labour', 'liberal-democrat', 'conservative', 'labour', 'liberal-democrat', 'labour', 'conservative', 'conservative', 'labour', 'conservative', 'labour', 'labour', 'labour', 'liberal-democrat', 'conservative', 'labour', 'liberal-democrat', 'labour', 'conservative', 'labour', 'social-democratic-and-labour-party', 'conservative', 'conservative', 'labour', 'labour', 'conservative', 'labour', 'labour', 'scottish-national-party', 'conservative', 'conservative', 'conservative', 'liberal-democrat', 'conservative', 'labour', 'liberal-democrat', 'conservative', 'conservative', 'conservative', 'conservative', 'conservative', 'conservative', 'liberal-democrat', 'labour', 'conservative', 'conservative', 'scottish-national-party', 'conservative', 'conservative', 'liberal-democrat', 'liberal-democrat', 'conservative', 'conservative', 'conservative', 'conservative', 'labour', 'labour', 'conservative', 'labour', 'conservative', 'labour', 'conservative', 'labourco-operative', 'scottish-national-party', 'conservative', 'labour', 'liberal-democrat', 'scottish-national-party', 'conservative', 'labour', 'labour', 'conservative', 'conservative', 'conservative', 'conservative', 'conservative', 'liberal-democrat', 'conservative', 'labour', 'liberal-democrat', 'conservative', 'conservative', 'conservative', 'labour', 'dup', 'labour', 'scottish-national-party', 'dup', 'labour', 'plaid-cymru', 'conservative', 'labour', 'labour', 'conservative', 'labourco-operative', 'labour', 'labour', 'labour', 'labour', 'conservative', 'scottish-national-party', 'labour', 'conservative', 'conservative', 'labour', 'conservative', 'labour', 'labour', 'labour', 'conservative', 'labour', 'conservative', 'conservative', 'conservative', 'independent', 'labour', 'labour', 'conservative', 'labour', 'conservative', 'conservative', 'liberal-democrat', 'labour', 'independent', 'conservative', 'labourco-operative', 'conservative', 'labour', 'labour', 'conservative', 'labour', 'scottish-national-party', 'labour', 'dup', 'labour', 'scottish-national-party', 'labour', 'conservative', 'labour', 'labour', 'conservative', 'labour', 'conservative', 'labour', 'conservative', 'conservative', 'labour', 'labour', 'conservative', 'labour', 'conservative', 'labour', 'liberal-democrat', 'liberal-democrat', 'labour', 'labour', 'liberal-democrat', 'labour', 'labour', 'conservative', 'labour', 'labour', 'labour', 'conservative', 'conservative', 'labour', 'conservative', 'labour', 'labour', 'liberal-democrat', 'labour', 'conservative', 'labour', 'labour', 'scottish-national-party', 'labour', 'liberal-democrat', 'conservative', 'liberal-democrat', 'labour', 'labour', 'labour', 'conservative', 'conservative', 'scottish-national-party', 'liberal-democrat', 'conservative', 'conservative', 'labour', 'conservative', 'conservative', 'labour', 'independent', 'labour', 'labour', 'liberal-democrat', 'conservative', 'conservative', 'scottish-national-party', 'conservative', 'conservative', 'scottish-national-party', 'conservative', 'labour', 'liberal-democrat', 'liberal-democrat', 'conservative', 'labour', 'labour', 'conservative', 'labour', 'conservative', 'conservative', 'labour', 'labourco-operative', 'labour', 'scottish-national-party', 'conservative', 'labour', 'labour', 'conservative', 'conservative', 'labour', 'conservative', 'labour', 'labour', 'green', 'conservative', 'conservative', 'dup', 'labour', 'conservative', 'labour', 'labour', 'conservative', 'labourco-operative', 'labour', 'labour', 'labour', 'liberal-democrat', 'conservative', 'labourco-operative', 'conservative', 'conservative', 'conservative', 'conservative', 'conservative', 'conservative', 'labour', 'labour', 'conservative', 'labour', 'conservative', 'conservative', 'conservative', 'labour', 'conservative', 'labour', 'scottish-national-party', 'labour', 'conservative', 'labour', 'conservative', 'labour', 'labourco-operative', 'conservative', 'conservative', 'labour', 'liberal-democrat', 'conservative', 'conservative', 'scottish-national-party', 'labour', 'conservative', 'liberal-democrat', 'conservative', 'conservative', 'labour', 'labour', 'labour', 'labour', 'conservative', 'labour', 'labour', 'conservative', 'conservative', 'conservative', 'labour', 'scottish-national-party', 'conservative', 'conservative', 'conservative', 'conservative', 'labour', 'labour', 'labour', 'labour', 'labour', 'conservative', 'labour', 'labour', 'liberal-democrat', 'conservative', 'conservative', 'green', 'conservative', 'labour', 'labour', 'liberal-democrat', 'labour', 'labour', 'conservative', 'conservative', 'conservative', 'labour', 'liberal-democrat', 'conservative', 'labour', 'conservative', 'liberal-democrat', 'dup', 'labour', 'conservative', 'labour', 'labour', 'labour', 'conservative', 'conservative', 'labour', 'liberal-democrat', 'liberal-democrat', 'labour', 'labour', 'conservative', 'labour', 'conservative', 'conservative', 'labour', 'labour', 'labour', 'conservative', 'labour', 'liberal-democrat', 'conservative', 'labour', 'conservative', 'labour', 'plaid-cymru', 'scottish-national-party', 'labour', 'liberal-democrat', 'liberal-democrat', 'scottish-national-party', 'labour', 'conservative', 'conservative', 'conservative', 'conservative', 'dup', 'labour', 'labour', 'conservative', 'conservative', 'dup', 'labour', 'labourco-operative', 'labour', 'conservative', 'labour', 'labour', 'conservative', 'labour', 'labour', 'conservative', 'labour', 'conservative', 'labour', 'labour', 'conservative', 'labour', 'labourco-operative', 'labour', 'liberal-democrat', 'conservative', 'labour', 'conservative', 'scottish-national-party', 'labour', 'labour', 'labour', 'labour', 'conservative', 'labour', 'labour', 'labour', 'labour', 'conservative', 'conservative', 'liberal-democrat', 'labour', 'conservative', 'labour', 'conservative', 'conservative', 'labour', 'labour', 'labour', 'conservative', 'labour', 'dup', 'scottish-national-party', 'scottish-national-party', 'conservative', 'conservative', 'conservative', 'labour', 'labour', 'conservative', 'labour', 'labour', 'conservative', 'conservative', 'labour', 'conservative', 'labour', 'labour', 'labour', 'independent', 'labour', 'labour', 'labour', 'labour', 'conservative', 'conservative', 'labour', 'independent', 'conservative', 'conservative', 'conservative', 'conservative', 'labour', 'labour', 'scottish-national-party', 'labour', 'conservative', 'labour', 'conservative', 'conservative', 'labour', 'conservative', 'liberal-democrat', 'labour', 'labour', 'labour', 'liberal-democrat', 'conservative', 'conservative', 'labour', 'conservative', 'conservative', 'conservative', 'labour', 'labour', 'independent', 'liberal-democrat', 'conservative', 'labour', 'labour', 'labour', 'labour', 'conservative', 'conservative', 'liberal-democrat', 'labour', 'labourco-operative', 'conservative', 'conservative', 'labour', 'conservative', 'labour', 'labour', 'conservative', 'liberal-democrat', 'conservative', 'labour', 'conservative', 'conservative', 'labour', 'liberal-democrat', 'labour', 'liberal-democrat', 'scottish-national-party', 'conservative', 'conservative', 'labour', 'conservative', 'conservative', 'labour', 'conservative', 'labour', 'dup', 'conservative', 'labour', 'conservative', 'labour', 'conservative', 'labour', 'conservative', 'conservative', 'conservative', 'labour', 'labour', 'conservative', 'conservative', 'labour', 'conservative', 'conservative', 'conservative', 'conservative', 'plaid-cymru', 'conservative', 'labour', 'plaid-cymru', 'conservative', 'liberal-democrat', 'labour', 'labour', 'conservative', 'labour', 'labour', 'labour', 'scottish-national-party', 'labour', 'dup', 'labour', 'labour', 'labour', 'conservative', 'conservative', 'labour', 'labour', 'conservative', 'conservative', 'conservative', 'conservative', 'liberal-democrat', 'conservative', 'conservative', 'conservative', 'labour', 'conservative', 'labour', 'conservative', 'labour', 'labour', 'conservative', 'labour', 'conservative', 'conservative', 'scottish-national-party', 'liberal-democrat', 'conservative', 'labour', 'conservative', 'conservative', 'labour', 'conservative', 'labour', 'labour', 'liberal-democrat', 'labour', 'labour', 'conservative', 'conservative', 'labourco-operative', 'dup', 'labour', 'liberal-democrat', 'conservative', 'liberal-democrat', 'labour', 'labour', 'labour', 'scottish-national-party', 'labour', 'liberal-democrat', 'labour', 'conservative', 'conservative', 'conservative', 'labour', 'conservative', 'labourco-operative', 'labour', 'liberal-democrat', 'labour', 'conservative', 'conservative', 'conservative', 'liberal-democrat', 'labour', 'conservative', 'conservative', 'liberal-democrat', 'liberal-democrat', 'labour', 'conservative', 'labour', 'labour', 'scottish-national-party', 'independent', 'labour', 'labour', 'conservative', 'labour', 'conservative', 'labour', 'labour', 'labour', 'labour', 'labour', 'conservative', 'labour', 'labour', 'labour', 'liberal-democrat', 'conservative', 'conservative', 'labour', 'labour', 'labour', 'labour', 'conservative', 'conservative', 'labour', 'labour', 'labour', 'conservative', 'conservative', 'conservative', 'conservative', 'labour', 'labour', 'liberal-democrat', 'labour', 'conservative', 'liberal-democrat', 'labour', 'conservative', 'liberal-democrat', 'conservative', 'conservative', 'conservative', 'labour', 'labour', 'conservative', 'conservative', 'labour', 'liberal-democrat', 'labour', 'conservative', 'labour', 'labour', 'labour', 'liberal-democrat', 'conservative', 'conservative', 'conservative', 'conservative', 'liberal-democrat', 'labour', 'labour', 'liberal-democrat', 'scottish-national-party', 'labour', 'conservative', 'conservative', 'conservative', 'labour', 'liberal-democrat', 'labour', 'conservative', 'labour', 'conservative', 'liberal-democrat', 'labour', 'conservative', 'liberal-democrat', 'conservative', 'labour', 'scottish-national-party', 'labour', 'conservative', 'conservative', 'conservative', 'labour', 'labour', 'conservative', 'dup', 'labourco-operative', 'labour', 'independent-ulster-unionist', 'conservative', 'conservative', 'labour', 'labour', 'conservative', 'dup', 'labour', 'labour', 'conservative', 'conservative', 'conservative', 'conservative', 'conservative', 'labour', 'labour', 'labour', 'conservative', 'labour', 'labour', 'labour', 'plaid-cymru', 'conservative', 'liberal-democrat', 'conservative', 'conservative', 'conservative', 'labour', 'liberal-democrat', 'conservative', 'labour', 'labour', 'conservative', 'labour', 'conservative', 'labour', 'labour', 'labour', 'liberal-democrat', 'conservative', 'labour', 'conservative', 'plaid-cymru', 'labour', 'conservative', 'conservative', 'conservative', 'labour', 'labour', 'conservative', 'labour', 'conservative', 'conservative', 'liberal-democrat', 'labour', 'conservative', 'conservative', 'labour', 'conservative', 'social-democratic-and-labour-party', 'labour', 'labour', 'conservative', 'conservative', 'conservative', 'conservative', 'labour', 'labour', 'liberal-democrat', 'liberal-democrat', 'labour', 'conservative', 'conservative', 'conservative', 'conservative', 'conservative', 'labour', 'conservative', 'conservative', 'scottish-national-party', 'conservative', 'labour', 'labour', 'conservative', 'liberal-democrat', 'labourco-operative', 'labour', 'conservative', 'labour', 'conservative', 'conservative', 'conservative', 'conservative', 'labourco-operative', 'scottish-national-party', 'conservative', 'conservative', 'conservative', 'labour', 'liberal-democrat', 'conservative', 'conservative', 'labour', 'liberal-democrat', 'labour', 'scottish-national-party', 'conservative', 'liberal-democrat', 'conservative', 'labour', 'conservative', 'conservative', 'conservative', 'conservative', 'conservative', 'conservative', 'conservative', 'labour', 'conservative', 'conservative', 'labour', 'labour', 'scottish-national-party', 'conservative', 'labour', 'labour', 'conservative', 'labour', 'labour', 'labour', 'conservative', 'conservative', 'liberal-democrat', 'labour', 'conservative', 'labour', 'labour', 'labour', 'conservative', 'conservative', 'liberal-democrat', 'conservative', 'conservative', 'conservative', 'liberal-democrat', 'labour', 'labour', 'labour', 'conservative', 'conservative', 'scottish-national-party', 'liberal-democrat', 'conservative', 'conservative', 'conservative', 'conservative', 'liberal-democrat', 'conservative', 'labour', 'labour', 'labour', 'conservative', 'labour', 'dup', 'conservative', 'conservative', 'labour', 'labour', 'labour', 'conservative', 'liberal-democrat', 'conservative', 'labour', 'labour', 'labour', 'labour', 'labour', 'conservative', 'labour', 'labour', 'conservative', 'conservative', 'liberal-democrat', 'labour', 'labour', 'labour', 'labour', 'labour', 'dup', 'labour', 'labour', 'liberal-democrat', 'labour', 'labour', 'liberal-democrat', 'conservative', 'conservative', 'conservative', 'independent', 'labour', 'conservative', 'labour', 'labour', 'liberal-democrat', 'labour', 'labour', 'plaid-cymru', 'conservative', 'labour', 'dup', 'conservative', 'labourco-operative', 'conservative', 'labour', 'liberal-democrat', 'conservative', 'conservative', 'conservative', 'labour', 'labour', 'labour', 'labour', 'labour', 'conservative', 'labour', 'labour', 'labour', 'liberal-democrat', 'liberal-democrat', 'liberal-democrat', 'conservative', 'liberal-democrat', 'conservative', 'conservative', 'labour', 'conservative', 'labour', 'liberal-democrat', 'labour', 'conservative', 'labourco-operative', 'labour', 'labour', 'liberal-democrat', 'conservative', 'liberal-democrat', 'conservative', 'labour', 'liberal-democrat', 'labour', 'labour', 'liberal-democrat', 'labour', 'conservative', 'plaid-cymru', 'conservative', 'labour', 'labour', 'conservative', 'conservative', 'scottish-national-party', 'conservative', 'labour', 'conservative', 'conservative', 'conservative', 'dup', 'conservative', 'labour', 'labour', 'conservative', 'labour', 'liberal-democrat', 'labour', 'conservative', 'scottish-national-party', 'conservative', 'labour', 'conservative', 'scottish-national-party', 'labour', 'conservative', 'independent', 'scottish-national-party', 'conservative', 'labourco-operative', 'labourco-operative', 'conservative', 'conservative', 'scottish-national-party', 'conservative', 'labour', 'conservative', 'conservative', 'dup', 'conservative', 'conservative', 'labour', 'conservative', 'labour', 'scottish-national-party', 'dup', 'conservative', 'labour', 'conservative', 'conservative', 'conservative', 'conservative', 'scottish-national-party', 'labour', 'conservative', 'liberal-democrat', 'conservative', 'conservative', 'independent', 'labour', 'conservative', 'labour', 'liberal-democrat', 'independent', 'labour', 'conservative', 'conservative', 'labour', 'dup', 'scottish-national-party', 'social-democratic-and-labour-party', 'conservative', 'dup', 'labour', 'conservative', 'dup', 'labour', 'conservative', 'labour', 'conservative', 'labourco-operative', 'conservative', 'conservative', 'conservative', 'conservative', 'labour', 'liberal-democrat', 'labour', 'labourco-operative', 'conservative', 'conservative', 'conservative', 'conservative', 'labour', 'conservative', 'conservative', 'labour', 'labour', 'liberal-democrat', 'labour', 'conservative', 'conservative', 'conservative', 'conservative', 'scottish-national-party', 'conservative', 'conservative', 'labour', 'conservative', 'labour', 'plaid-cymru', 'conservative', 'conservative', 'conservative', 'conservative', 'labour', 'conservative', 'independent', 'labour', 'liberal-democrat', 'liberal-democrat', 'conservative', 'conservative', 'conservative', 'labour', 'labour', 'labour', 'conservative', 'liberal-democrat', 'liberal-democrat', 'conservative', 'labour', 'conservative', 'conservative', 'labour', 'labour', 'conservative', 'conservative', 'labour', 'conservative', 'labour', 'labour', 'labour', 'dup', 'conservative', 'dup', 'conservative', 'conservative', 'labour', 'labour', 'conservative', 'conservative', 'labour', 'conservative', 'labour', 'labour', 'conservative', 'liberal-democrat', 'labour', 'conservative', 'liberal-democrat', 'conservative', 'labour', 'conservative', 'conservative', 'labour', 'labour', 'scottish-national-party', 'dup', 'conservative', 'conservative', 'conservative', 'labour', 'labour', 'labour', 'labour', 'conservative', 'liberal-democrat', 'conservative', 'conservative', 'conservative', 'labour', 'conservative', 'conservative', 'labour', 'labour', 'labour', 'labour', 'labour', 'dup', 'labour', 'scottish-national-party', 'conservative', 'conservative', 'conservative', 'labour', 'labour', 'conservative', 'labour', 'conservative', 'conservative', 'labour', 'conservative', 'labourco-operative', 'conservative', 'conservative', 'conservative', 'conservative', 'liberal-democrat', 'labourco-operative', 'labour', 'labour', 'labour', 'conservative', 'conservative', 'labour', 'labour', 'labour', 'labourco-operative', 'labourco-operative', 'labour', 'conservative', 'conservative', 'conservative', 'labour', 'conservative', 'labour', 'conservative', 'labour', 'labour', 'labour', 'labour', 'labour', 'liberal-democrat', 'labour', 'conservative', 'conservative', 'labour', 'conservative', 'labour', 'labour', 'conservative', 'labour', 'labour', 'labour', 'labour', 'labour', 'conservative', 'labour', 'labour', 'conservative', 'scottish-national-party', 'labour', 'labour', 'labour', 'conservative', 'conservative', 'labour', 'liberal-democrat', 'conservative', 'scottish-national-party', 'labour', 'conservative', 'labour', 'conservative', 'labour', 'conservative', 'labour', 'conservative', 'conservative', 'labour', 'labour', 'conservative', 'plaid-cymru', 'conservative', 'conservative', 'labour', 'labour', 'conservative', 'conservative', 'liberal-democrat', 'scottish-national-party', 'conservative', 'liberal-democrat', 'conservative', 'labour', 'conservative', 'conservative', 'conservative', 'conservative', 'liberal-democrat', 'conservative', 'labour', 'conservative', 'conservative', 'labour', 'conservative', 'conservative', 'labour', 'scottish-national-party', 'conservative', 'liberal-democrat', 'labour', 'labour', 'conservative', 'conservative', 'labour', 'labour', 'labour', 'uup', 'dup', 'labour', 'conservative', 'liberal-democrat', 'labour', 'labour', 'labour', 'labour', 'uup', 'liberal-democrat', 'labour', 'conservative', 'plaid-cymru', 'labour', 'conservative', 'dup', 'conservative', 'conservative', 'conservative', 'labour', 'labour', 'scottish-national-party', 'labour', 'liberal-democrat', 'labourco-operative', 'labour', 'conservative', 'independent', 'conservative', 'conservative', 'conservative', 'liberal-democrat', 'labour', 'labour', 'conservative', 'labour', 'labour', 'conservative', 'liberal-democrat', 'conservative', 'liberal-democrat', 'labourco-operative', 'labour', 'social-democratic-and-labour-party', 'liberal-democrat', 'labour', 'conservative', 'labour', 'conservative', 'liberal-democrat', 'plaid-cymru', 'labour', 'liberal-democrat', 'conservative', 'liberal-democrat', 'conservative', 'labour', 'labour', 'conservative', 'labour', 'scottish-national-party', 'liberal-democrat', 'labour', 'labour', 'conservative', 'scottish-national-party', 'conservative', 'plaid-cymru', 'conservative', 'labour', 'conservative', 'dup', 'liberal-democrat', 'conservative', 'labour', 'labour', 'conservative', 'liberal-democrat', 'labourco-operative', 'conservative', 'conservative', 'labour', 'conservative', 'conservative', 'conservative', 'labour', 'liberal-democrat', 'conservative', 'conservative', 'labour', 'labour', 'liberal-democrat', 'conservative', 'labour', 'conservative', 'scottish-national-party', 'dup', 'conservative', 'labour', 'labour', 'conservative', 'labour', 'dup', 'conservative', 'labourco-operative', 'labour', 'labour', 'dup', 'labour', 'labour', 'conservative', 'conservative', 'liberal-democrat', 'labour', 'labour', 'conservative', 'conservative', 'conservative', 'conservative', 'conservative', 'conservative', 'dup', 'labour', 'conservative', 'labour', 'conservative', 'labour', 'labour', 'labour', 'conservative', 'labour', 'liberal-democrat', 'conservative', 'labour', 'labour', 'labour', 'conservative', 'labour', 'scottish-national-party', 'conservative', 'conservative', 'conservative', 'labour', 'labour', 'labour', 'conservative', 'conservative', 'conservative', 'conservative', 'conservative', 'labour', 'scottish-national-party', 'labour', 'conservative', 'liberal-democrat', 'labour', 'liberal-democrat', 'labour', 'conservative', 'labour', 'conservative', 'labour', 'labour', 'conservative', 'labour', 'labour', 'liberal-democrat', 'liberal-democrat', 'liberal-democrat', 'labour', 'conservative', 'labour', 'conservative', 'labour', 'conservative', 'labour', 'labour', 'liberal-democrat', 'conservative', 'labourco-operative', 'conservative', 'plaid-cymru', 'conservative', 'labour', 'conservative', 'conservative', 'conservative', 'liberal-democrat', 'liberal-democrat', 'plaid-cymru', 'conservative', 'labour', 'conservative', 'liberal-democrat', 'labour', 'labour', 'conservative', 'liberal-democrat', 'liberal-democrat', 'conservative', 'independent', 'labour', 'labour', 'conservative', 'conservative', 'conservative', 'conservative', 'conservative', 'labour', 'labour', 'conservative', 'labour', 'labour', 'conservative', 'labour', 'conservative', 'labour', 'labour', 'labour', 'liberal-democrat', 'labour', 'conservative', 'labour', 'conservative', 'conservative', 'labour', 'labour', 'labour', 'conservative', 'conservative', 'labour', 'conservative', 'liberal-democrat', 'labour', 'labour', 'conservative', 'conservative', 'labour', 'conservative', 'conservative', 'conservative', 'conservative', 'labour', 'labour', 'scottish-national-party', 'labour', 'ukip', 'labour', 'scottish-national-party', 'conservative', 'plaid-cymru', 'labour', 'labour', 'conservative', 'conservative', 'dup', 'labour', 'labour', 'conservative', 'labour', 'conservative', 'labour', 'labour', 'conservative', 'labour', 'labour', 'conservative', 'labour', 'conservative', 'conservative', 'conservative', 'labour', 'conservative', 'labour', 'conservative', 'labour', 'labour', 'labour', 'scottish-national-party', 'liberal-democrat', 'conservative', 'liberal-democrat', 'labour', 'labourco-operative', 'conservative', 'conservative', 'labourco-operative', 'liberal-democrat', 'labour', 'conservative', 'conservative', 'labour', 'conservative', 'conservative', 'labour', 'liberal-democrat', 'conservative', 'conservative', 'conservative', 'conservative', 'liberal-democrat', 'conservative', 'labour', 'conservative', 'conservative', 'labour', 'conservative', 'labour', 'conservative', 'conservative', 'liberal-democrat', 'scottish-national-party', 'labour', 'liberal-democrat', 'conservative', 'labour', 'liberal-democrat', 'labour', 'conservative', 'conservative', 'liberal-democrat', 'conservative', 'labour', 'labour', 'conservative', 'conservative', 'conservative', 'conservative', 'conservative', 'labour', 'conservative', 'conservative', 'liberal-democrat', 'independent', 'conservative', 'labour', 'labourco-operative', 'labour', 'labour', 'conservative', 'scottish-national-party', 'labour', 'conservative', 'labour', 'conservative', 'social-democratic-and-labour-party', 'conservative', 'labour', 'labour', 'conservative', 'labour', 'plaid-cymru', 'conservative', 'labour', 'conservative', 'conservative', 'scottish-national-party', 'liberal-democrat', 'labour', 'labour', 'labour', 'labour', 'labour', 'labour', 'conservative', 'liberal-democrat', 'liberal-democrat', 'conservative', 'conservative', 'labour', 'conservative', 'conservative', 'conservative', 'conservative', 'dup', 'labour', 'labour', 'labour', 'labourco-operative', 'labour', 'social-democratic-and-labour-party', 'labour', 'labour', 'conservative', 'liberal-democrat', 'conservative', 'conservative', 'labour', 'conservative', 'conservative', 'conservative', 'labour', 'liberal-democrat', 'labour', 'labourco-operative', 'conservative', 'conservative', 'conservative', 'labour', 'conservative', 'labour', 'labour', 'conservative', 'conservative', 'labour', 'conservative', 'conservative', 'conservative', 'labour', 'conservative', 'labour', 'conservative', 'labour', 'conservative', 'labour', 'conservative', 'conservative', 'scottish-national-party', 'conservative', 'labour', 'conservative', 'conservative', 'uup', 'conservative', 'liberal-democrat', 'labour', 'labour', 'labour', 'conservative', 'conservative', 'liberal-democrat', 'conservative', 'conservative', 'labour', 'conservative', 'conservative', 'labour', 'plaid-cymru', 'scottish-national-party', 'conservative', 'liberal-democrat', 'conservative', 'conservative', 'conservative', 'labour', 'conservative', 'conservative', 'labour', 'conservative', 'labour', 'plaid-cymru', 'conservative', 'labour', 'labour', 'labour', 'conservative', 'labour', 'uup', 'labour', 'labour', 'conservative', 'labour', 'labour', 'labour', 'labour', 'conservative', 'liberal-democrat', 'conservative', 'labour', 'labour', 'labour', 'labour', 'labour', 'conservative', 'liberal-democrat', 'liberal-democrat', 'labour', 'conservative', 'conservative', 'conservative', 'labour', 'dup', 'labour', 'conservative', 'conservative', 'conservative', 'conservative', 'conservative', 'conservative', 'labour', 'conservative', 'labour', 'liberal-democrat', 'conservative', 'labour', 'labour', 'labour', 'labour', 'conservative', 'green', 'labour', 'conservative', 'labour', 'labour', 'conservative', 'conservative', 'conservative', 'conservative', 'conservative', 'conservative', 'labour', 'conservative', 'labour', 'labour', 'dup', 'green', 'conservative', 'liberal-democrat', 'labour', 'conservative', 'labour', 'conservative', 'conservative', 'conservative', 'social-democratic-and-labour-party', 'liberal-democrat', 'conservative', 'conservative', 'conservative', 'conservative', 'liberal-democrat', 'conservative', 'scottish-national-party', 'labour', 'labour', 'conservative', 'conservative', 'labourco-operative', 'conservative', 'conservative', 'conservative', 'plaid-cymru', 'labour', 'conservative', 'conservative', 'conservative', 'liberal-democrat', 'labour', 'conservative', 'labour', 'labourco-operative', 'labour', 'labour', 'conservative', 'labour', 'labour', 'labour', 'labour', 'liberal-democrat', 'labour', 'uup', 'labour', 'labour', 'labour', 'labour', 'conservative', 'conservative', 'labour', 'conservative', 'conservative', 'labour', 'labour', 'labour', 'conservative', 'liberal-democrat', 'labour', 'labour', 'labour', 'liberal-democrat', 'labour', 'conservative', 'labour', 'conservative', 'conservative', 'labour', 'scottish-national-party', 'liberal-democrat', 'dup', 'liberal-democrat', 'conservative', 'labour', 'conservative', 'conservative', 'labour', 'conservative', 'labour', 'labour', 'labour', 'uup', 'conservative', 'conservative', 'conservative', 'liberal-democrat', 'labour', 'labour', 'labour', 'conservative', 'plaid-cymru', 'liberal-democrat', 'conservative', 'conservative', 'conservative', 'liberal-democrat', 'labour', 'scottish-national-party', 'conservative', 'labour', 'dup', 'conservative', 'labour', 'conservative', 'labour', 'conservative', 'labour', 'conservative', 'conservative', 'labour', 'conservative', 'labour', 'conservative', 'conservative', 'labour', 'conservative', 'conservative', 'conservative', 'labour', 'conservative', 'conservative', 'conservative', 'social-democratic-and-labour-party', 'liberal-democrat', 'conservative', 'labourco-operative', 'conservative', 'conservative', 'labour', 'labour', 'conservative', 'labour', 'liberal-democrat', 'conservative', 'conservative', 'labour', 'plaid-cymru', 'labour', 'labour', 'conservative', 'conservative', 'labour', 'liberal-democrat', 'labour', 'conservative', 'labour', 'labour', 'conservative', 'conservative', 'conservative', 'conservative', 'conservative', 'labour', 'labour', 'conservative', 'labour', 'scottish-national-party', 'labour', 'labour', 'conservative', 'labour', 'labour', 'conservative', 'labourco-operative', 'conservative', 'conservative', 'conservative', 'labour', 'independent', 'scottish-national-party', 'labour', 'labour', 'labour', 'conservative', 'conservative', 'conservative', 'liberal-democrat', 'labour', 'conservative', 'conservative', 'labour', 'labour', 'labour', 'conservative', 'labour', 'labour', 'conservative', 'labour', 'conservative', 'labour', 'social-democratic-and-labour-party', 'labour', 'liberal-democrat', 'labour', 'conservative', 'labour', 'liberal-democrat', 'conservative', 'liberal-democrat', 'labour', 'labour', 'conservative', 'liberal-democrat', 'labour', 'liberal-democrat', 'labour', 'conservative', 'labourco-operative', 'labour', 'conservative', 'conservative', 'conservative', 'conservative', 'conservative', 'conservative', 'conservative', 'conservative', 'labour', 'liberal-democrat', 'labour', 'conservative', 'labour', 'conservative', 'labour', 'labour', 'labour', 'conservative', 'conservative', 'social-democratic-and-labour-party', 'labour', 'labour', 'conservative', 'labour', 'conservative', 'conservative', 'labour', 'conservative', 'labour', 'conservative', 'conservative', 'liberal-democrat', 'labour', 'conservative', 'liberal-democrat', 'conservative', 'conservative', 'conservative', 'labour', 'labour', 'scottish-national-party', 'conservative', 'labour', 'conservative', 'conservative', 'conservative', 'conservative', 'conservative', 'labour', 'labour', 'labour', 'green', 'conservative', 'liberal-democrat', 'labour', 'labour', 'labour', 'conservative', 'labour', 'labour', 'conservative', 'conservative', 'conservative', 'conservative', 'conservative', 'conservative', 'conservative', 'labour', 'labour', 'labour', 'conservative', 'labour', 'labour', 'conservative', 'conservative', 'conservative', 'labour', 'plaid-cymru', 'labour', 'conservative', 'conservative', 'conservative', 'conservative', 'conservative', 'labour', 'labour', 'conservative', 'labour', 'labour', 'conservative', 'labour', 'liberal-democrat', 'labour', 'conservative', 'scottish-national-party', 'labour', 'liberal-democrat', 'conservative', 'labour', 'labour', 'labour', 'dup', 'dup', 'social-democratic-and-labour-party', 'conservative', 'labour', 'scottish-national-party', 'labour', 'scottish-national-party', 'conservative', 'labour', 'labour', 'labour', 'labour', 'liberal-democrat', 'scottish-national-party', 'labour', 'conservative', 'conservative', 'labour', 'labour', 'conservative', 'conservative', 'labourco-operative', 'labour', 'labour', 'labour', 'labour', 'conservative', 'liberal-democrat', 'labour', 'labour', 'labour', 'conservative', 'labour', 'labour', 'conservative', 'conservative', 'labour', 'uup', 'labour', 'labour', 'labour', 'conservative', 'conservative', 'liberal-democrat', 'conservative', 'conservative', 'labour', 'conservative', 'liberal-democrat', 'conservative', 'conservative', 'labour', 'labour', 'labour', 'labour', 'labour', 'labour', 'liberal-democrat', 'conservative', 'conservative', 'conservative', 'conservative', 'labour', 'labour', 'liberal-democrat', 'labour', 'labour', 'labour', 'labour', 'labour', 'conservative', 'labour', 'labour', 'labour', 'labour', 'conservative', 'conservative', 'liberal-democrat', 'conservative', 'uup', 'conservative', 'independent-conservative', 'labour', 'dup', 'labour', 'liberal-democrat', 'conservative', 'conservative', 'labour', 'liberal-democrat', 'labour', 'labour', 'conservative', 'conservative', 'labour', 'labour', 'labour', 'conservative', 'labour', 'conservative', 'labour', 'conservative', 'conservative', 'conservative', 'labour', 'liberal-democrat', 'labour', 'labour', 'liberal-democrat', 'labourco-operative', 'dup', 'scottish-national-party', 'conservative', 'conservative', 'labour', 'labour', 'labour', 'labourco-operative', 'conservative', 'conservative', 'conservative', 'conservative', 'labour', 'liberal-democrat', 'labour', 'dup', 'conservative', 'labour', 'labourco-operative', 'plaid-cymru', 'labour', 'conservative', 'labourco-operative', 'labour', 'independent', 'scottish-national-party', 'conservative', 'conservative', 'labour', 'labour', 'labour', 'social-democratic-and-labour-party', 'conservative', 'conservative', 'labour', 'labour', 'labourco-operative', 'labour', 'labour', 'labour', 'labour', 'conservative', 'labour', 'conservative', 'conservative', 'conservative', 'labour', 'labour', 'conservative', 'dup', 'conservative', 'conservative', 'conservative', 'liberal-democrat', 'labour', 'conservative', 'conservative', 'liberal-democrat', 'conservative', 'conservative', 'conservative', 'labour', 'conservative', 'labour', 'conservative', 'conservative', 'labour', 'conservative', 'conservative', 'labour', 'labour', 'liberal-democrat', 'conservative', 'conservative', 'conservative', 'labour', 'labour', 'conservative', 'labour', 'labour', 'liberal-democrat', 'scottish-national-party', 'liberal-democrat', 'plaid-cymru', 'labour', 'conservative', 'labour', 'conservative', 'labour', 'labour', 'conservative', 'conservative', 'conservative', 'conservative', 'conservative', 'conservative', 'plaid-cymru', 'liberal-democrat', 'liberal-democrat', 'labour', 'conservative', 'conservative', 'labour', 'conservative', 'labour', 'conservative', 'labour', 'labour', 'labour', 'labour', 'conservative', 'conservative', 'labour', 'labour', 'labour', 'conservative', 'social-democratic-and-labour-party', 'conservative', 'liberal-democrat', 'labour', 'conservative', 'labour', 'scottish-national-party', 'scottish-national-party', 'conservative', 'labour', 'liberal-democrat', 'conservative', 'labour', 'liberal-democrat', 'scottish-national-party', 'conservative', 'conservative', 'labour', 'labour', 'conservative', 'conservative', 'conservative', 'labour', 'liberal-democrat', 'labour', 'conservative', 'conservative', 'labour', 'conservative', 'conservative', 'labour', 'liberal-democrat', 'conservative', 'labour', 'labour', 'plaid-cymru', 'conservative', 'labour', 'labour', 'labour', 'labour', 'labour', 'conservative', 'conservative', 'conservative', 'labour', 'liberal-democrat', 'conservative', 'conservative', 'labour', 'labour', 'conservative', 'labourco-operative', 'labour', 'conservative', 'conservative', 'labour', 'labour', 'labour', 'labour', 'conservative', 'labour', 'conservative', 'scottish-national-party', 'conservative', 'conservative', 'labour', 'conservative', 'labour', 'conservative', 'conservative', 'labour', 'uup', 'conservative', 'conservative', 'conservative', 'conservative', 'labour', 'labour', 'labour', 'labour', 'conservative', 'labour', 'conservative', 'scottish-national-party', 'conservative', 'liberal-democrat', 'conservative', 'conservative', 'labour', 'conservative', 'labourco-operative', 'conservative', 'scottish-national-party', 'uup', 'labour', 'labour', 'labour', 'labourco-operative', 'conservative', 'scottish-national-party', 'labour', 'labour', 'scottish-national-party', 'conservative', 'conservative', 'liberal-democrat', 'labour', 'labour', 'labour', 'labour', 'labour', 'scottish-national-party', 'conservative', 'labour', 'labour', 'conservative', 'liberal-democrat', 'liberal-democrat', 'labour', 'liberal-democrat', 'conservative', 'labour', 'conservative', 'conservative', 'labour', 'conservative', 'conservative', 'scottish-national-party', 'labour', 'conservative', 'conservative', 'conservative', 'conservative', 'conservative', 'labour', 'labour', 'conservative', 'labour', 'labour', 'independent-ulster-unionist', 'labour', 'conservative', 'conservative', 'conservative', 'labour', 'liberal-democrat', 'labourco-operative', 'scottish-national-party', 'conservative', 'labour', 'labour', 'labour', 'conservative', 'liberal-democrat', 'conservative', 'scottish-national-party', 'labour', 'labour', 'conservative', 'social-democratic-and-labour-party', 'liberal-democrat', 'plaid-cymru', 'scottish-national-party', 'labour', 'conservative', 'conservative', 'labourco-operative', 'labour', 'conservative', 'conservative', 'conservative', 'labour', 'conservative', 'labour', 'conservative', 'labourco-operative', 'conservative', 'conservative', 'conservative', 'conservative', 'liberal-democrat', 'labour', 'labour', 'dup', 'labour', 'conservative', 'labour', 'labour', 'social-democratic-and-labour-party', 'labour', 'labour', 'conservative', 'labour', 'labour', 'conservative', 'liberal-democrat', 'liberal-democrat', 'labour', 'labour', 'liberal-democrat', 'labour', 'labour', 'labour', 'conservative', 'conservative', 'labour', 'labour', 'conservative', 'conservative', 'conservative', 'conservative', 'liberal-democrat', 'conservative', 'conservative', 'conservative', 'labour', 'labour', 'labour', 'scottish-national-party', 'conservative', 'labour', 'labour', 'conservative', 'labour', 'conservative', 'conservative', 'conservative', 'conservative', 'independent', 'labour', 'dup', 'labour', 'scottish-national-party', 'labour', 'labour', 'labour', 'conservative', 'ukip', 'labour', 'labour', 'conservative', 'conservative', 'dup', 'labour', 'conservative', 'conservative', 'labour', 'labour', 'conservative', 'conservative', 'liberal-democrat', 'conservative', 'labour', 'labour', 'conservative', 'labour', 'scottish-national-party', 'labour', 'labour', 'labour', 'labour', 'conservative', 'labour', 'conservative', 'labour', 'conservative', 'labour', 'dup', 'conservative', 'scottish-national-party', 'liberal-democrat', 'independent', 'labour', 'labour', 'liberal-democrat', 'labour', 'conservative', 'labour', 'conservative', 'liberal-democrat', 'scottish-national-party', 'conservative', 'labour', 'conservative', 'conservative', 'labour', 'conservative', 'conservative', 'labour', 'labour', 'labour', 'labour', 'labour', 'conservative', 'conservative', 'conservative', 'conservative', 'conservative', 'scottish-national-party', 'labourco-operative', 'labour', 'labour', 'scottish-national-party', 'plaid-cymru', 'conservative', 'conservative', 'labour', 'conservative', 'conservative', 'labour', 'dup', 'conservative', 'conservative', 'conservative', 'labour', 'labour', 'conservative', 'conservative', 'dup', 'conservative', 'liberal-democrat', 'conservative', 'liberal-democrat', 'conservative', 'labour', 'labour', 'conservative', 'conservative', 'green', 'conservative', 'conservative', 'conservative', 'plaid-cymru', 'conservative', 'conservative', 'labour', 'conservative', 'conservative', 'labour', 'conservative', 'conservative', 'labour', 'conservative', 'labour', 'labour', 'labour', 'labour', 'labour', 'conservative', 'conservative', 'labour', 'conservative', 'conservative', 'conservative', 'labour', 'scottish-national-party', 'labour', 'conservative', 'labour', 'labour', 'social-democratic-and-labour-party', 'conservative', 'conservative', 'labour', 'conservative', 'labour', 'labour', 'conservative', 'labour', 'liberal-democrat', 'conservative', 'liberal-democrat', 'independent', 'conservative', 'conservative', 'conservative', 'conservative', 'labour', 'scottish-national-party', 'liberal-democrat', 'uup', 'labour', 'conservative', 'labour', 'conservative', 'conservative', 'conservative', 'conservative', 'liberal-democrat', 'labour', 'labour', 'labour', 'labour', 'conservative', 'conservative', 'conservative', 'labour', 'scottish-national-party', 'scottish-national-party', 'labour', 'labour', 'liberal-democrat', 'conservative', 'liberal-democrat', 'conservative', 'scottish-national-party', 'conservative', 'labourco-operative', 'labour', 'labour', 'labour', 'labour', 'labour', 'labour', 'labour', 'independent', 'liberal-democrat', 'labour', 'conservative', 'conservative', 'conservative', 'labour', 'labour', 'conservative', 'conservative', 'social-democratic-and-labour-party', 'labour', 'labour', 'labour', 'labour', 'conservative', 'scottish-national-party', 'labour', 'conservative', 'conservative', 'conservative', 'conservative', 'conservative', 'scottish-national-party', 'conservative', 'conservative', 'conservative', 'labour', 'conservative', 'conservative', 'scottish-national-party', 'conservative', 'labour', 'liberal-democrat', 'conservative', 'conservative', 'labour', 'conservative', 'liberal-democrat', 'conservative', 'labour', 'labour', 'conservative', 'conservative', 'conservative', 'labour', 'labour', 'labour', 'labour', 'labour', 'labour', 'labour', 'conservative', 'labour', 'liberal-democrat', 'conservative', 'conservative', 'labour', 'labour', 'scottish-national-party', 'conservative', 'conservative', 'labour', 'conservative', 'conservative', 'conservative', 'labour', 'labour', 'labour', 'labour', 'labour', 'conservative', 'labour', 'labour', 'labour', 'labour', 'labour', 'conservative', 'liberal-democrat', 'conservative', 'conservative', 'conservative', 'conservative', 'conservative', 'labour', 'conservative', 'labour', 'conservative', 'labour', 'conservative', 'labour', 'independent', 'labour', 'liberal-democrat', 'green', 'conservative', 'conservative', 'conservative', 'liberal-democrat', 'labour', 'labour', 'conservative', 'labour', 'labour', 'liberal-democrat', 'labour', 'scottish-national-party', 'labour', 'conservative', 'conservative', 'conservative', 'conservative', 'conservative', 'conservative', 'conservative', 'scottish-national-party', 'liberal-democrat', 'labour', 'conservative', 'conservative', 'scottish-national-party', 'conservative', 'labour', 'conservative', 'social-democratic-and-labour-party', 'labour', 'conservative', 'liberal-democrat', 'labour', 'labour', 'labour', 'labourco-operative', 'liberal-democrat', 'conservative', 'conservative', 'labour', 'liberal-democrat', 'conservative', 'liberal-democrat', 'labour', 'conservative', 'scottish-national-party', 'labourco-operative', 'liberal-democrat', 'liberal-democrat', 'labour', 'conservative', 'labour', 'liberal-democrat', 'conservative', 'labour', 'conservative', 'conservative', 'conservative', 'conservative', 'labour', 'labour', 'labour', 'labour', 'conservative', 'labour', 'labour', 'labour', 'conservative', 'scottish-national-party', 'conservative', 'labour', 'conservative', 'plaid-cymru', 'labourco-operative', 'conservative', 'labour', 'labour', 'conservative', 'labour', 'conservative', 'labour', 'labour', 'conservative', 'labour', 'conservative', 'liberal-democrat', 'liberal-democrat', 'conservative', 'dup', 'conservative', 'dup', 'social-democratic-and-labour-party', 'conservative', 'conservative', 'labour', 'labour', 'labour', 'labour', 'dup', 'conservative', 'labour', 'conservative', 'dup', 'conservative', 'labour', 'conservative', 'labour', 'conservative', 'scottish-national-party', 'conservative', 'labour', 'conservative', 'conservative', 'scottish-national-party', 'conservative', 'conservative', 'dup', 'conservative', 'conservative', 'conservative', 'conservative', 'green', 'conservative', 'conservative', 'labour', 'conservative', 'liberal-democrat', 'labour', 'liberal-democrat', 'labour', 'conservative', 'labour', 'conservative', 'labour', 'labour', 'labour', 'conservative', 'labour', 'labourco-operative', 'conservative', 'labour', 'conservative', 'labour', 'labour', 'conservative', 'labour', 'labour', 'independent', 'conservative', 'independent', 'labourco-operative', 'conservative', 'conservative', 'labour', 'scottish-national-party', 'conservative', 'conservative', 'scottish-national-party', 'conservative', 'liberal-democrat', 'labour', 'conservative', 'conservative', 'conservative', 'conservative', 'labour', 'scottish-national-party', 'conservative', 'conservative', 'labour', 'labour', 'conservative', 'labour', 'labour', 'labour', 'scottish-national-party', 'conservative', 'labour', 'conservative', 'labour', 'conservative', 'labour', 'liberal-democrat', 'conservative', 'conservative', 'green', 'labour', 'labour', 'labour', 'conservative', 'labour', 'labour', 'labour', 'labour', 'conservative', 'liberal-democrat', 'liberal-democrat', 'liberal-democrat', 'conservative', 'labour', 'labour', 'conservative', 'labour', 'conservative', 'labour', 'conservative', 'conservative', 'conservative', 'conservative', 'conservative', 'labour', 'labour', 'labour', 'conservative', 'conservative', 'labour', 'labour', 'labour', 'conservative', 'labour', 'scottish-national-party', 'labour', 'conservative', 'labour', 'conservative', 'liberal-democrat', 'labour', 'conservative', 'labour', 'conservative', 'liberal-democrat', 'uup', 'dup', 'conservative', 'conservative', 'labour', 'labour', 'labour', 'scottish-national-party', 'conservative', 'labour', 'labour', 'labour', 'scottish-national-party', 'labour', 'conservative', 'labourco-operative', 'conservative', 'conservative', 'labour', 'labour', 'scottish-national-party', 'conservative', 'conservative', 'conservative', 'conservative', 'conservative', 'dup', 'labour', 'labour', 'labourco-operative', 'conservative', 'labour', 'labour', 'labour', 'labour', 'conservative', 'labour', 'liberal-democrat', 'labour', 'plaid-cymru', 'labour', 'labour', 'conservative', 'labour', 'conservative', 'labour', 'conservative', 'labour', 'conservative', 'labour', 'liberal-democrat', 'conservative', 'conservative', 'labour', 'labour', 'labour', 'conservative', 'labour', 'conservative', 'conservative', 'labourco-operative', 'conservative', 'labourco-operative', 'labour', 'labour', 'conservative', 'scottish-national-party', 'conservative', 'scottish-national-party', 'conservative', 'conservative', 'conservative', 'conservative', 'labourco-operative', 'labour', 'plaid-cymru', 'conservative', 'liberal-democrat', 'liberal-democrat', 'labour', 'conservative', 'labour', 'liberal-democrat', 'labour', 'labour', 'labour', 'liberal-democrat', 'labour', 'conservative', 'labour', 'labour', 'scottish-national-party', 'conservative', 'labour', 'labour', 'conservative', 'scottish-national-party', 'conservative', 'scottish-national-party', 'labour', 'conservative', 'labour', 'liberal-democrat', 'conservative', 'labour', 'labour', 'labour', 'labour', 'conservative', 'liberal-democrat', 'conservative', 'conservative', 'conservative', 'conservative', 'labour', 'conservative', 'conservative', 'conservative', 'scottish-national-party', 'conservative', 'labour', 'conservative', 'labour', 'conservative', 'dup', 'dup', 'labour', 'conservative', 'liberal-democrat', 'conservative', 'labour', 'conservative', 'conservative', 'plaid-cymru', 'labour', 'plaid-cymru', 'labour', 'conservative', 'plaid-cymru', 'conservative', 'liberal-democrat', 'liberal-democrat', 'labour', 'labourco-operative', 'liberal-democrat', 'liberal-democrat', 'conservative', 'conservative', 'labour', 'conservative', 'conservative', 'labour', 'labour', 'labour', 'conservative', 'conservative', 'conservative', 'labour', 'labour', 'dup', 'labour', 'conservative', 'labour', 'labour', 'liberal-democrat', 'scottish-national-party', 'labour', 'labour', 'liberal-democrat', 'labour', 'conservative', 'conservative', 'labour', 'scottish-national-party', 'labourco-operative', 'conservative', 'scottish-national-party', 'labour', 'conservative', 'liberal-democrat', 'labour', 'liberal-democrat', 'scottish-national-party', 'labour', 'labour', 'labour', 'conservative', 'labourco-operative', 'liberal-democrat', 'conservative', 'conservative', 'conservative', 'labour', 'labour', 'liberal-democrat', 'conservative', 'labour', 'labourco-operative', 'liberal-democrat', 'conservative', 'labour', 'labour', 'labour', 'labour', 'conservative', 'conservative', 'conservative', 'conservative', 'scottish-national-party', 'labour', 'labour', 'labour', 'liberal-democrat', 'labour', 'conservative', 'scottish-national-party', 'labour', 'labour', 'labour', 'labour', 'conservative', 'labourco-operative', 'labour', 'conservative', 'labour', 'labour', 'liberal-democrat', 'labour', 'conservative', 'labour', 'labour', 'labour', 'labour', 'conservative', 'labour', 'conservative', 'labour', 'conservative', 'conservative', 'labour', 'labourco-operative', 'labour', 'labour', 'liberal-democrat', 'dup', 'conservative', 'conservative', 'conservative', 'liberal-democrat', 'conservative', 'scottish-national-party', 'labour', 'labour', 'conservative', 'labour', 'conservative', 'liberal-democrat', 'liberal-democrat', 'conservative', 'conservative', 'labourco-operative', 'conservative', 'conservative', 'labour', 'labour', 'labour', 'labour', 'labour', 'labour', 'labour', 'labour', 'conservative', 'labour', 'conservative', 'labour', 'scottish-national-party', 'labour', 'conservative', 'conservative', 'conservative', 'conservative', 'labour', 'conservative', 'conservative', 'liberal-democrat', 'conservative', 'conservative', 'independent', 'labour', 'labour', 'scottish-national-party', 'conservative', 'labour', 'labourco-operative', 'labour', 'labour', 'conservative', 'conservative', 'conservative', 'conservative', 'labour', 'conservative', 'conservative', 'labour', 'conservative', 'conservative', 'labour', 'conservative', 'uup', 'labour', 'conservative', 'labour', 'conservative', 'conservative', 'labour', 'conservative', 'labourco-operative', 'dup', 'labour', 'labour', 'labour', 'conservative', 'labourco-operative', 'conservative', 'conservative', 'dup', 'conservative', 'conservative', 'labour', 'conservative', 'green', 'labour', 'conservative', 'labour', 'labour', 'labour', 'conservative', 'dup', 'labour', 'dup', 'labour', 'conservative', 'conservative', 'scottish-national-party', 'labour', 'liberal-democrat', 'labour', 'social-democratic-and-labour-party', 'conservative', 'labour', 'conservative', 'labour', 'liberal-democrat', 'labour', 'dup', 'labour', 'labour', 'conservative', 'conservative', 'conservative', 'conservative', 'labour', 'plaid-cymru', 'conservative', 'conservative', 'conservative', 'labour', 'conservative', 'conservative', 'labour', 'liberal-democrat', 'scottish-national-party', 'labour', 'labourco-operative', 'labour', 'conservative', 'conservative', 'conservative', 'labour', 'labour', 'conservative', 'scottish-national-party', 'labourco-operative', 'labour', 'conservative', 'conservative', 'liberal-democrat', 'conservative', 'labour', 'labour', 'uup', 'conservative', 'labour', 'conservative', 'labour', 'scottish-national-party', 'conservative', 'conservative', 'labour', 'conservative', 'conservative', 'liberal-democrat', 'labour', 'labour', 'conservative', 'labour', 'scottish-national-party', 'liberal-democrat', 'labour', 'labour', 'dup', 'labour', 'liberal-democrat', 'conservative', 'labour', 'conservative', 'labour', 'labour', 'labour', 'conservative', 'labour', 'labour', 'labour', 'labourco-operative', 'conservative', 'conservative', 'conservative', 'conservative', 'conservative', 'labour', 'labour', 'labour', 'liberal-democrat', 'conservative', 'labour', 'scottish-national-party', 'labour', 'scottish-national-party', 'conservative', 'conservative', 'labour', 'conservative', 'conservative', 'labour', 'labour', 'conservative', 'green', 'labour', 'conservative', 'conservative', 'conservative', 'conservative', 'labour', 'scottish-national-party', 'liberal-democrat', 'labour', 'labour', 'labour', 'conservative', 'labour', 'scottish-national-party', 'conservative', 'labour', 'conservative', 'labour', 'labour', 'labour', 'conservative', 'labourco-operative', 'liberal-democrat', 'labour', 'labour', 'labour', 'conservative', 'labour', 'labour', 'liberal-democrat', 'conservative', 'labour', 'labour', 'liberal-democrat', 'liberal-democrat', 'labour', 'conservative', 'liberal-democrat', 'labour', 'labour', 'liberal-democrat', 'labour', 'conservative', 'conservative', 'scottish-national-party', 'conservative', 'liberal-democrat', 'conservative', 'conservative', 'liberal-democrat', 'conservative', 'labour', 'labourco-operative', 'conservative', 'conservative', 'liberal-democrat', 'conservative', 'conservative', 'conservative', 'labour', 'labour', 'labour', 'labour', 'social-democratic-and-labour-party', 'labour', 'conservative', 'conservative', 'labour', 'conservative', 'conservative', 'labourco-operative', 'scottish-national-party', 'labour', 'conservative', 'liberal-democrat', 'labour', 'conservative', 'conservative', 'conservative', 'labour', 'conservative', 'scottish-national-party', 'conservative', 'labour', 'labour', 'labour', 'liberal-democrat', 'labour', 'uup', 'liberal-democrat', 'labour', 'conservative', 'conservative', 'liberal-democrat', 'conservative', 'labour', 'labour', 'labour', 'labour', 'conservative', 'labour', 'labourco-operative', 'conservative', 'liberal-democrat', 'liberal-democrat', 'liberal-democrat', 'labour', 'labour', 'labour', 'independent', 'labour', 'labour', 'conservative', 'labour', 'labour', 'labour', 'liberal-democrat', 'labour', 'conservative', 'conservative', 'labour', 'labour', 'conservative', 'conservative', 'social-democratic-and-labour-party', 'conservative', 'conservative', 'conservative', 'conservative', 'conservative', 'labour', 'liberal-democrat', 'conservative', 'liberal-democrat', 'conservative', 'labour', 'liberal-democrat', 'conservative', 'labour', 'labour', 'conservative', 'conservative', 'conservative', 'conservative', 'liberal-democrat', 'conservative', 'labour', 'conservative', 'labour', 'conservative', 'conservative', 'labour', 'labour', 'labour', 'labour', 'labour', 'labourco-operative', 'labourco-operative', 'scottish-national-party', 'labour', 'conservative', 'conservative', 'conservative', 'labour', 'liberal-democrat', 'labour', 'labour', 'labour', 'liberal-democrat', 'conservative', 'labour', 'labour', 'conservative', 'labour', 'labour', 'scottish-national-party', 'conservative', 'conservative', 'labour', 'conservative', 'labour', 'labour', 'conservative', 'conservative', 'labour', 'conservative', 'labour', 'conservative', 'conservative', 'conservative', 'labourco-operative', 'labour', 'labour', 'plaid-cymru', 'labour', 'plaid-cymru', 'labour', 'dup', 'conservative', 'labour', 'conservative', 'plaid-cymru', 'conservative', 'labour', 'conservative', 'conservative', 'labour', 'scottish-national-party', 'conservative', 'conservative', 'labour', 'scottish-national-party', 'conservative', 'conservative', 'labour', 'conservative', 'dup', 'dup', 'conservative', 'conservative', 'conservative', 'conservative', 'labour', 'conservative', 'conservative', 'conservative', 'conservative', 'conservative', 'labour', 'labourco-operative', 'labour', 'conservative', 'dup', 'conservative', 'conservative', 'liberal-democrat', 'conservative', 'conservative', 'labour', 'labour', 'conservative', 'social-democratic-and-labour-party', 'conservative', 'conservative', 'conservative', 'labour', 'conservative', 'labour', 'conservative', 'labour', 'conservative', 'conservative', 'labour', 'scottish-national-party', 'labour', 'labour', 'conservative', 'conservative', 'labour', 'labour', 'scottish-national-party', 'labour', 'labour', 'labour', 'conservative', 'liberal-democrat', 'labour', 'conservative', 'conservative', 'labour', 'labour', 'conservative', 'labourco-operative', 'labour', 'labour', 'labour', 'conservative', 'labourco-operative', 'conservative', 'labour', 'liberal-democrat', 'labour', 'labour', 'labour', 'labour', 'conservative', 'conservative', 'conservative', 'labour', 'conservative', 'conservative', 'labour', 'conservative', 'conservative', 'conservative', 'labour', 'labour', 'dup', 'labour', 'labour', 'liberal-democrat', 'labourco-operative', 'independent', 'conservative', 'labour', 'conservative', 'conservative', 'conservative', 'labour', 'labour', 'conservative', 'labourco-operative', 'conservative', 'conservative', 'conservative', 'conservative', 'conservative', 'dup', 'conservative', 'conservative', 'liberal-democrat', 'labour', 'conservative', 'conservative', 'conservative', 'conservative', 'labour', 'conservative', 'conservative', 'scottish-national-party', 'labour', 'labour', 'conservative', 'green', 'labour', 'conservative', 'labour', 'liberal-democrat', 'conservative', 'labour', 'labour', 'liberal-democrat', 'labour', 'conservative', 'conservative', 'conservative', 'labour', 'liberal-democrat', 'labour', 'conservative', 'conservative', 'conservative', 'labour', 'conservative', 'labour', 'conservative', 'conservative', 'conservative', 'conservative', 'labour', 'conservative', 'liberal-democrat', 'conservative', 'conservative', 'labour', 'labour', 'labour', 'labour', 'liberal-democrat', 'scottish-national-party', 'conservative', 'conservative', 'labour', 'labour', 'labour', 'labour', 'liberal-democrat', 'conservative', 'conservative', 'labour', 'labour', 'conservative', 'labour', 'conservative', 'conservative', 'scottish-national-party', 'conservative', 'liberal-democrat', 'labour', 'labour', 'labour', 'conservative', 'scottish-national-party', 'alliance', 'labour', 'conservative', 'conservative', 'labour', 'labour', 'conservative', 'labour', 'conservative', 'conservative', 'conservative', 'labour', 'scottish-national-party', 'conservative', 'liberal-democrat', 'conservative', 'liberal-democrat', 'labour', 'labour', 'conservative', 'independent', 'labour', 'labour', 'conservative', 'conservative', 'labour', 'conservative', 'labour', 'conservative', 'conservative', 'labour', 'labour', 'conservative', 'labour', 'liberal-democrat', 'labour', 'liberal-democrat', 'conservative', 'labour', 'labour', 'labour', 'labour', 'scottish-national-party', 'liberal-democrat', 'labour', 'liberal-democrat', 'labour', 'conservative', 'conservative', 'labour', 'conservative', 'labour', 'conservative', 'conservative', 'labour', 'labour', 'labour', 'conservative', 'liberal-democrat', 'dup', 'labour', 'labour', 'labour', 'labour', 'labour', 'conservative', 'labour', 'liberal-democrat', 'scottish-national-party', 'labour', 'conservative', 'liberal-democrat', 'liberal-democrat', 'uup', 'conservative', 'conservative', 'liberal-democrat', 'labour', 'liberal-democrat', 'conservative', 'labour', 'labour', 'conservative', 'conservative', 'conservative', 'labour', 'liberal-democrat', 'conservative', 'conservative', 'conservative', 'labour', 'liberal-democrat', 'labour', 'conservative', 'liberal-democrat', 'labour', 'labour', 'labour', 'scottish-national-party', 'liberal-democrat', 'liberal-democrat', 'labour', 'dup', 'conservative', 'labour', 'conservative', 'labour', 'labour', 'conservative', 'labour', 'scottish-national-party', 'labour', 'labour', 'labour', 'liberal-democrat', 'labour', 'labour', 'liberal-democrat', 'labour', 'conservative', 'conservative', 'labour', 'conservative', 'conservative', 'scottish-national-party', 'labour', 'conservative', 'conservative', 'labourco-operative', 'conservative', 'labour', 'liberal-democrat', 'conservative', 'conservative', 'conservative', 'conservative', 'liberal-democrat', 'conservative', 'labour', 'labour', 'conservative', 'conservative', 'liberal-democrat', 'labour', 'labour', 'social-democratic-and-labour-party', 'labour', 'conservative', 'labour', 'labour', 'labour', 'scottish-national-party', 'labour', 'labour', 'conservative', 'labour', 'conservative', 'scottish-national-party', 'liberal-democrat', 'labour', 'conservative', 'conservative', 'labour', 'conservative', 'labour', 'labour', 'labour', 'labour', 'labour', 'conservative', 'labour', 'conservative', 'labour', 'conservative', 'conservative', 'conservative', 'labour', 'labour', 'conservative', 'labour', 'labour', 'conservative', 'labour', 'conservative', 'conservative', 'labour', 'conservative', 'labourco-operative', 'dup', 'conservative', 'labour', 'labour', 'conservative', 'labour', 'labourco-operative', 'liberal-democrat', 'labour', 'conservative', 'conservative', 'labour', 'conservative', 'labour', 'conservative', 'labour', 'liberal-democrat', 'scottish-national-party', 'labour', 'conservative', 'conservative', 'plaid-cymru', 'conservative', 'conservative', 'labourco-operative', 'labour', 'conservative', 'labour', 'dup', 'conservative', 'conservative', 'labour', 'green', 'conservative', 'scottish-national-party', 'labour', 'liberal-democrat', 'dup', 'dup', 'conservative', 'conservative', 'conservative', 'conservative', 'scottish-national-party', 'labour', 'labourco-operative', 'labour', 'conservative', 'conservative', 'labour', 'conservative', 'conservative', 'labour', 'labour', 'conservative', 'labour', 'labour', 'conservative', 'scottish-national-party', 'labour', 'conservative', 'conservative', 'labour', 'conservative', 'liberal-democrat', 'liberal-democrat', 'independent', 'labour', 'conservative', 'labour', 'labour', 'conservative', 'labour', 'labour', 'labour', 'conservative', 'conservative', 'labour', 'conservative', 'conservative', 'conservative', 'conservative', 'labour', 'conservative', 'conservative', 'conservative', 'labour', 'liberal-democrat', 'labour', 'labour', 'labour', 'dup', 'liberal-democrat', 'conservative', 'labour', 'conservative', 'conservative', 'uup', 'conservative', 'labour', 'scottish-national-party', 'liberal-democrat', 'conservative', 'conservative', 'labour', 'labour', 'scottish-national-party', 'conservative', 'labourco-operative', 'conservative', 'scottish-national-party', 'scottish-national-party', 'conservative', 'conservative', 'labourco-operative', 'conservative', 'conservative', 'labour', 'conservative', 'conservative', 'labour', 'labour', 'conservative', 'labour', 'conservative', 'conservative', 'conservative', 'labour', 'conservative', 'labour', 'conservative', 'labour', 'conservative', 'conservative', 'conservative', 'labour', 'conservative', 'labour', 'labour', 'labour', 'conservative', 'labour', 'labour', 'labour', 'social-democratic-and-labour-party', 'conservative', 'labour', 'conservative', 'conservative', 'conservative', 'liberal-democrat', 'conservative', 'scottish-national-party', 'conservative', 'conservative', 'conservative', 'labour', 'conservative', 'dup', 'dup', 'labour', 'conservative', 'labour', 'labour', 'conservative', 'labour', 'conservative', 'labourco-operative', 'labour', 'liberal-democrat', 'scottish-national-party', 'liberal-democrat', 'plaid-cymru', 'labour', 'conservative', 'conservative', 'conservative', 'labour', 'conservative', 'conservative', 'labour', 'labour', 'conservative', 'conservative', 'labour', 'conservative', 'conservative', 'liberal-democrat', 'conservative', 'liberal-democrat', 'labour', 'conservative', 'plaid-cymru', 'labourco-operative', 'labour', 'conservative', 'labour', 'conservative', 'green', 'liberal-democrat', 'scottish-national-party', 'labour', 'liberal-democrat', 'dup', 'conservative', 'conservative', 'labour', 'conservative', 'liberal-democrat', 'conservative', 'conservative', 'labour', 'conservative', 'liberal-democrat', 'conservative', 'conservative', 'labour', 'labour', 'labour', 'conservative', 'conservative', 'labour', 'conservative', 'labour', 'labour', 'labour', 'conservative', 'conservative', 'labour', 'liberal-democrat', 'labour', 'labour', 'plaid-cymru', 'labour', 'conservative', 'scottish-national-party', 'scottish-national-party', 'labour', 'liberal-democrat', 'conservative', 'labour', 'conservative', 'labour', 'conservative', 'conservative', 'labour', 'conservative', 'labour', 'conservative', 'liberal-democrat', 'labour', 'liberal-democrat', 'labour', 'labour', 'labour', 'conservative', 'plaid-cymru', 'independent', 'conservative', 'labour', 'conservative', 'labour', 'labour', 'conservative', 'scottish-national-party', 'labour', 'conservative', 'conservative', 'conservative', 'independent', 'conservative', 'labour', 'scottish-national-party', 'conservative', 'liberal-democrat', 'labour', 'conservative', 'conservative', 'labour', 'conservative', 'labour', 'labour', 'conservative', 'liberal-democrat', 'conservative', 'conservative', 'conservative', 'dup', 'labour', 'liberal-democrat', 'labour', 'conservative', 'conservative', 'dup', 'labour', 'labour', 'labour', 'conservative', 'conservative', 'labour', 'conservative', 'labourco-operative', 'labour', 'conservative', 'labour', 'labour', 'labour', 'labour', 'labour', 'labour', 'scottish-national-party', 'labour', 'conservative', 'conservative', 'conservative', 'conservative', 'independent', 'labour', 'conservative', 'labour', 'conservative', 'labour', 'labour', 'labourco-operative', 'labour', 'labour', 'scottish-national-party', 'liberal-democrat', 'conservative', 'labour', 'conservative', 'conservative', 'conservative', 'labour', 'labour', 'conservative', 'conservative', 'conservative', 'liberal-democrat', 'scottish-national-party', 'conservative', 'scottish-national-party', 'labourco-operative', 'conservative', 'conservative', 'scottish-national-party', 'labour', 'labour', 'labour', 'labour', 'liberal-democrat', 'labour', 'labour', 'conservative', 'conservative', 'conservative', 'conservative', 'conservative', 'labourco-operative', 'conservative', 'labour', 'conservative', 'labour', 'labour', 'labour', 'labour', 'labour', 'conservative', 'conservative', 'labour', 'labour', 'labour', 'labour', 'labour', 'conservative', 'labour', 'conservative', 'liberal-democrat', 'labour', 'labour', 'conservative', 'conservative', 'labour', 'liberal-democrat', 'liberal-democrat', 'conservative', 'conservative', 'scottish-national-party', 'labour', 'scottish-national-party', 'conservative', 'conservative', 'conservative', 'conservative', 'dup', 'conservative', 'labour', 'conservative', 'scottish-national-party', 'liberal-democrat', 'labour', 'liberal-democrat', 'labour', 'conservative', 'conservative', 'scottish-national-party', 'conservative', 'scottish-national-party', 'labour', 'labourco-operative', 'labour', 'labour', 'labour', 'conservative', 'labour', 'conservative', 'liberal-democrat', 'labour', 'labour', 'labour', 'labour', 'conservative', 'conservative', 'labour', 'conservative', 'labour', 'labour', 'liberal-democrat', 'scottish-national-party', 'labour', 'conservative', 'conservative', 'labour', 'labour', 'plaid-cymru', 'labourco-operative', 'labour', 'labourco-operative', 'labour', 'labour', 'labour', 'scottish-national-party', 'liberal-democrat', 'liberal-democrat', 'labour', 'labour', 'conservative', 'liberal-democrat', 'conservative', 'conservative', 'plaid-cymru', 'conservative', 'conservative', 'labour', 'labour', 'respect', 'liberal-democrat', 'conservative', 'conservative', 'labour', 'labour', 'liberal-democrat', 'liberal-democrat', 'labour', 'labour', 'labour', 'conservative', 'labour', 'conservative', 'labour', 'labour', 'conservative', 'labour', 'conservative', 'conservative', 'labour', 'plaid-cymru', 'conservative', 'conservative', 'dup', 'conservative', 'conservative', 'conservative', 'liberal-democrat', 'labourco-operative', 'labour', 'uup', 'labour', 'labour', 'labour', 'labour', 'conservative', 'conservative', 'labour', 'conservative', 'conservative', 'conservative', 'conservative', 'labourco-operative', 'conservative', 'conservative', 'labour', 'conservative', 'liberal-democrat', 'labour', 'conservative', 'conservative', 'liberal-democrat', 'labour', 'conservative', 'labour', 'labour', 'labourco-operative', 'conservative', 'conservative', 'dup', 'conservative', 'conservative', 'independent', 'labour', 'dup', 'labour', 'labour', 'labour', 'conservative', 'labour', 'conservative', 'labour', 'labour', 'liberal-democrat', 'conservative', 'labour', 'labour', 'labour', 'labour', 'conservative', 'uup', 'labour', 'scottish-national-party', 'conservative', 'labour', 'labour', 'scottish-national-party', 'labourco-operative', 'conservative', 'liberal-democrat', 'conservative', 'labour', 'liberal-democrat', 'labour', 'labour', 'labour', 'labourco-operative', 'conservative', 'conservative', 'conservative', 'labourco-operative', 'dup', 'labourco-operative', 'conservative', 'conservative', 'conservative', 'conservative', 'conservative', 'labour', 'labour', 'dup', 'dup', 'conservative', 'labour', 'labour', 'labour', 'labour', 'liberal-democrat', 'labour', 'conservative', 'labour', 'independent', 'labour', 'labour', 'labour', 'conservative', 'liberal-democrat', 'labourco-operative', 'labour', 'conservative', 'conservative', 'labour', 'labour', 'scottish-national-party', 'liberal-democrat', 'conservative', 'dup', 'labour', 'conservative', 'conservative', 'labour', 'conservative', 'conservative', 'conservative', 'labour', 'conservative', 'labour', 'labour', 'conservative', 'conservative', 'conservative', 'scottish-national-party', 'conservative', 'labour', 'labour', 'labour', 'liberal-democrat', 'labour', 'liberal-democrat', 'conservative', 'conservative', 'liberal-democrat', 'conservative', 'labour', 'liberal-democrat', 'liberal-democrat', 'labour', 'labour', 'conservative', 'labour', 'labour', 'labour', 'labour', 'conservative', 'conservative', 'conservative', 'dup', 'liberal-democrat', 'labour', 'conservative', 'labourco-operative', 'conservative', 'scottish-national-party', 'labour', 'labour', 'labour', 'dup', 'labour', 'labour', 'labour', 'labour', 'labour', 'labour', 'scottish-national-party', 'labour', 'labour', 'conservative', 'conservative', 'labour', 'liberal-democrat', 'labour', 'conservative', 'liberal-democrat', 'labour', 'conservative', 'conservative', 'conservative', 'conservative', 'liberal-democrat', 'conservative', 'labour', 'conservative', 'labour', 'conservative', 'labour', 'labour', 'conservative', 'labour', 'scottish-national-party', 'scottish-national-party', 'conservative', 'labour', 'conservative', 'conservative', 'conservative', 'liberal-democrat', 'labour', 'conservative', 'conservative', 'labour', 'conservative', 'liberal-democrat', 'social-democratic-and-labour-party', 'labour', 'labour', 'conservative', 'labour', 'conservative', 'conservative', 'labour', 'labour', 'labour', 'labour', 'dup', 'conservative', 'labour', 'labour', 'conservative', 'labour', 'conservative', 'conservative', 'labour', 'labour', 'conservative', 'conservative', 'conservative', 'labour', 'social-democratic-and-labour-party', 'social-democratic-and-labour-party', 'conservative', 'labour', 'independent', 'scottish-national-party', 'labour', 'conservative', 'labour', 'labour', 'labour', 'liberal-democrat', 'scottish-national-party', 'liberal-democrat', 'conservative', 'scottish-national-party', 'labour', 'independent', 'conservative', 'labour', 'conservative', 'liberal-democrat', 'labour', 'labourco-operative', 'labour', 'conservative', 'labour', 'labour', 'labour', 'labour', 'labour', 'liberal-democrat', 'conservative', 'conservative', 'liberal-democrat', 'dup', 'liberal-democrat', 'labour', 'scottish-national-party', 'scottish-national-party', 'conservative', 'conservative', 'labour', 'conservative', 'conservative', 'conservative', 'labour', 'labour', 'liberal-democrat', 'scottish-national-party', 'labour', 'conservative', 'conservative', 'conservative', 'conservative', 'conservative', 'conservative', 'plaid-cymru', 'labour', 'conservative', 'scottish-national-party', 'labour', 'conservative', 'conservative', 'conservative', 'labour', 'conservative', 'labour', 'labour', 'conservative', 'conservative', 'labour', 'labour', 'labour', 'conservative', 'conservative', 'liberal-democrat', 'labour', 'conservative', 'conservative', 'scottish-national-party', 'labourco-operative', 'conservative', 'conservative', 'liberal-democrat', 'conservative', 'conservative', 'labour', 'liberal-democrat', 'labour', 'scottish-national-party', 'liberal-democrat', 'conservative', 'labour', 'conservative', 'liberal-democrat', 'labour', 'labour', 'conservative', 'conservative', 'conservative', 'scottish-national-party', 'scottish-national-party', 'conservative', 'conservative', 'conservative', 'conservative', 'conservative', 'labour', 'conservative', 'labour', 'conservative', 'conservative', 'labour', 'labour', 'labour', 'liberal-democrat', 'conservative', 'conservative', 'labour', 'labour', 'conservative', 'labour', 'labour', 'conservative', 'scottish-national-party', 'conservative', 'labour', 'labour', 'uup', 'conservative', 'conservative', 'conservative', 'conservative', 'labour', 'labour', 'conservative', 'conservative', 'conservative', 'labour', 'liberal-democrat', 'conservative', 'labour', 'conservative', 'labour', 'labour', 'conservative', 'conservative', 'conservative', 'labour', 'conservative', 'conservative', 'scottish-national-party', 'conservative', 'labour', 'conservative', 'labour', 'labour', 'labour', 'conservative', 'conservative', 'labour', 'liberal-democrat', 'labour', 'conservative', 'conservative', 'conservative', 'conservative', 'conservative', 'conservative', 'labour', 'labour', 'conservative', 'conservative', 'liberal-democrat', 'conservative', 'labour', 'labour', 'labour', 'labour', 'conservative', 'conservative', 'conservative', 'conservative', 'conservative', 'labour', 'conservative', 'labour', 'independent', 'labour', 'labour', 'alliance', 'dup', 'conservative', 'scottish-national-party', 'labour', 'conservative', 'conservative', 'labour', 'labour', 'conservative', 'scottish-national-party', 'conservative', 'conservative', 'labour', 'labour', 'conservative', 'labour', 'labour', 'conservative', 'conservative', 'conservative', 'dup', 'conservative', 'conservative', 'conservative', 'liberal-democrat', 'plaid-cymru', 'labour', 'labour', 'plaid-cymru', 'conservative', 'labour', 'labourco-operative', 'conservative', 'dup', 'conservative', 'conservative', 'liberal-democrat', 'conservative', 'labour', 'labour', 'conservative', 'conservative', 'independent', 'conservative', 'labour', 'conservative', 'conservative', 'labour', 'labour', 'liberal-democrat', 'conservative', 'labour', 'labour', 'labour', 'labourco-operative', 'plaid-cymru', 'conservative', 'labour', 'labourco-operative', 'labour', 'scottish-national-party', 'conservative', 'labour', 'labour', 'labour', 'conservative', 'conservative', 'uup', 'conservative', 'labour', 'conservative', 'labourco-operative', 'labour', 'labour', 'labour', 'conservative', 'labour', 'labourco-operative', 'conservative', 'conservative', 'labour', 'labour', 'labour', 'labour', 'labour', 'labour', 'liberal-democrat', 'labour', 'labour', 'labour', 'conservative', 'liberal-democrat', 'labour', 'conservative', 'conservative', 'ukip', 'conservative', 'conservative', 'liberal-democrat', 'scottish-national-party', 'conservative', 'conservative', 'liberal-democrat', 'labour', 'conservative', 'conservative', 'labour', 'conservative', 'conservative', 'independent', 'labour', 'scottish-national-party', 'conservative', 'conservative', 'labour', 'liberal-democrat', 'conservative', 'scottish-national-party', 'labour', 'labour', 'liberal-democrat', 'labour', 'dup', 'labour', 'labour', 'labour', 'conservative', 'conservative', 'labour', 'labour', 'conservative', 'labour', 'liberal-democrat', 'liberal-democrat', 'labour', 'labour', 'conservative', 'labour', 'liberal-democrat', 'conservative', 'labour', 'labour', 'scottish-national-party', 'conservative', 'social-democratic-and-labour-party', 'conservative', 'conservative', 'conservative', 'labour', 'labour', 'conservative', 'labour', 'liberal-democrat', 'conservative', 'labour', 'conservative', 'conservative', 'labour', 'labour', 'conservative', 'labour', 'scottish-national-party', 'liberal-democrat', 'conservative', 'conservative', 'conservative', 'liberal-democrat', 'conservative', 'labour', 'labour', 'conservative', 'liberal-democrat', 'conservative', 'liberal-democrat', 'uup', 'conservative', 'conservative', 'conservative', 'labour', 'labour', 'conservative', 'labour', 'conservative', 'conservative', 'labour', 'labour', 'conservative', 'labour', 'conservative', 'conservative', 'labour', 'labour', 'labour', 'labour', 'labour', 'scottish-national-party', 'scottish-national-party', 'uup', 'scottish-national-party', 'conservative', 'labour', 'liberal-democrat', 'conservative', 'labour', 'labour', 'labour', 'conservative', 'labourco-operative', 'plaid-cymru', 'conservative', 'scottish-national-party', 'social-democratic-and-labour-party', 'conservative', 'conservative', 'conservative', 'labourco-operative', 'liberal-democrat', 'conservative', 'labour', 'conservative', 'labour', 'conservative', 'conservative', 'labour', 'conservative', 'conservative', 'labour', 'conservative', 'dup', 'conservative', 'labour', 'labour', 'scottish-national-party', 'conservative', 'labour', 'labour', 'conservative', 'conservative', 'conservative', 'labour', 'scottish-national-party', 'labour', 'dup', 'labour', 'conservative', 'conservative', 'labour', 'labour', 'labour', 'conservative', 'conservative', 'conservative', 'conservative', 'conservative', 'conservative', 'uup', 'labour', 'labour', 'conservative', 'labour', 'labour', 'dup', 'conservative', 'scottish-national-party', 'conservative', 'labourco-operative', 'conservative', 'conservative', 'conservative', 'conservative', 'conservative', 'conservative', 'scottish-national-party', 'labour', 'labour', 'labour', 'scottish-national-party', 'labour', 'liberal-democrat', 'conservative', 'labour', 'labour', 'labour', 'labour', 'labour', 'conservative', 'conservative', 'labour', 'labour', 'labour', 'labourco-operative', 'labour', 'conservative', 'labour', 'conservative', 'conservative', 'labourco-operative', 'labour', 'labour', 'labour', 'conservative', 'conservative', 'conservative', 'labour', 'conservative', 'conservative', 'conservative', 'labour', 'labour', 'labour', 'labour', 'conservative', 'labour', 'labour', 'labour', 'liberal-democrat', 'scottish-national-party', 'labour', 'conservative', 'conservative', 'labour', 'conservative', 'conservative', 'liberal-democrat', 'labour', 'labourco-operative', 'labour', 'liberal-democrat', 'conservative', 'liberal-democrat', 'conservative', 'scottish-national-party', 'labour', 'liberal-democrat', 'labour', 'labour', 'labour', 'labour', 'labour', 'labour', 'labour', 'labour', 'conservative', 'conservative', 'labourco-operative', 'conservative', 'conservative', 'conservative', 'conservative', 'conservative', 'scottish-national-party', 'conservative', 'labour', 'labour', 'liberal-democrat', 'labour', 'labour', 'labourco-operative', 'conservative', 'labourco-operative', 'conservative', 'conservative', 'conservative', 'conservative', 'labour', 'plaid-cymru', 'labour', 'conservative', 'conservative', 'labour', 'liberal-democrat', 'liberal-democrat', 'conservative', 'labour', 'labourco-operative', 'labour', 'conservative', 'conservative', 'conservative', 'scottish-national-party', 'labourco-operative', 'liberal-democrat', 'labour', 'conservative', 'labour', 'conservative', 'conservative', 'conservative', 'labourco-operative', 'scottish-national-party', 'labour', 'conservative', 'conservative', 'conservative', 'conservative', 'conservative', 'conservative', 'conservative', 'plaid-cymru', 'conservative', 'labour', 'labour', 'labour', 'labour', 'conservative', 'labour', 'conservative', 'conservative', 'labour', 'conservative', 'conservative', 'labour', 'labour', 'labour', 'conservative', 'conservative', 'labour', 'labour', 'labour', 'labour', 'conservative', 'labour', 'conservative', 'labour', 'conservative', 'liberal-democrat', 'conservative', 'conservative', 'conservative', 'conservative', 'conservative', 'conservative', 'labour', 'labourco-operative', 'labour', 'conservative', 'conservative', 'labour', 'conservative', 'conservative', 'conservative', 'plaid-cymru', 'conservative', 'labour', 'conservative', 'conservative', 'labour', 'conservative', 'conservative', 'conservative', 'liberal-democrat', 'conservative', 'conservative', 'conservative', 'liberal-democrat', 'conservative', 'conservative', 'conservative', 'conservative', 'conservative', 'labour', 'labour', 'liberal-democrat', 'labour', 'labour', 'labour', 'labour', 'scottish-national-party', 'conservative', 'conservative', 'conservative', 'labour', 'labour', 'labour', 'conservative', 'labour', 'conservative', 'conservative', 'labour', 'labourco-operative', 'conservative', 'labour', 'labour', 'labour', 'conservative', 'labour', 'liberal-democrat', 'labour', 'labour', 'labour', 'labour', 'conservative', 'conservative', 'conservative', 'labour', 'labour', 'conservative', 'labour', 'conservative', 'conservative', 'labour', 'conservative', 'conservative', 'conservative', 'conservative', 'conservative', 'labour', 'conservative', 'labour', 'scottish-national-party', 'conservative', 'social-democratic-and-labour-party', 'conservative', 'social-democratic-and-labour-party', 'liberal-democrat', 'labour', 'liberal-democrat', 'scottish-national-party', 'labour', 'labour', 'labour', 'labourco-operative', 'labour', 'uup', 'labour', 'conservative', 'labour', 'labour', 'conservative', 'conservative', 'labour', 'conservative', 'labour', 'dup', 'labourco-operative', 'conservative', 'conservative', 'conservative', 'labour', 'labour', 'conservative', 'conservative', 'labour', 'labour', 'conservative', 'conservative', 'conservative', 'conservative', 'liberal-democrat', 'labour', 'plaid-cymru', 'labour', 'conservative', 'conservative', 'labour', 'conservative', 'social-democratic-and-labour-party', 'labour', 'conservative', 'scottish-national-party', 'conservative', 'liberal-democrat', 'labour', 'labour', 'conservative', 'scottish-national-party', 'labour', 'conservative', 'labour', 'liberal-democrat', 'labour', 'labour', 'conservative', 'green', 'conservative', 'labour', 'labour', 'conservative', 'labour', 'labour', 'labourco-operative', 'labour', 'labour', 'conservative', 'labour', 'labour', 'green', 'green', 'conservative', 'labour', 'conservative', 'labour', 'conservative', 'green', 'independent', 'liberal-democrat', 'scottish-national-party', 'labour', 'liberal-democrat', 'conservative', 'labour', 'scottish-national-party', 'labour', 'labour', 'labour', 'labour', 'scottish-national-party', 'conservative', 'liberal-democrat', 'conservative', 'labour', 'labour', 'liberal-democrat', 'conservative', 'labour', 'labour', 'labour', 'conservative', 'scottish-national-party', 'labour', 'conservative', 'labour', 'labour', 'conservative', 'conservative', 'labour', 'labour', 'labour', 'conservative', 'labourco-operative', 'conservative', 'labour', 'scottish-national-party', 'conservative', 'labour', 'labour', 'social-democratic-and-labour-party', 'labour', 'labour', 'liberal-democrat', 'labour', 'conservative', 'plaid-cymru', 'labour', 'labour', 'conservative', 'scottish-national-party', 'conservative', 'labour', 'labour', 'labour', 'conservative', 'conservative', 'conservative', 'labourco-operative', 'liberal-democrat', 'labour', 'labour', 'labour', 'labour', 'dup', 'labour', 'labour', 'conservative', 'scottish-national-party', 'labour', 'labour', 'conservative', 'conservative', 'conservative', 'conservative', 'conservative', 'conservative', 'labour', 'labour', 'liberal-democrat', 'scottish-national-party', 'labour', 'labour', 'labour', 'conservative', 'conservative', 'liberal-democrat', 'conservative', 'conservative', 'labour', 'labour', 'labour', 'labour', 'labour', 'labour', 'conservative', 'labour', 'labour', 'labourco-operative', 'scottish-national-party', 'labour', 'conservative', 'labour', 'liberal-democrat', 'labour', 'conservative', 'conservative', 'scottish-national-party', 'labour', 'conservative', 'labour', 'conservative', 'labour', 'conservative', 'labour', 'liberal-democrat', 'conservative', 'scottish-national-party', 'conservative', 'labour', 'labour', 'liberal-democrat', 'liberal-democrat', 'scottish-national-party', 'conservative', 'labour', 'conservative', 'conservative', 'conservative', 'liberal-democrat', 'conservative', 'conservative', 'labour', 'labour', 'conservative', 'labour', 'liberal-democrat', 'labour', 'conservative', 'conservative', 'scottish-national-party', 'labour', 'liberal-democrat', 'labour', 'conservative', 'labour', 'labour', 'conservative', 'scottish-national-party', 'labour', 'liberal-democrat', 'labour', 'labour', 'conservative', 'conservative', 'labour', 'scottish-national-party', 'conservative', 'conservative', 'labour', 'conservative', 'independent', 'conservative', 'conservative', 'labour', 'labour', 'labour', 'labour', 'scottish-national-party', 'conservative', 'labour', 'labour', 'conservative', 'conservative', 'labour', 'conservative', 'labourco-operative', 'independent', 'labour', 'green', 'labour', 'labour', 'labour', 'liberal-democrat', 'conservative', 'labour', 'liberal-democrat', 'conservative', 'conservative', 'conservative', 'labour', 'labour', 'liberal-democrat', 'conservative', 'conservative', 'labour', 'labour', 'liberal-democrat', 'labourco-operative', 'labour', 'conservative', 'liberal-democrat', 'labour', 'conservative', 'labourco-operative', 'conservative', 'scottish-national-party', 'labour', 'conservative', 'labourco-operative', 'labour', 'labour', 'conservative', 'conservative', 'labourco-operative', 'conservative', 'labour', 'liberal-democrat', 'conservative', 'labour', 'labour', 'labour', 'labour', 'conservative', 'labour', 'conservative', 'liberal-democrat', 'labour', 'labour', 'liberal-democrat', 'conservative', 'conservative', 'labour', 'conservative', 'conservative', 'labour', 'social-democratic-and-labour-party', 'labour', 'liberal-democrat', 'conservative', 'dup', 'labour', 'labour', 'plaid-cymru', 'labour', 'conservative', 'conservative', 'conservative', 'conservative', 'conservative', 'conservative', 'labour', 'labour', 'labour', 'conservative', 'conservative', 'labour', 'labour', 'conservative', 'labour', 'labour', 'liberal-democrat', 'labour', 'labour', 'labour', 'conservative', 'labour', 'labour', 'labour', 'conservative', 'conservative', 'conservative', 'conservative', 'conservative', 'conservative', 'conservative', 'labour', 'conservative', 'scottish-national-party', 'conservative', 'conservative', 'conservative', 'liberal-democrat', 'labour', 'conservative', 'labour', 'conservative', 'liberal-democrat', 'labour', 'scottish-national-party', 'labour', 'labour', 'labour', 'labour', 'liberal-democrat', 'labour', 'conservative', 'labour', 'conservative', 'liberal-democrat', 'labour', 'conservative', 'conservative', 'labour', 'conservative', 'labour', 'scottish-national-party', 'labour', 'labour', 'conservative', 'scottish-national-party', 'dup', 'labour', 'conservative', 'labour', 'labour', 'labour', 'labour', 'labour', 'scottish-national-party', 'conservative', 'liberal-democrat', 'plaid-cymru', 'labour', 'conservative', 'labour', 'conservative', 'liberal-democrat', 'labour', 'conservative', 'labour', 'labour', 'conservative', 'conservative', 'conservative', 'conservative', 'labourco-operative', 'labour', 'conservative', 'liberal-democrat', 'conservative', 'conservative', 'labour', 'conservative', 'labour', 'liberal-democrat', 'labour', 'scottish-national-party', 'conservative', 'conservative', 'labour', 'dup', 'labour', 'conservative', 'labour', 'labour', 'conservative', 'labour', 'conservative', 'conservative', 'conservative', 'conservative', 'conservative', 'scottish-national-party', 'labour', 'labour', 'conservative', 'conservative', 'labour', 'conservative', 'conservative', 'labour', 'labour', 'conservative', 'labour', 'liberal-democrat', 'conservative', 'dup', 'conservative', 'labour', 'conservative', 'liberal-democrat', 'labour', 'conservative', 'conservative', 'scottish-national-party', 'conservative', 'labour', 'scottish-national-party', 'independent', 'conservative', 'labour', 'liberal-democrat', 'labour', 'labour', 'conservative', 'labour', 'conservative', 'labour', 'labour', 'labour', 'conservative', 'labour', 'conservative', 'liberal-democrat', 'conservative', 'labour', 'labour', 'scottish-national-party', 'conservative', 'scottish-national-party', 'labour', 'conservative', 'conservative', 'labour', 'labour', 'liberal-democrat', 'scottish-national-party', 'labourco-operative', 'conservative', 'labour', 'conservative', 'conservative', 'conservative', 'conservative', 'conservative', 'labour', 'liberal-democrat', 'labour', 'conservative', 'labour', 'conservative', 'labour', 'labour', 'conservative', 'labour', 'conservative', 'conservative', 'liberal-democrat', 'liberal-democrat', 'liberal-democrat', 'scottish-national-party', 'labour', 'labour', 'conservative', 'labour', 'conservative', 'scottish-national-party', 'liberal-democrat', 'conservative', 'conservative', 'liberal-democrat', 'social-democratic-and-labour-party', 'independent', 'conservative', 'conservative', 'labour', 'independent', 'labour', 'conservative', 'labour', 'conservative', 'labour', 'conservative', 'labour', 'independent', 'conservative', 'labour', 'conservative', 'conservative', 'conservative', 'conservative', 'dup', 'conservative', 'liberal-democrat', 'conservative', 'liberal-democrat', 'conservative', 'conservative', 'labour', 'uup', 'labour', 'conservative', 'labour', 'conservative', 'conservative', 'conservative', 'conservative', 'conservative', 'labour', 'conservative', 'conservative', 'liberal-democrat', 'conservative', 'liberal-democrat', 'labour', 'conservative', 'labour', 'labour', 'conservative', 'conservative', 'labour', 'labour', 'labourco-operative', 'conservative', 'conservative', 'conservative', 'labour', 'conservative', 'labour', 'labour', 'conservative', 'labour', 'conservative', 'labour', 'labour', 'labour', 'labour', 'liberal-democrat', 'labour', 'labour', 'labour', 'conservative', 'labour', 'labour', 'labour', 'labour', 'labour', 'plaid-cymru', 'conservative', 'conservative', 'labour', 'conservative', 'labour', 'labour', 'conservative', 'liberal-democrat', 'conservative', 'conservative', 'conservative', 'conservative', 'uup', 'labour', 'conservative', 'conservative', 'labour', 'labour', 'scottish-national-party', 'conservative', 'labour', 'conservative', 'conservative', 'conservative', 'conservative', 'conservative', 'labour', 'conservative', 'conservative', 'labour', 'labour', 'labour', 'labour', 'conservative', 'labour', 'conservative', 'conservative', 'conservative', 'conservative', 'labour', 'conservative', 'conservative', 'conservative', 'labour', 'dup', 'conservative', 'labour', 'conservative', 'labour', 'labour', 'labour', 'conservative', 'conservative', 'conservative', 'labour', 'scottish-national-party', 'plaid-cymru', 'conservative', 'conservative', 'labour', 'labour', 'conservative', 'labourco-operative', 'conservative', 'conservative', 'labour', 'labour', 'conservative', 'conservative', 'labour', 'labour', 'labour', 'labour', 'conservative', 'labour', 'liberal-democrat', 'labour', 'labour', 'conservative', 'conservative', 'labour', 'scottish-national-party', 'liberal-democrat', 'labour', 'liberal-democrat', 'conservative', 'labour', 'labour', 'liberal-democrat', 'labour', 'conservative', 'conservative', 'labour', 'conservative', 'conservative', 'conservative', 'labour', 'conservative', 'liberal-democrat', 'liberal-democrat', 'conservative', 'labour', 'labour', 'conservative', 'labour', 'liberal-democrat', 'conservative', 'liberal-democrat', 'conservative', 'conservative', 'labour', 'liberal-democrat', 'conservative', 'labour', 'conservative', 'liberal-democrat', 'uup', 'conservative', 'labour', 'conservative', 'conservative', 'scottish-national-party', 'conservative', 'conservative', 'labour', 'conservative', 'labour', 'labour', 'labour', 'conservative', 'uup', 'conservative', 'labour', 'labour', 'conservative', 'conservative', 'liberal-democrat', 'labour', 'labour', 'conservative', 'labour', 'labour', 'labour', 'conservative', 'labour', 'labour', 'green', 'conservative', 'conservative', 'conservative', 'conservative', 'conservative', 'labour', 'labour', 'labour', 'labour', 'conservative', 'labour', 'labour', 'labour', 'conservative', 'liberal-democrat', 'labour', 'labour', 'liberal-democrat', 'conservative', 'labour', 'labour', 'liberal-democrat', 'conservative', 'conservative', 'conservative', 'labour', 'labour', 'conservative', 'labour', 'liberal-democrat', 'liberal-democrat', 'conservative', 'conservative', 'conservative', 'conservative', 'conservative', 'conservative', 'labour', 'labour', 'labour', 'green', 'dup', 'labour', 'conservative', 'labour', 'conservative', 'labour', 'conservative', 'labour', 'conservative', 'labour', 'labour', 'labour', 'labour', 'conservative', 'conservative', 'labour', 'labour', 'scottish-national-party', 'labour', 'conservative', 'conservative', 'labour', 'labour', 'plaid-cymru', 'conservative', 'labour', 'labour', 'labour', 'conservative', 'conservative', 'conservative', 'labour', 'conservative', 'labour', 'labour', 'labour', 'labour', 'labourco-operative', 'conservative', 'liberal-democrat', 'conservative', 'conservative', 'liberal-democrat', 'labour', 'labour', 'conservative', 'conservative', 'labour', 'labour', 'conservative', 'green', 'labour', 'labour', 'labour', 'green', 'scottish-national-party', 'conservative', 'labour', 'conservative', 'labour', 'labour', 'conservative', 'labour', 'labour', 'conservative', 'conservative', 'labour', 'conservative', 'conservative', 'conservative', 'conservative', 'labour', 'conservative', 'labour', 'conservative', 'conservative', 'conservative', 'conservative', 'conservative', 'conservative', 'scottish-national-party', 'labour', 'dup', 'labour', 'labour', 'conservative', 'liberal-democrat', 'conservative', 'labour', 'labour', 'conservative', 'conservative', 'labour', 'labour', 'labour', 'conservative', 'uup', 'labourco-operative', 'liberal-democrat', 'conservative', 'conservative', 'conservative', 'conservative', 'conservative', 'labour', 'scottish-national-party', 'plaid-cymru', 'labour', 'labour', 'labour', 'conservative', 'conservative', 'liberal-democrat', 'labour', 'labour', 'labour', 'labour', 'labour', 'conservative', 'liberal-democrat', 'conservative', 'labour', 'conservative', 'labour', 'conservative', 'conservative', 'scottish-national-party', 'labour', 'labour', 'social-democratic-and-labour-party', 'conservative', 'labour', 'labour', 'labour', 'conservative', 'scottish-national-party', 'labour', 'conservative', 'conservative', 'labour', 'conservative', 'liberal-democrat', 'conservative', 'conservative', 'labour', 'conservative', 'labour', 'labour', 'labour', 'labour', 'conservative', 'labour', 'labour', 'labour', 'conservative', 'conservative', 'labour', 'conservative', 'conservative', 'conservative', 'conservative', 'conservative', 'labour', 'labour', 'conservative', 'labour', 'conservative', 'labour', 'conservative', 'labour', 'conservative', 'scottish-national-party', 'labour', 'conservative', 'conservative', 'conservative', 'social-democratic-and-labour-party', 'labour', 'conservative', 'liberal-democrat', 'uup', 'labour', 'conservative', 'conservative', 'labour', 'labour']\n"
          ]
        }
      ],
      "source": [
        "print(y_test)"
      ]
    },
    {
      "cell_type": "code",
      "execution_count": 63,
      "metadata": {
        "colab": {
          "base_uri": "https://localhost:8080/"
        },
        "id": "se9scEixrySq",
        "outputId": "c44b7d3f-b53b-4ce0-b00b-ec2d11d77f5b"
      },
      "outputs": [
        {
          "output_type": "stream",
          "name": "stdout",
          "text": [
            "Overall Accuracy: 0.579468707789284\n",
            "\n",
            "\n",
            "Classification Report:\n",
            "                                    precision    recall  f1-score   support\n",
            "\n",
            "                          alliance       0.00      0.00      0.00         2\n",
            "                      conservative       0.62      0.66      0.64      2700\n",
            "                               dup       0.33      0.41      0.36       116\n",
            "                             green       0.00      0.00      0.00        23\n",
            "                       independent       0.00      0.00      0.00        46\n",
            "          independent-conservative       0.00      0.00      0.00         1\n",
            "       independent-ulster-unionist       0.00      0.00      0.00         2\n",
            "                            labour       0.59      0.70      0.64      2619\n",
            "                labourco-operative       0.00      0.00      0.00       156\n",
            "                  liberal-democrat       0.33      0.16      0.21       572\n",
            "                       plaid-cymru       0.31      0.22      0.26        67\n",
            "                           respect       0.00      0.00      0.00         1\n",
            "           scottish-national-party       0.40      0.32      0.35       286\n",
            "social-democratic-and-labour-party       0.00      0.00      0.00        38\n",
            "                              ukip       0.00      0.00      0.00         3\n",
            "                               uup       0.00      0.00      0.00        31\n",
            "\n",
            "                          accuracy                           0.58      6663\n",
            "                         macro avg       0.16      0.15      0.15      6663\n",
            "                      weighted avg       0.54      0.58      0.55      6663\n",
            "\n"
          ]
        },
        {
          "output_type": "stream",
          "name": "stderr",
          "text": [
            "/usr/local/lib/python3.10/dist-packages/sklearn/metrics/_classification.py:1344: UndefinedMetricWarning: Precision and F-score are ill-defined and being set to 0.0 in labels with no predicted samples. Use `zero_division` parameter to control this behavior.\n",
            "  _warn_prf(average, modifier, msg_start, len(result))\n",
            "/usr/local/lib/python3.10/dist-packages/sklearn/metrics/_classification.py:1344: UndefinedMetricWarning: Precision and F-score are ill-defined and being set to 0.0 in labels with no predicted samples. Use `zero_division` parameter to control this behavior.\n",
            "  _warn_prf(average, modifier, msg_start, len(result))\n",
            "/usr/local/lib/python3.10/dist-packages/sklearn/metrics/_classification.py:1344: UndefinedMetricWarning: Precision and F-score are ill-defined and being set to 0.0 in labels with no predicted samples. Use `zero_division` parameter to control this behavior.\n",
            "  _warn_prf(average, modifier, msg_start, len(result))\n"
          ]
        }
      ],
      "source": [
        "# Calculate overall accuracy\n",
        "overall_accuracy = accuracy_score(y_test, y_pred)\n",
        "print(f\"Overall Accuracy: {overall_accuracy}\\n\")\n",
        "\n",
        "# Calculate precision, recall, and F1-score for each class\n",
        "report = classification_report(y_test, y_pred)\n",
        "print(\"\\nClassification Report:\")\n",
        "print(report)"
      ]
    },
    {
      "cell_type": "markdown",
      "source": [
        "### ChatGPT Comparison"
      ],
      "metadata": {
        "id": "qyA30X-KsQiQ"
      }
    },
    {
      "cell_type": "code",
      "source": [
        "chatgpt_samples = pd.read_csv(\"/content/drive/MyDrive/CA4023/chatgpt_samples.csv\")"
      ],
      "metadata": {
        "id": "PwmwVGeosSwk"
      },
      "execution_count": 64,
      "outputs": []
    },
    {
      "cell_type": "markdown",
      "source": [
        "Tokenize the ChatGPT samples"
      ],
      "metadata": {
        "id": "PmZh709guxFm"
      }
    },
    {
      "cell_type": "code",
      "source": [
        "chatgpt_df = pd.DataFrame({\"text\": chatgpt_samples['speech'], \"label\": chatgpt_samples['party']})\n",
        "chatgpt_dataset = Dataset.from_pandas(chatgpt_df)\n",
        "tokenized_chatgpt = tokenize_dataset(chatgpt_dataset, tokenizer)"
      ],
      "metadata": {
        "id": "eoy4RB1bsegN"
      },
      "execution_count": 65,
      "outputs": []
    },
    {
      "cell_type": "code",
      "source": [
        "from transformers import BertConfig, BertModel\n",
        "# model = AutoModelForSequenceClassification.from_pretrained(\"/content/drive/MyDrive/CA4023/bert\")"
      ],
      "metadata": {
        "id": "3hFA7WksuwZb"
      },
      "execution_count": 66,
      "outputs": []
    },
    {
      "cell_type": "code",
      "source": [
        "predictions = trainer.predict(tokenized_chatgpt)"
      ],
      "metadata": {
        "colab": {
          "base_uri": "https://localhost:8080/",
          "height": 17
        },
        "id": "pYWOfYxN7khN",
        "outputId": "af3c40f1-f0ed-47e5-9f6b-ee6e58199c2b"
      },
      "execution_count": 68,
      "outputs": [
        {
          "output_type": "display_data",
          "data": {
            "text/plain": [
              "<IPython.core.display.HTML object>"
            ],
            "text/html": []
          },
          "metadata": {}
        }
      ]
    },
    {
      "cell_type": "code",
      "source": [
        "y_pred, y_test = get_predictions_by_type(tokenized_chatgpt)"
      ],
      "metadata": {
        "id": "o7vlyqAB75dA"
      },
      "execution_count": 77,
      "outputs": []
    },
    {
      "cell_type": "code",
      "source": [
        "print(y_test)"
      ],
      "metadata": {
        "colab": {
          "base_uri": "https://localhost:8080/"
        },
        "id": "RvnvEuYZ8XHB",
        "outputId": "58799411-cf36-4d83-88e5-2568f577d797"
      },
      "execution_count": 78,
      "outputs": [
        {
          "output_type": "stream",
          "name": "stdout",
          "text": [
            "[0, 1, 0, 0, 0, 0, 4, 1, 0, 0, 3, 2, 4, 1, 0, 3, 4, 3, 9, 3, 5, 4, 4, 0, 3, 0, 0, 3, 3, 4]\n"
          ]
        }
      ]
    },
    {
      "cell_type": "code",
      "source": [
        "int_dict = {v: k for k, v in label_dict.items()}\n",
        "y_test = [int_dict[label] for label in y_test]\n",
        "y_pred = [int_dict[label] for label in y_pred]"
      ],
      "metadata": {
        "id": "5KHRPREy8Fgb"
      },
      "execution_count": 79,
      "outputs": []
    },
    {
      "cell_type": "code",
      "source": [
        "# Calculate overall accuracy\n",
        "overall_accuracy = accuracy_score(y_test, y_pred)\n",
        "print(f\"Overall Accuracy: {overall_accuracy}\\n\")\n",
        "\n",
        "# Calculate precision, recall, and F1-score for each class\n",
        "report = classification_report(y_test, y_pred)\n",
        "print(\"\\nClassification Report:\")\n",
        "print(report)"
      ],
      "metadata": {
        "colab": {
          "base_uri": "https://localhost:8080/"
        },
        "id": "7Gq73ML88f2i",
        "outputId": "b847d739-e376-4e03-93dd-e3f44eeb0f03"
      },
      "execution_count": 81,
      "outputs": [
        {
          "output_type": "stream",
          "name": "stdout",
          "text": [
            "Overall Accuracy: 0.43333333333333335\n",
            "\n",
            "\n",
            "Classification Report:\n",
            "                         precision    recall  f1-score   support\n",
            "\n",
            "           conservative       0.43      0.86      0.57         7\n",
            "                    dup       1.00      1.00      1.00         1\n",
            "                 labour       0.45      0.45      0.45        11\n",
            "     labourco-operative       0.00      0.00      0.00         3\n",
            "       liberal-democrat       0.50      0.17      0.25         6\n",
            "            plaid-cymru       0.00      0.00      0.00         1\n",
            "scottish-national-party       0.00      0.00      0.00         1\n",
            "\n",
            "               accuracy                           0.43        30\n",
            "              macro avg       0.34      0.35      0.33        30\n",
            "           weighted avg       0.40      0.43      0.38        30\n",
            "\n"
          ]
        },
        {
          "output_type": "stream",
          "name": "stderr",
          "text": [
            "/usr/local/lib/python3.10/dist-packages/sklearn/metrics/_classification.py:1344: UndefinedMetricWarning: Precision and F-score are ill-defined and being set to 0.0 in labels with no predicted samples. Use `zero_division` parameter to control this behavior.\n",
            "  _warn_prf(average, modifier, msg_start, len(result))\n",
            "/usr/local/lib/python3.10/dist-packages/sklearn/metrics/_classification.py:1344: UndefinedMetricWarning: Precision and F-score are ill-defined and being set to 0.0 in labels with no predicted samples. Use `zero_division` parameter to control this behavior.\n",
            "  _warn_prf(average, modifier, msg_start, len(result))\n",
            "/usr/local/lib/python3.10/dist-packages/sklearn/metrics/_classification.py:1344: UndefinedMetricWarning: Precision and F-score are ill-defined and being set to 0.0 in labels with no predicted samples. Use `zero_division` parameter to control this behavior.\n",
            "  _warn_prf(average, modifier, msg_start, len(result))\n"
          ]
        }
      ]
    }
  ],
  "metadata": {
    "accelerator": "GPU",
    "colab": {
      "gpuType": "V100",
      "provenance": []
    },
    "kernelspec": {
      "display_name": "Python 3",
      "name": "python3"
    },
    "language_info": {
      "name": "python"
    },
    "widgets": {
      "application/vnd.jupyter.widget-state+json": {
        "4e00820a72b04018b89762cd1476d82c": {
          "model_module": "@jupyter-widgets/controls",
          "model_name": "HBoxModel",
          "model_module_version": "1.5.0",
          "state": {
            "_dom_classes": [],
            "_model_module": "@jupyter-widgets/controls",
            "_model_module_version": "1.5.0",
            "_model_name": "HBoxModel",
            "_view_count": null,
            "_view_module": "@jupyter-widgets/controls",
            "_view_module_version": "1.5.0",
            "_view_name": "HBoxView",
            "box_style": "",
            "children": [
              "IPY_MODEL_ebeb29a6621c4a1b87bdf73f736bceff",
              "IPY_MODEL_b5b1d85d9da5435ebe075c19a5610e52",
              "IPY_MODEL_87abc4f43e204929aa1d4654c2260150"
            ],
            "layout": "IPY_MODEL_abad7fb1be9641a6b3e9faab7e053717"
          }
        },
        "ebeb29a6621c4a1b87bdf73f736bceff": {
          "model_module": "@jupyter-widgets/controls",
          "model_name": "HTMLModel",
          "model_module_version": "1.5.0",
          "state": {
            "_dom_classes": [],
            "_model_module": "@jupyter-widgets/controls",
            "_model_module_version": "1.5.0",
            "_model_name": "HTMLModel",
            "_view_count": null,
            "_view_module": "@jupyter-widgets/controls",
            "_view_module_version": "1.5.0",
            "_view_name": "HTMLView",
            "description": "",
            "description_tooltip": null,
            "layout": "IPY_MODEL_ffdc8441182745ef9fa612493f7a8045",
            "placeholder": "​",
            "style": "IPY_MODEL_e46d5e66ea484c648f06dfb1c16bc037",
            "value": "config.json: 100%"
          }
        },
        "b5b1d85d9da5435ebe075c19a5610e52": {
          "model_module": "@jupyter-widgets/controls",
          "model_name": "FloatProgressModel",
          "model_module_version": "1.5.0",
          "state": {
            "_dom_classes": [],
            "_model_module": "@jupyter-widgets/controls",
            "_model_module_version": "1.5.0",
            "_model_name": "FloatProgressModel",
            "_view_count": null,
            "_view_module": "@jupyter-widgets/controls",
            "_view_module_version": "1.5.0",
            "_view_name": "ProgressView",
            "bar_style": "success",
            "description": "",
            "description_tooltip": null,
            "layout": "IPY_MODEL_69911b40c1db4260a95bc815bea5d4e2",
            "max": 570,
            "min": 0,
            "orientation": "horizontal",
            "style": "IPY_MODEL_2af134bc5b2d4a87b61dce0dc93baa26",
            "value": 570
          }
        },
        "87abc4f43e204929aa1d4654c2260150": {
          "model_module": "@jupyter-widgets/controls",
          "model_name": "HTMLModel",
          "model_module_version": "1.5.0",
          "state": {
            "_dom_classes": [],
            "_model_module": "@jupyter-widgets/controls",
            "_model_module_version": "1.5.0",
            "_model_name": "HTMLModel",
            "_view_count": null,
            "_view_module": "@jupyter-widgets/controls",
            "_view_module_version": "1.5.0",
            "_view_name": "HTMLView",
            "description": "",
            "description_tooltip": null,
            "layout": "IPY_MODEL_ae09e06924b94288b5c7e9c84bb63d90",
            "placeholder": "​",
            "style": "IPY_MODEL_f823849f814d4bd89f9f321c8886bca7",
            "value": " 570/570 [00:00&lt;00:00, 38.3kB/s]"
          }
        },
        "abad7fb1be9641a6b3e9faab7e053717": {
          "model_module": "@jupyter-widgets/base",
          "model_name": "LayoutModel",
          "model_module_version": "1.2.0",
          "state": {
            "_model_module": "@jupyter-widgets/base",
            "_model_module_version": "1.2.0",
            "_model_name": "LayoutModel",
            "_view_count": null,
            "_view_module": "@jupyter-widgets/base",
            "_view_module_version": "1.2.0",
            "_view_name": "LayoutView",
            "align_content": null,
            "align_items": null,
            "align_self": null,
            "border": null,
            "bottom": null,
            "display": null,
            "flex": null,
            "flex_flow": null,
            "grid_area": null,
            "grid_auto_columns": null,
            "grid_auto_flow": null,
            "grid_auto_rows": null,
            "grid_column": null,
            "grid_gap": null,
            "grid_row": null,
            "grid_template_areas": null,
            "grid_template_columns": null,
            "grid_template_rows": null,
            "height": null,
            "justify_content": null,
            "justify_items": null,
            "left": null,
            "margin": null,
            "max_height": null,
            "max_width": null,
            "min_height": null,
            "min_width": null,
            "object_fit": null,
            "object_position": null,
            "order": null,
            "overflow": null,
            "overflow_x": null,
            "overflow_y": null,
            "padding": null,
            "right": null,
            "top": null,
            "visibility": null,
            "width": null
          }
        },
        "ffdc8441182745ef9fa612493f7a8045": {
          "model_module": "@jupyter-widgets/base",
          "model_name": "LayoutModel",
          "model_module_version": "1.2.0",
          "state": {
            "_model_module": "@jupyter-widgets/base",
            "_model_module_version": "1.2.0",
            "_model_name": "LayoutModel",
            "_view_count": null,
            "_view_module": "@jupyter-widgets/base",
            "_view_module_version": "1.2.0",
            "_view_name": "LayoutView",
            "align_content": null,
            "align_items": null,
            "align_self": null,
            "border": null,
            "bottom": null,
            "display": null,
            "flex": null,
            "flex_flow": null,
            "grid_area": null,
            "grid_auto_columns": null,
            "grid_auto_flow": null,
            "grid_auto_rows": null,
            "grid_column": null,
            "grid_gap": null,
            "grid_row": null,
            "grid_template_areas": null,
            "grid_template_columns": null,
            "grid_template_rows": null,
            "height": null,
            "justify_content": null,
            "justify_items": null,
            "left": null,
            "margin": null,
            "max_height": null,
            "max_width": null,
            "min_height": null,
            "min_width": null,
            "object_fit": null,
            "object_position": null,
            "order": null,
            "overflow": null,
            "overflow_x": null,
            "overflow_y": null,
            "padding": null,
            "right": null,
            "top": null,
            "visibility": null,
            "width": null
          }
        },
        "e46d5e66ea484c648f06dfb1c16bc037": {
          "model_module": "@jupyter-widgets/controls",
          "model_name": "DescriptionStyleModel",
          "model_module_version": "1.5.0",
          "state": {
            "_model_module": "@jupyter-widgets/controls",
            "_model_module_version": "1.5.0",
            "_model_name": "DescriptionStyleModel",
            "_view_count": null,
            "_view_module": "@jupyter-widgets/base",
            "_view_module_version": "1.2.0",
            "_view_name": "StyleView",
            "description_width": ""
          }
        },
        "69911b40c1db4260a95bc815bea5d4e2": {
          "model_module": "@jupyter-widgets/base",
          "model_name": "LayoutModel",
          "model_module_version": "1.2.0",
          "state": {
            "_model_module": "@jupyter-widgets/base",
            "_model_module_version": "1.2.0",
            "_model_name": "LayoutModel",
            "_view_count": null,
            "_view_module": "@jupyter-widgets/base",
            "_view_module_version": "1.2.0",
            "_view_name": "LayoutView",
            "align_content": null,
            "align_items": null,
            "align_self": null,
            "border": null,
            "bottom": null,
            "display": null,
            "flex": null,
            "flex_flow": null,
            "grid_area": null,
            "grid_auto_columns": null,
            "grid_auto_flow": null,
            "grid_auto_rows": null,
            "grid_column": null,
            "grid_gap": null,
            "grid_row": null,
            "grid_template_areas": null,
            "grid_template_columns": null,
            "grid_template_rows": null,
            "height": null,
            "justify_content": null,
            "justify_items": null,
            "left": null,
            "margin": null,
            "max_height": null,
            "max_width": null,
            "min_height": null,
            "min_width": null,
            "object_fit": null,
            "object_position": null,
            "order": null,
            "overflow": null,
            "overflow_x": null,
            "overflow_y": null,
            "padding": null,
            "right": null,
            "top": null,
            "visibility": null,
            "width": null
          }
        },
        "2af134bc5b2d4a87b61dce0dc93baa26": {
          "model_module": "@jupyter-widgets/controls",
          "model_name": "ProgressStyleModel",
          "model_module_version": "1.5.0",
          "state": {
            "_model_module": "@jupyter-widgets/controls",
            "_model_module_version": "1.5.0",
            "_model_name": "ProgressStyleModel",
            "_view_count": null,
            "_view_module": "@jupyter-widgets/base",
            "_view_module_version": "1.2.0",
            "_view_name": "StyleView",
            "bar_color": null,
            "description_width": ""
          }
        },
        "ae09e06924b94288b5c7e9c84bb63d90": {
          "model_module": "@jupyter-widgets/base",
          "model_name": "LayoutModel",
          "model_module_version": "1.2.0",
          "state": {
            "_model_module": "@jupyter-widgets/base",
            "_model_module_version": "1.2.0",
            "_model_name": "LayoutModel",
            "_view_count": null,
            "_view_module": "@jupyter-widgets/base",
            "_view_module_version": "1.2.0",
            "_view_name": "LayoutView",
            "align_content": null,
            "align_items": null,
            "align_self": null,
            "border": null,
            "bottom": null,
            "display": null,
            "flex": null,
            "flex_flow": null,
            "grid_area": null,
            "grid_auto_columns": null,
            "grid_auto_flow": null,
            "grid_auto_rows": null,
            "grid_column": null,
            "grid_gap": null,
            "grid_row": null,
            "grid_template_areas": null,
            "grid_template_columns": null,
            "grid_template_rows": null,
            "height": null,
            "justify_content": null,
            "justify_items": null,
            "left": null,
            "margin": null,
            "max_height": null,
            "max_width": null,
            "min_height": null,
            "min_width": null,
            "object_fit": null,
            "object_position": null,
            "order": null,
            "overflow": null,
            "overflow_x": null,
            "overflow_y": null,
            "padding": null,
            "right": null,
            "top": null,
            "visibility": null,
            "width": null
          }
        },
        "f823849f814d4bd89f9f321c8886bca7": {
          "model_module": "@jupyter-widgets/controls",
          "model_name": "DescriptionStyleModel",
          "model_module_version": "1.5.0",
          "state": {
            "_model_module": "@jupyter-widgets/controls",
            "_model_module_version": "1.5.0",
            "_model_name": "DescriptionStyleModel",
            "_view_count": null,
            "_view_module": "@jupyter-widgets/base",
            "_view_module_version": "1.2.0",
            "_view_name": "StyleView",
            "description_width": ""
          }
        },
        "60ff0d53b7d3469b8f806c1eebdd8119": {
          "model_module": "@jupyter-widgets/controls",
          "model_name": "HBoxModel",
          "model_module_version": "1.5.0",
          "state": {
            "_dom_classes": [],
            "_model_module": "@jupyter-widgets/controls",
            "_model_module_version": "1.5.0",
            "_model_name": "HBoxModel",
            "_view_count": null,
            "_view_module": "@jupyter-widgets/controls",
            "_view_module_version": "1.5.0",
            "_view_name": "HBoxView",
            "box_style": "",
            "children": [
              "IPY_MODEL_6e5e8fa5c1304908b9915a3306d22500",
              "IPY_MODEL_20241512018040a08f334f8345e473e0",
              "IPY_MODEL_05029595449b465991914abf4a3d460f"
            ],
            "layout": "IPY_MODEL_73446575332f448494ea65875b708dec"
          }
        },
        "6e5e8fa5c1304908b9915a3306d22500": {
          "model_module": "@jupyter-widgets/controls",
          "model_name": "HTMLModel",
          "model_module_version": "1.5.0",
          "state": {
            "_dom_classes": [],
            "_model_module": "@jupyter-widgets/controls",
            "_model_module_version": "1.5.0",
            "_model_name": "HTMLModel",
            "_view_count": null,
            "_view_module": "@jupyter-widgets/controls",
            "_view_module_version": "1.5.0",
            "_view_name": "HTMLView",
            "description": "",
            "description_tooltip": null,
            "layout": "IPY_MODEL_ad143f6852ce46b8a3c7ad264e6723fe",
            "placeholder": "​",
            "style": "IPY_MODEL_11d8162ba77d4021a84751ebbd2f5aba",
            "value": "model.safetensors: 100%"
          }
        },
        "20241512018040a08f334f8345e473e0": {
          "model_module": "@jupyter-widgets/controls",
          "model_name": "FloatProgressModel",
          "model_module_version": "1.5.0",
          "state": {
            "_dom_classes": [],
            "_model_module": "@jupyter-widgets/controls",
            "_model_module_version": "1.5.0",
            "_model_name": "FloatProgressModel",
            "_view_count": null,
            "_view_module": "@jupyter-widgets/controls",
            "_view_module_version": "1.5.0",
            "_view_name": "ProgressView",
            "bar_style": "success",
            "description": "",
            "description_tooltip": null,
            "layout": "IPY_MODEL_57240fd8a4004458916076babb8b4599",
            "max": 435755784,
            "min": 0,
            "orientation": "horizontal",
            "style": "IPY_MODEL_c6e474b0c66842abbcbddc0e5f9d4e07",
            "value": 435755784
          }
        },
        "05029595449b465991914abf4a3d460f": {
          "model_module": "@jupyter-widgets/controls",
          "model_name": "HTMLModel",
          "model_module_version": "1.5.0",
          "state": {
            "_dom_classes": [],
            "_model_module": "@jupyter-widgets/controls",
            "_model_module_version": "1.5.0",
            "_model_name": "HTMLModel",
            "_view_count": null,
            "_view_module": "@jupyter-widgets/controls",
            "_view_module_version": "1.5.0",
            "_view_name": "HTMLView",
            "description": "",
            "description_tooltip": null,
            "layout": "IPY_MODEL_c5b5e09c77b141bcbdda0016288b94ba",
            "placeholder": "​",
            "style": "IPY_MODEL_627380a73dfc4ae1b90797919344b85b",
            "value": " 436M/436M [00:01&lt;00:00, 267MB/s]"
          }
        },
        "73446575332f448494ea65875b708dec": {
          "model_module": "@jupyter-widgets/base",
          "model_name": "LayoutModel",
          "model_module_version": "1.2.0",
          "state": {
            "_model_module": "@jupyter-widgets/base",
            "_model_module_version": "1.2.0",
            "_model_name": "LayoutModel",
            "_view_count": null,
            "_view_module": "@jupyter-widgets/base",
            "_view_module_version": "1.2.0",
            "_view_name": "LayoutView",
            "align_content": null,
            "align_items": null,
            "align_self": null,
            "border": null,
            "bottom": null,
            "display": null,
            "flex": null,
            "flex_flow": null,
            "grid_area": null,
            "grid_auto_columns": null,
            "grid_auto_flow": null,
            "grid_auto_rows": null,
            "grid_column": null,
            "grid_gap": null,
            "grid_row": null,
            "grid_template_areas": null,
            "grid_template_columns": null,
            "grid_template_rows": null,
            "height": null,
            "justify_content": null,
            "justify_items": null,
            "left": null,
            "margin": null,
            "max_height": null,
            "max_width": null,
            "min_height": null,
            "min_width": null,
            "object_fit": null,
            "object_position": null,
            "order": null,
            "overflow": null,
            "overflow_x": null,
            "overflow_y": null,
            "padding": null,
            "right": null,
            "top": null,
            "visibility": null,
            "width": null
          }
        },
        "ad143f6852ce46b8a3c7ad264e6723fe": {
          "model_module": "@jupyter-widgets/base",
          "model_name": "LayoutModel",
          "model_module_version": "1.2.0",
          "state": {
            "_model_module": "@jupyter-widgets/base",
            "_model_module_version": "1.2.0",
            "_model_name": "LayoutModel",
            "_view_count": null,
            "_view_module": "@jupyter-widgets/base",
            "_view_module_version": "1.2.0",
            "_view_name": "LayoutView",
            "align_content": null,
            "align_items": null,
            "align_self": null,
            "border": null,
            "bottom": null,
            "display": null,
            "flex": null,
            "flex_flow": null,
            "grid_area": null,
            "grid_auto_columns": null,
            "grid_auto_flow": null,
            "grid_auto_rows": null,
            "grid_column": null,
            "grid_gap": null,
            "grid_row": null,
            "grid_template_areas": null,
            "grid_template_columns": null,
            "grid_template_rows": null,
            "height": null,
            "justify_content": null,
            "justify_items": null,
            "left": null,
            "margin": null,
            "max_height": null,
            "max_width": null,
            "min_height": null,
            "min_width": null,
            "object_fit": null,
            "object_position": null,
            "order": null,
            "overflow": null,
            "overflow_x": null,
            "overflow_y": null,
            "padding": null,
            "right": null,
            "top": null,
            "visibility": null,
            "width": null
          }
        },
        "11d8162ba77d4021a84751ebbd2f5aba": {
          "model_module": "@jupyter-widgets/controls",
          "model_name": "DescriptionStyleModel",
          "model_module_version": "1.5.0",
          "state": {
            "_model_module": "@jupyter-widgets/controls",
            "_model_module_version": "1.5.0",
            "_model_name": "DescriptionStyleModel",
            "_view_count": null,
            "_view_module": "@jupyter-widgets/base",
            "_view_module_version": "1.2.0",
            "_view_name": "StyleView",
            "description_width": ""
          }
        },
        "57240fd8a4004458916076babb8b4599": {
          "model_module": "@jupyter-widgets/base",
          "model_name": "LayoutModel",
          "model_module_version": "1.2.0",
          "state": {
            "_model_module": "@jupyter-widgets/base",
            "_model_module_version": "1.2.0",
            "_model_name": "LayoutModel",
            "_view_count": null,
            "_view_module": "@jupyter-widgets/base",
            "_view_module_version": "1.2.0",
            "_view_name": "LayoutView",
            "align_content": null,
            "align_items": null,
            "align_self": null,
            "border": null,
            "bottom": null,
            "display": null,
            "flex": null,
            "flex_flow": null,
            "grid_area": null,
            "grid_auto_columns": null,
            "grid_auto_flow": null,
            "grid_auto_rows": null,
            "grid_column": null,
            "grid_gap": null,
            "grid_row": null,
            "grid_template_areas": null,
            "grid_template_columns": null,
            "grid_template_rows": null,
            "height": null,
            "justify_content": null,
            "justify_items": null,
            "left": null,
            "margin": null,
            "max_height": null,
            "max_width": null,
            "min_height": null,
            "min_width": null,
            "object_fit": null,
            "object_position": null,
            "order": null,
            "overflow": null,
            "overflow_x": null,
            "overflow_y": null,
            "padding": null,
            "right": null,
            "top": null,
            "visibility": null,
            "width": null
          }
        },
        "c6e474b0c66842abbcbddc0e5f9d4e07": {
          "model_module": "@jupyter-widgets/controls",
          "model_name": "ProgressStyleModel",
          "model_module_version": "1.5.0",
          "state": {
            "_model_module": "@jupyter-widgets/controls",
            "_model_module_version": "1.5.0",
            "_model_name": "ProgressStyleModel",
            "_view_count": null,
            "_view_module": "@jupyter-widgets/base",
            "_view_module_version": "1.2.0",
            "_view_name": "StyleView",
            "bar_color": null,
            "description_width": ""
          }
        },
        "c5b5e09c77b141bcbdda0016288b94ba": {
          "model_module": "@jupyter-widgets/base",
          "model_name": "LayoutModel",
          "model_module_version": "1.2.0",
          "state": {
            "_model_module": "@jupyter-widgets/base",
            "_model_module_version": "1.2.0",
            "_model_name": "LayoutModel",
            "_view_count": null,
            "_view_module": "@jupyter-widgets/base",
            "_view_module_version": "1.2.0",
            "_view_name": "LayoutView",
            "align_content": null,
            "align_items": null,
            "align_self": null,
            "border": null,
            "bottom": null,
            "display": null,
            "flex": null,
            "flex_flow": null,
            "grid_area": null,
            "grid_auto_columns": null,
            "grid_auto_flow": null,
            "grid_auto_rows": null,
            "grid_column": null,
            "grid_gap": null,
            "grid_row": null,
            "grid_template_areas": null,
            "grid_template_columns": null,
            "grid_template_rows": null,
            "height": null,
            "justify_content": null,
            "justify_items": null,
            "left": null,
            "margin": null,
            "max_height": null,
            "max_width": null,
            "min_height": null,
            "min_width": null,
            "object_fit": null,
            "object_position": null,
            "order": null,
            "overflow": null,
            "overflow_x": null,
            "overflow_y": null,
            "padding": null,
            "right": null,
            "top": null,
            "visibility": null,
            "width": null
          }
        },
        "627380a73dfc4ae1b90797919344b85b": {
          "model_module": "@jupyter-widgets/controls",
          "model_name": "DescriptionStyleModel",
          "model_module_version": "1.5.0",
          "state": {
            "_model_module": "@jupyter-widgets/controls",
            "_model_module_version": "1.5.0",
            "_model_name": "DescriptionStyleModel",
            "_view_count": null,
            "_view_module": "@jupyter-widgets/base",
            "_view_module_version": "1.2.0",
            "_view_name": "StyleView",
            "description_width": ""
          }
        },
        "70457ab74aff4b7584ff9bc830e6976e": {
          "model_module": "@jupyter-widgets/controls",
          "model_name": "HBoxModel",
          "model_module_version": "1.5.0",
          "state": {
            "_dom_classes": [],
            "_model_module": "@jupyter-widgets/controls",
            "_model_module_version": "1.5.0",
            "_model_name": "HBoxModel",
            "_view_count": null,
            "_view_module": "@jupyter-widgets/controls",
            "_view_module_version": "1.5.0",
            "_view_name": "HBoxView",
            "box_style": "",
            "children": [
              "IPY_MODEL_44d26e28c48646279fec54095d9e0bfb",
              "IPY_MODEL_2ce585ec3b794bfeb4c66e8d71d718a6",
              "IPY_MODEL_1e0e47e912b94935beaec12df122f71d"
            ],
            "layout": "IPY_MODEL_42b022f7145e40e39b3242037c67e6d3"
          }
        },
        "44d26e28c48646279fec54095d9e0bfb": {
          "model_module": "@jupyter-widgets/controls",
          "model_name": "HTMLModel",
          "model_module_version": "1.5.0",
          "state": {
            "_dom_classes": [],
            "_model_module": "@jupyter-widgets/controls",
            "_model_module_version": "1.5.0",
            "_model_name": "HTMLModel",
            "_view_count": null,
            "_view_module": "@jupyter-widgets/controls",
            "_view_module_version": "1.5.0",
            "_view_name": "HTMLView",
            "description": "",
            "description_tooltip": null,
            "layout": "IPY_MODEL_e693791c5cb04eb29281e25f9b8a6c03",
            "placeholder": "​",
            "style": "IPY_MODEL_05f0da63b2234e718014284a604b9b79",
            "value": "tokenizer_config.json: 100%"
          }
        },
        "2ce585ec3b794bfeb4c66e8d71d718a6": {
          "model_module": "@jupyter-widgets/controls",
          "model_name": "FloatProgressModel",
          "model_module_version": "1.5.0",
          "state": {
            "_dom_classes": [],
            "_model_module": "@jupyter-widgets/controls",
            "_model_module_version": "1.5.0",
            "_model_name": "FloatProgressModel",
            "_view_count": null,
            "_view_module": "@jupyter-widgets/controls",
            "_view_module_version": "1.5.0",
            "_view_name": "ProgressView",
            "bar_style": "success",
            "description": "",
            "description_tooltip": null,
            "layout": "IPY_MODEL_e9256939d6874855b06e63ccf288f0ee",
            "max": 29,
            "min": 0,
            "orientation": "horizontal",
            "style": "IPY_MODEL_26d969d29cc74de0aabf0fe879d8d2e3",
            "value": 29
          }
        },
        "1e0e47e912b94935beaec12df122f71d": {
          "model_module": "@jupyter-widgets/controls",
          "model_name": "HTMLModel",
          "model_module_version": "1.5.0",
          "state": {
            "_dom_classes": [],
            "_model_module": "@jupyter-widgets/controls",
            "_model_module_version": "1.5.0",
            "_model_name": "HTMLModel",
            "_view_count": null,
            "_view_module": "@jupyter-widgets/controls",
            "_view_module_version": "1.5.0",
            "_view_name": "HTMLView",
            "description": "",
            "description_tooltip": null,
            "layout": "IPY_MODEL_c6036cca5b264ab58acef0c88e0d55dc",
            "placeholder": "​",
            "style": "IPY_MODEL_b248d1fea3b64df5ac0efad0c05d76de",
            "value": " 29.0/29.0 [00:00&lt;00:00, 1.07kB/s]"
          }
        },
        "42b022f7145e40e39b3242037c67e6d3": {
          "model_module": "@jupyter-widgets/base",
          "model_name": "LayoutModel",
          "model_module_version": "1.2.0",
          "state": {
            "_model_module": "@jupyter-widgets/base",
            "_model_module_version": "1.2.0",
            "_model_name": "LayoutModel",
            "_view_count": null,
            "_view_module": "@jupyter-widgets/base",
            "_view_module_version": "1.2.0",
            "_view_name": "LayoutView",
            "align_content": null,
            "align_items": null,
            "align_self": null,
            "border": null,
            "bottom": null,
            "display": null,
            "flex": null,
            "flex_flow": null,
            "grid_area": null,
            "grid_auto_columns": null,
            "grid_auto_flow": null,
            "grid_auto_rows": null,
            "grid_column": null,
            "grid_gap": null,
            "grid_row": null,
            "grid_template_areas": null,
            "grid_template_columns": null,
            "grid_template_rows": null,
            "height": null,
            "justify_content": null,
            "justify_items": null,
            "left": null,
            "margin": null,
            "max_height": null,
            "max_width": null,
            "min_height": null,
            "min_width": null,
            "object_fit": null,
            "object_position": null,
            "order": null,
            "overflow": null,
            "overflow_x": null,
            "overflow_y": null,
            "padding": null,
            "right": null,
            "top": null,
            "visibility": null,
            "width": null
          }
        },
        "e693791c5cb04eb29281e25f9b8a6c03": {
          "model_module": "@jupyter-widgets/base",
          "model_name": "LayoutModel",
          "model_module_version": "1.2.0",
          "state": {
            "_model_module": "@jupyter-widgets/base",
            "_model_module_version": "1.2.0",
            "_model_name": "LayoutModel",
            "_view_count": null,
            "_view_module": "@jupyter-widgets/base",
            "_view_module_version": "1.2.0",
            "_view_name": "LayoutView",
            "align_content": null,
            "align_items": null,
            "align_self": null,
            "border": null,
            "bottom": null,
            "display": null,
            "flex": null,
            "flex_flow": null,
            "grid_area": null,
            "grid_auto_columns": null,
            "grid_auto_flow": null,
            "grid_auto_rows": null,
            "grid_column": null,
            "grid_gap": null,
            "grid_row": null,
            "grid_template_areas": null,
            "grid_template_columns": null,
            "grid_template_rows": null,
            "height": null,
            "justify_content": null,
            "justify_items": null,
            "left": null,
            "margin": null,
            "max_height": null,
            "max_width": null,
            "min_height": null,
            "min_width": null,
            "object_fit": null,
            "object_position": null,
            "order": null,
            "overflow": null,
            "overflow_x": null,
            "overflow_y": null,
            "padding": null,
            "right": null,
            "top": null,
            "visibility": null,
            "width": null
          }
        },
        "05f0da63b2234e718014284a604b9b79": {
          "model_module": "@jupyter-widgets/controls",
          "model_name": "DescriptionStyleModel",
          "model_module_version": "1.5.0",
          "state": {
            "_model_module": "@jupyter-widgets/controls",
            "_model_module_version": "1.5.0",
            "_model_name": "DescriptionStyleModel",
            "_view_count": null,
            "_view_module": "@jupyter-widgets/base",
            "_view_module_version": "1.2.0",
            "_view_name": "StyleView",
            "description_width": ""
          }
        },
        "e9256939d6874855b06e63ccf288f0ee": {
          "model_module": "@jupyter-widgets/base",
          "model_name": "LayoutModel",
          "model_module_version": "1.2.0",
          "state": {
            "_model_module": "@jupyter-widgets/base",
            "_model_module_version": "1.2.0",
            "_model_name": "LayoutModel",
            "_view_count": null,
            "_view_module": "@jupyter-widgets/base",
            "_view_module_version": "1.2.0",
            "_view_name": "LayoutView",
            "align_content": null,
            "align_items": null,
            "align_self": null,
            "border": null,
            "bottom": null,
            "display": null,
            "flex": null,
            "flex_flow": null,
            "grid_area": null,
            "grid_auto_columns": null,
            "grid_auto_flow": null,
            "grid_auto_rows": null,
            "grid_column": null,
            "grid_gap": null,
            "grid_row": null,
            "grid_template_areas": null,
            "grid_template_columns": null,
            "grid_template_rows": null,
            "height": null,
            "justify_content": null,
            "justify_items": null,
            "left": null,
            "margin": null,
            "max_height": null,
            "max_width": null,
            "min_height": null,
            "min_width": null,
            "object_fit": null,
            "object_position": null,
            "order": null,
            "overflow": null,
            "overflow_x": null,
            "overflow_y": null,
            "padding": null,
            "right": null,
            "top": null,
            "visibility": null,
            "width": null
          }
        },
        "26d969d29cc74de0aabf0fe879d8d2e3": {
          "model_module": "@jupyter-widgets/controls",
          "model_name": "ProgressStyleModel",
          "model_module_version": "1.5.0",
          "state": {
            "_model_module": "@jupyter-widgets/controls",
            "_model_module_version": "1.5.0",
            "_model_name": "ProgressStyleModel",
            "_view_count": null,
            "_view_module": "@jupyter-widgets/base",
            "_view_module_version": "1.2.0",
            "_view_name": "StyleView",
            "bar_color": null,
            "description_width": ""
          }
        },
        "c6036cca5b264ab58acef0c88e0d55dc": {
          "model_module": "@jupyter-widgets/base",
          "model_name": "LayoutModel",
          "model_module_version": "1.2.0",
          "state": {
            "_model_module": "@jupyter-widgets/base",
            "_model_module_version": "1.2.0",
            "_model_name": "LayoutModel",
            "_view_count": null,
            "_view_module": "@jupyter-widgets/base",
            "_view_module_version": "1.2.0",
            "_view_name": "LayoutView",
            "align_content": null,
            "align_items": null,
            "align_self": null,
            "border": null,
            "bottom": null,
            "display": null,
            "flex": null,
            "flex_flow": null,
            "grid_area": null,
            "grid_auto_columns": null,
            "grid_auto_flow": null,
            "grid_auto_rows": null,
            "grid_column": null,
            "grid_gap": null,
            "grid_row": null,
            "grid_template_areas": null,
            "grid_template_columns": null,
            "grid_template_rows": null,
            "height": null,
            "justify_content": null,
            "justify_items": null,
            "left": null,
            "margin": null,
            "max_height": null,
            "max_width": null,
            "min_height": null,
            "min_width": null,
            "object_fit": null,
            "object_position": null,
            "order": null,
            "overflow": null,
            "overflow_x": null,
            "overflow_y": null,
            "padding": null,
            "right": null,
            "top": null,
            "visibility": null,
            "width": null
          }
        },
        "b248d1fea3b64df5ac0efad0c05d76de": {
          "model_module": "@jupyter-widgets/controls",
          "model_name": "DescriptionStyleModel",
          "model_module_version": "1.5.0",
          "state": {
            "_model_module": "@jupyter-widgets/controls",
            "_model_module_version": "1.5.0",
            "_model_name": "DescriptionStyleModel",
            "_view_count": null,
            "_view_module": "@jupyter-widgets/base",
            "_view_module_version": "1.2.0",
            "_view_name": "StyleView",
            "description_width": ""
          }
        },
        "0e7ef7a44deb4cbf8049fc066698e014": {
          "model_module": "@jupyter-widgets/controls",
          "model_name": "HBoxModel",
          "model_module_version": "1.5.0",
          "state": {
            "_dom_classes": [],
            "_model_module": "@jupyter-widgets/controls",
            "_model_module_version": "1.5.0",
            "_model_name": "HBoxModel",
            "_view_count": null,
            "_view_module": "@jupyter-widgets/controls",
            "_view_module_version": "1.5.0",
            "_view_name": "HBoxView",
            "box_style": "",
            "children": [
              "IPY_MODEL_58d57b25c2c947de8467ec93475b2713",
              "IPY_MODEL_8eea6acb9c7343478c978fa2d03cb04b",
              "IPY_MODEL_7f3109cf0b1a44bf8c9820cd2a90eed9"
            ],
            "layout": "IPY_MODEL_6cd9d4bcfca74d13b03d32c28cae0e9b"
          }
        },
        "58d57b25c2c947de8467ec93475b2713": {
          "model_module": "@jupyter-widgets/controls",
          "model_name": "HTMLModel",
          "model_module_version": "1.5.0",
          "state": {
            "_dom_classes": [],
            "_model_module": "@jupyter-widgets/controls",
            "_model_module_version": "1.5.0",
            "_model_name": "HTMLModel",
            "_view_count": null,
            "_view_module": "@jupyter-widgets/controls",
            "_view_module_version": "1.5.0",
            "_view_name": "HTMLView",
            "description": "",
            "description_tooltip": null,
            "layout": "IPY_MODEL_faba5c6176914ea69a2091206288d96e",
            "placeholder": "​",
            "style": "IPY_MODEL_f2f281fa0bac42789db4f76ec94de25b",
            "value": "vocab.txt: 100%"
          }
        },
        "8eea6acb9c7343478c978fa2d03cb04b": {
          "model_module": "@jupyter-widgets/controls",
          "model_name": "FloatProgressModel",
          "model_module_version": "1.5.0",
          "state": {
            "_dom_classes": [],
            "_model_module": "@jupyter-widgets/controls",
            "_model_module_version": "1.5.0",
            "_model_name": "FloatProgressModel",
            "_view_count": null,
            "_view_module": "@jupyter-widgets/controls",
            "_view_module_version": "1.5.0",
            "_view_name": "ProgressView",
            "bar_style": "success",
            "description": "",
            "description_tooltip": null,
            "layout": "IPY_MODEL_941ddfef1237472d9389ff95632cc52f",
            "max": 213450,
            "min": 0,
            "orientation": "horizontal",
            "style": "IPY_MODEL_bcdbfe6f795d48838d639b897fa60b4d",
            "value": 213450
          }
        },
        "7f3109cf0b1a44bf8c9820cd2a90eed9": {
          "model_module": "@jupyter-widgets/controls",
          "model_name": "HTMLModel",
          "model_module_version": "1.5.0",
          "state": {
            "_dom_classes": [],
            "_model_module": "@jupyter-widgets/controls",
            "_model_module_version": "1.5.0",
            "_model_name": "HTMLModel",
            "_view_count": null,
            "_view_module": "@jupyter-widgets/controls",
            "_view_module_version": "1.5.0",
            "_view_name": "HTMLView",
            "description": "",
            "description_tooltip": null,
            "layout": "IPY_MODEL_0e829886e3ca447395096f5e46128882",
            "placeholder": "​",
            "style": "IPY_MODEL_7023f070bf8343bda9698a3480fb0728",
            "value": " 213k/213k [00:00&lt;00:00, 1.24MB/s]"
          }
        },
        "6cd9d4bcfca74d13b03d32c28cae0e9b": {
          "model_module": "@jupyter-widgets/base",
          "model_name": "LayoutModel",
          "model_module_version": "1.2.0",
          "state": {
            "_model_module": "@jupyter-widgets/base",
            "_model_module_version": "1.2.0",
            "_model_name": "LayoutModel",
            "_view_count": null,
            "_view_module": "@jupyter-widgets/base",
            "_view_module_version": "1.2.0",
            "_view_name": "LayoutView",
            "align_content": null,
            "align_items": null,
            "align_self": null,
            "border": null,
            "bottom": null,
            "display": null,
            "flex": null,
            "flex_flow": null,
            "grid_area": null,
            "grid_auto_columns": null,
            "grid_auto_flow": null,
            "grid_auto_rows": null,
            "grid_column": null,
            "grid_gap": null,
            "grid_row": null,
            "grid_template_areas": null,
            "grid_template_columns": null,
            "grid_template_rows": null,
            "height": null,
            "justify_content": null,
            "justify_items": null,
            "left": null,
            "margin": null,
            "max_height": null,
            "max_width": null,
            "min_height": null,
            "min_width": null,
            "object_fit": null,
            "object_position": null,
            "order": null,
            "overflow": null,
            "overflow_x": null,
            "overflow_y": null,
            "padding": null,
            "right": null,
            "top": null,
            "visibility": null,
            "width": null
          }
        },
        "faba5c6176914ea69a2091206288d96e": {
          "model_module": "@jupyter-widgets/base",
          "model_name": "LayoutModel",
          "model_module_version": "1.2.0",
          "state": {
            "_model_module": "@jupyter-widgets/base",
            "_model_module_version": "1.2.0",
            "_model_name": "LayoutModel",
            "_view_count": null,
            "_view_module": "@jupyter-widgets/base",
            "_view_module_version": "1.2.0",
            "_view_name": "LayoutView",
            "align_content": null,
            "align_items": null,
            "align_self": null,
            "border": null,
            "bottom": null,
            "display": null,
            "flex": null,
            "flex_flow": null,
            "grid_area": null,
            "grid_auto_columns": null,
            "grid_auto_flow": null,
            "grid_auto_rows": null,
            "grid_column": null,
            "grid_gap": null,
            "grid_row": null,
            "grid_template_areas": null,
            "grid_template_columns": null,
            "grid_template_rows": null,
            "height": null,
            "justify_content": null,
            "justify_items": null,
            "left": null,
            "margin": null,
            "max_height": null,
            "max_width": null,
            "min_height": null,
            "min_width": null,
            "object_fit": null,
            "object_position": null,
            "order": null,
            "overflow": null,
            "overflow_x": null,
            "overflow_y": null,
            "padding": null,
            "right": null,
            "top": null,
            "visibility": null,
            "width": null
          }
        },
        "f2f281fa0bac42789db4f76ec94de25b": {
          "model_module": "@jupyter-widgets/controls",
          "model_name": "DescriptionStyleModel",
          "model_module_version": "1.5.0",
          "state": {
            "_model_module": "@jupyter-widgets/controls",
            "_model_module_version": "1.5.0",
            "_model_name": "DescriptionStyleModel",
            "_view_count": null,
            "_view_module": "@jupyter-widgets/base",
            "_view_module_version": "1.2.0",
            "_view_name": "StyleView",
            "description_width": ""
          }
        },
        "941ddfef1237472d9389ff95632cc52f": {
          "model_module": "@jupyter-widgets/base",
          "model_name": "LayoutModel",
          "model_module_version": "1.2.0",
          "state": {
            "_model_module": "@jupyter-widgets/base",
            "_model_module_version": "1.2.0",
            "_model_name": "LayoutModel",
            "_view_count": null,
            "_view_module": "@jupyter-widgets/base",
            "_view_module_version": "1.2.0",
            "_view_name": "LayoutView",
            "align_content": null,
            "align_items": null,
            "align_self": null,
            "border": null,
            "bottom": null,
            "display": null,
            "flex": null,
            "flex_flow": null,
            "grid_area": null,
            "grid_auto_columns": null,
            "grid_auto_flow": null,
            "grid_auto_rows": null,
            "grid_column": null,
            "grid_gap": null,
            "grid_row": null,
            "grid_template_areas": null,
            "grid_template_columns": null,
            "grid_template_rows": null,
            "height": null,
            "justify_content": null,
            "justify_items": null,
            "left": null,
            "margin": null,
            "max_height": null,
            "max_width": null,
            "min_height": null,
            "min_width": null,
            "object_fit": null,
            "object_position": null,
            "order": null,
            "overflow": null,
            "overflow_x": null,
            "overflow_y": null,
            "padding": null,
            "right": null,
            "top": null,
            "visibility": null,
            "width": null
          }
        },
        "bcdbfe6f795d48838d639b897fa60b4d": {
          "model_module": "@jupyter-widgets/controls",
          "model_name": "ProgressStyleModel",
          "model_module_version": "1.5.0",
          "state": {
            "_model_module": "@jupyter-widgets/controls",
            "_model_module_version": "1.5.0",
            "_model_name": "ProgressStyleModel",
            "_view_count": null,
            "_view_module": "@jupyter-widgets/base",
            "_view_module_version": "1.2.0",
            "_view_name": "StyleView",
            "bar_color": null,
            "description_width": ""
          }
        },
        "0e829886e3ca447395096f5e46128882": {
          "model_module": "@jupyter-widgets/base",
          "model_name": "LayoutModel",
          "model_module_version": "1.2.0",
          "state": {
            "_model_module": "@jupyter-widgets/base",
            "_model_module_version": "1.2.0",
            "_model_name": "LayoutModel",
            "_view_count": null,
            "_view_module": "@jupyter-widgets/base",
            "_view_module_version": "1.2.0",
            "_view_name": "LayoutView",
            "align_content": null,
            "align_items": null,
            "align_self": null,
            "border": null,
            "bottom": null,
            "display": null,
            "flex": null,
            "flex_flow": null,
            "grid_area": null,
            "grid_auto_columns": null,
            "grid_auto_flow": null,
            "grid_auto_rows": null,
            "grid_column": null,
            "grid_gap": null,
            "grid_row": null,
            "grid_template_areas": null,
            "grid_template_columns": null,
            "grid_template_rows": null,
            "height": null,
            "justify_content": null,
            "justify_items": null,
            "left": null,
            "margin": null,
            "max_height": null,
            "max_width": null,
            "min_height": null,
            "min_width": null,
            "object_fit": null,
            "object_position": null,
            "order": null,
            "overflow": null,
            "overflow_x": null,
            "overflow_y": null,
            "padding": null,
            "right": null,
            "top": null,
            "visibility": null,
            "width": null
          }
        },
        "7023f070bf8343bda9698a3480fb0728": {
          "model_module": "@jupyter-widgets/controls",
          "model_name": "DescriptionStyleModel",
          "model_module_version": "1.5.0",
          "state": {
            "_model_module": "@jupyter-widgets/controls",
            "_model_module_version": "1.5.0",
            "_model_name": "DescriptionStyleModel",
            "_view_count": null,
            "_view_module": "@jupyter-widgets/base",
            "_view_module_version": "1.2.0",
            "_view_name": "StyleView",
            "description_width": ""
          }
        },
        "c7ae965fde12411790a9bc02bb7b0d1f": {
          "model_module": "@jupyter-widgets/controls",
          "model_name": "HBoxModel",
          "model_module_version": "1.5.0",
          "state": {
            "_dom_classes": [],
            "_model_module": "@jupyter-widgets/controls",
            "_model_module_version": "1.5.0",
            "_model_name": "HBoxModel",
            "_view_count": null,
            "_view_module": "@jupyter-widgets/controls",
            "_view_module_version": "1.5.0",
            "_view_name": "HBoxView",
            "box_style": "",
            "children": [
              "IPY_MODEL_718a7dc4c8ad42baaf6befe27a551e6c",
              "IPY_MODEL_68fd9b7f57594c7d93f5b4d1de3cd9d7",
              "IPY_MODEL_df7f4731589b412d8ef2efe72e2bba5b"
            ],
            "layout": "IPY_MODEL_4546d4ff5df44ce680e75bbc23e1d3e0"
          }
        },
        "718a7dc4c8ad42baaf6befe27a551e6c": {
          "model_module": "@jupyter-widgets/controls",
          "model_name": "HTMLModel",
          "model_module_version": "1.5.0",
          "state": {
            "_dom_classes": [],
            "_model_module": "@jupyter-widgets/controls",
            "_model_module_version": "1.5.0",
            "_model_name": "HTMLModel",
            "_view_count": null,
            "_view_module": "@jupyter-widgets/controls",
            "_view_module_version": "1.5.0",
            "_view_name": "HTMLView",
            "description": "",
            "description_tooltip": null,
            "layout": "IPY_MODEL_2bcff7b4dbcc4509b0e38821bdfb198c",
            "placeholder": "​",
            "style": "IPY_MODEL_b56bc8c84a0547d3b9bcf84bb87cd339",
            "value": "tokenizer.json: 100%"
          }
        },
        "68fd9b7f57594c7d93f5b4d1de3cd9d7": {
          "model_module": "@jupyter-widgets/controls",
          "model_name": "FloatProgressModel",
          "model_module_version": "1.5.0",
          "state": {
            "_dom_classes": [],
            "_model_module": "@jupyter-widgets/controls",
            "_model_module_version": "1.5.0",
            "_model_name": "FloatProgressModel",
            "_view_count": null,
            "_view_module": "@jupyter-widgets/controls",
            "_view_module_version": "1.5.0",
            "_view_name": "ProgressView",
            "bar_style": "success",
            "description": "",
            "description_tooltip": null,
            "layout": "IPY_MODEL_4a188bff608a47559e9b090e8b8dc15a",
            "max": 435797,
            "min": 0,
            "orientation": "horizontal",
            "style": "IPY_MODEL_5dac1042017a4f6d878fb387180e854b",
            "value": 435797
          }
        },
        "df7f4731589b412d8ef2efe72e2bba5b": {
          "model_module": "@jupyter-widgets/controls",
          "model_name": "HTMLModel",
          "model_module_version": "1.5.0",
          "state": {
            "_dom_classes": [],
            "_model_module": "@jupyter-widgets/controls",
            "_model_module_version": "1.5.0",
            "_model_name": "HTMLModel",
            "_view_count": null,
            "_view_module": "@jupyter-widgets/controls",
            "_view_module_version": "1.5.0",
            "_view_name": "HTMLView",
            "description": "",
            "description_tooltip": null,
            "layout": "IPY_MODEL_87224dbdd2b643ffad79077db4ebeb96",
            "placeholder": "​",
            "style": "IPY_MODEL_ab6ffb2e625543d1bb91faefb54479ef",
            "value": " 436k/436k [00:00&lt;00:00, 1.76MB/s]"
          }
        },
        "4546d4ff5df44ce680e75bbc23e1d3e0": {
          "model_module": "@jupyter-widgets/base",
          "model_name": "LayoutModel",
          "model_module_version": "1.2.0",
          "state": {
            "_model_module": "@jupyter-widgets/base",
            "_model_module_version": "1.2.0",
            "_model_name": "LayoutModel",
            "_view_count": null,
            "_view_module": "@jupyter-widgets/base",
            "_view_module_version": "1.2.0",
            "_view_name": "LayoutView",
            "align_content": null,
            "align_items": null,
            "align_self": null,
            "border": null,
            "bottom": null,
            "display": null,
            "flex": null,
            "flex_flow": null,
            "grid_area": null,
            "grid_auto_columns": null,
            "grid_auto_flow": null,
            "grid_auto_rows": null,
            "grid_column": null,
            "grid_gap": null,
            "grid_row": null,
            "grid_template_areas": null,
            "grid_template_columns": null,
            "grid_template_rows": null,
            "height": null,
            "justify_content": null,
            "justify_items": null,
            "left": null,
            "margin": null,
            "max_height": null,
            "max_width": null,
            "min_height": null,
            "min_width": null,
            "object_fit": null,
            "object_position": null,
            "order": null,
            "overflow": null,
            "overflow_x": null,
            "overflow_y": null,
            "padding": null,
            "right": null,
            "top": null,
            "visibility": null,
            "width": null
          }
        },
        "2bcff7b4dbcc4509b0e38821bdfb198c": {
          "model_module": "@jupyter-widgets/base",
          "model_name": "LayoutModel",
          "model_module_version": "1.2.0",
          "state": {
            "_model_module": "@jupyter-widgets/base",
            "_model_module_version": "1.2.0",
            "_model_name": "LayoutModel",
            "_view_count": null,
            "_view_module": "@jupyter-widgets/base",
            "_view_module_version": "1.2.0",
            "_view_name": "LayoutView",
            "align_content": null,
            "align_items": null,
            "align_self": null,
            "border": null,
            "bottom": null,
            "display": null,
            "flex": null,
            "flex_flow": null,
            "grid_area": null,
            "grid_auto_columns": null,
            "grid_auto_flow": null,
            "grid_auto_rows": null,
            "grid_column": null,
            "grid_gap": null,
            "grid_row": null,
            "grid_template_areas": null,
            "grid_template_columns": null,
            "grid_template_rows": null,
            "height": null,
            "justify_content": null,
            "justify_items": null,
            "left": null,
            "margin": null,
            "max_height": null,
            "max_width": null,
            "min_height": null,
            "min_width": null,
            "object_fit": null,
            "object_position": null,
            "order": null,
            "overflow": null,
            "overflow_x": null,
            "overflow_y": null,
            "padding": null,
            "right": null,
            "top": null,
            "visibility": null,
            "width": null
          }
        },
        "b56bc8c84a0547d3b9bcf84bb87cd339": {
          "model_module": "@jupyter-widgets/controls",
          "model_name": "DescriptionStyleModel",
          "model_module_version": "1.5.0",
          "state": {
            "_model_module": "@jupyter-widgets/controls",
            "_model_module_version": "1.5.0",
            "_model_name": "DescriptionStyleModel",
            "_view_count": null,
            "_view_module": "@jupyter-widgets/base",
            "_view_module_version": "1.2.0",
            "_view_name": "StyleView",
            "description_width": ""
          }
        },
        "4a188bff608a47559e9b090e8b8dc15a": {
          "model_module": "@jupyter-widgets/base",
          "model_name": "LayoutModel",
          "model_module_version": "1.2.0",
          "state": {
            "_model_module": "@jupyter-widgets/base",
            "_model_module_version": "1.2.0",
            "_model_name": "LayoutModel",
            "_view_count": null,
            "_view_module": "@jupyter-widgets/base",
            "_view_module_version": "1.2.0",
            "_view_name": "LayoutView",
            "align_content": null,
            "align_items": null,
            "align_self": null,
            "border": null,
            "bottom": null,
            "display": null,
            "flex": null,
            "flex_flow": null,
            "grid_area": null,
            "grid_auto_columns": null,
            "grid_auto_flow": null,
            "grid_auto_rows": null,
            "grid_column": null,
            "grid_gap": null,
            "grid_row": null,
            "grid_template_areas": null,
            "grid_template_columns": null,
            "grid_template_rows": null,
            "height": null,
            "justify_content": null,
            "justify_items": null,
            "left": null,
            "margin": null,
            "max_height": null,
            "max_width": null,
            "min_height": null,
            "min_width": null,
            "object_fit": null,
            "object_position": null,
            "order": null,
            "overflow": null,
            "overflow_x": null,
            "overflow_y": null,
            "padding": null,
            "right": null,
            "top": null,
            "visibility": null,
            "width": null
          }
        },
        "5dac1042017a4f6d878fb387180e854b": {
          "model_module": "@jupyter-widgets/controls",
          "model_name": "ProgressStyleModel",
          "model_module_version": "1.5.0",
          "state": {
            "_model_module": "@jupyter-widgets/controls",
            "_model_module_version": "1.5.0",
            "_model_name": "ProgressStyleModel",
            "_view_count": null,
            "_view_module": "@jupyter-widgets/base",
            "_view_module_version": "1.2.0",
            "_view_name": "StyleView",
            "bar_color": null,
            "description_width": ""
          }
        },
        "87224dbdd2b643ffad79077db4ebeb96": {
          "model_module": "@jupyter-widgets/base",
          "model_name": "LayoutModel",
          "model_module_version": "1.2.0",
          "state": {
            "_model_module": "@jupyter-widgets/base",
            "_model_module_version": "1.2.0",
            "_model_name": "LayoutModel",
            "_view_count": null,
            "_view_module": "@jupyter-widgets/base",
            "_view_module_version": "1.2.0",
            "_view_name": "LayoutView",
            "align_content": null,
            "align_items": null,
            "align_self": null,
            "border": null,
            "bottom": null,
            "display": null,
            "flex": null,
            "flex_flow": null,
            "grid_area": null,
            "grid_auto_columns": null,
            "grid_auto_flow": null,
            "grid_auto_rows": null,
            "grid_column": null,
            "grid_gap": null,
            "grid_row": null,
            "grid_template_areas": null,
            "grid_template_columns": null,
            "grid_template_rows": null,
            "height": null,
            "justify_content": null,
            "justify_items": null,
            "left": null,
            "margin": null,
            "max_height": null,
            "max_width": null,
            "min_height": null,
            "min_width": null,
            "object_fit": null,
            "object_position": null,
            "order": null,
            "overflow": null,
            "overflow_x": null,
            "overflow_y": null,
            "padding": null,
            "right": null,
            "top": null,
            "visibility": null,
            "width": null
          }
        },
        "ab6ffb2e625543d1bb91faefb54479ef": {
          "model_module": "@jupyter-widgets/controls",
          "model_name": "DescriptionStyleModel",
          "model_module_version": "1.5.0",
          "state": {
            "_model_module": "@jupyter-widgets/controls",
            "_model_module_version": "1.5.0",
            "_model_name": "DescriptionStyleModel",
            "_view_count": null,
            "_view_module": "@jupyter-widgets/base",
            "_view_module_version": "1.2.0",
            "_view_name": "StyleView",
            "description_width": ""
          }
        },
        "7f9e2f04ff294d91a9dcbf168fca41f8": {
          "model_module": "@jupyter-widgets/controls",
          "model_name": "HBoxModel",
          "model_module_version": "1.5.0",
          "state": {
            "_dom_classes": [],
            "_model_module": "@jupyter-widgets/controls",
            "_model_module_version": "1.5.0",
            "_model_name": "HBoxModel",
            "_view_count": null,
            "_view_module": "@jupyter-widgets/controls",
            "_view_module_version": "1.5.0",
            "_view_name": "HBoxView",
            "box_style": "",
            "children": [
              "IPY_MODEL_27ff044225854e7cb9becbd5fc551d38",
              "IPY_MODEL_236301f952264115a87424867f079c80",
              "IPY_MODEL_32f1cf57c9314cbd87acccfeec704e4f"
            ],
            "layout": "IPY_MODEL_d855dc480d5b45c08c604c06390f92d8"
          }
        },
        "27ff044225854e7cb9becbd5fc551d38": {
          "model_module": "@jupyter-widgets/controls",
          "model_name": "HTMLModel",
          "model_module_version": "1.5.0",
          "state": {
            "_dom_classes": [],
            "_model_module": "@jupyter-widgets/controls",
            "_model_module_version": "1.5.0",
            "_model_name": "HTMLModel",
            "_view_count": null,
            "_view_module": "@jupyter-widgets/controls",
            "_view_module_version": "1.5.0",
            "_view_name": "HTMLView",
            "description": "",
            "description_tooltip": null,
            "layout": "IPY_MODEL_12d07673390145c5a646ef5d63159cb2",
            "placeholder": "​",
            "style": "IPY_MODEL_a21b891df8fa4d9e9e97384ba5225c6e",
            "value": "Downloading builder script: "
          }
        },
        "236301f952264115a87424867f079c80": {
          "model_module": "@jupyter-widgets/controls",
          "model_name": "FloatProgressModel",
          "model_module_version": "1.5.0",
          "state": {
            "_dom_classes": [],
            "_model_module": "@jupyter-widgets/controls",
            "_model_module_version": "1.5.0",
            "_model_name": "FloatProgressModel",
            "_view_count": null,
            "_view_module": "@jupyter-widgets/controls",
            "_view_module_version": "1.5.0",
            "_view_name": "ProgressView",
            "bar_style": "success",
            "description": "",
            "description_tooltip": null,
            "layout": "IPY_MODEL_89a6de74e04f449abe1f7656227fc0e2",
            "max": 1652,
            "min": 0,
            "orientation": "horizontal",
            "style": "IPY_MODEL_470c8ade1af14b46bc078c8e14eb6dc4",
            "value": 1652
          }
        },
        "32f1cf57c9314cbd87acccfeec704e4f": {
          "model_module": "@jupyter-widgets/controls",
          "model_name": "HTMLModel",
          "model_module_version": "1.5.0",
          "state": {
            "_dom_classes": [],
            "_model_module": "@jupyter-widgets/controls",
            "_model_module_version": "1.5.0",
            "_model_name": "HTMLModel",
            "_view_count": null,
            "_view_module": "@jupyter-widgets/controls",
            "_view_module_version": "1.5.0",
            "_view_name": "HTMLView",
            "description": "",
            "description_tooltip": null,
            "layout": "IPY_MODEL_6c6ba4e5da6f40d8ad9571894edd3de2",
            "placeholder": "​",
            "style": "IPY_MODEL_6a46c6d0a1a94c41b66c83567d89b8ec",
            "value": " 4.21k/? [00:00&lt;00:00, 144kB/s]"
          }
        },
        "d855dc480d5b45c08c604c06390f92d8": {
          "model_module": "@jupyter-widgets/base",
          "model_name": "LayoutModel",
          "model_module_version": "1.2.0",
          "state": {
            "_model_module": "@jupyter-widgets/base",
            "_model_module_version": "1.2.0",
            "_model_name": "LayoutModel",
            "_view_count": null,
            "_view_module": "@jupyter-widgets/base",
            "_view_module_version": "1.2.0",
            "_view_name": "LayoutView",
            "align_content": null,
            "align_items": null,
            "align_self": null,
            "border": null,
            "bottom": null,
            "display": null,
            "flex": null,
            "flex_flow": null,
            "grid_area": null,
            "grid_auto_columns": null,
            "grid_auto_flow": null,
            "grid_auto_rows": null,
            "grid_column": null,
            "grid_gap": null,
            "grid_row": null,
            "grid_template_areas": null,
            "grid_template_columns": null,
            "grid_template_rows": null,
            "height": null,
            "justify_content": null,
            "justify_items": null,
            "left": null,
            "margin": null,
            "max_height": null,
            "max_width": null,
            "min_height": null,
            "min_width": null,
            "object_fit": null,
            "object_position": null,
            "order": null,
            "overflow": null,
            "overflow_x": null,
            "overflow_y": null,
            "padding": null,
            "right": null,
            "top": null,
            "visibility": null,
            "width": null
          }
        },
        "12d07673390145c5a646ef5d63159cb2": {
          "model_module": "@jupyter-widgets/base",
          "model_name": "LayoutModel",
          "model_module_version": "1.2.0",
          "state": {
            "_model_module": "@jupyter-widgets/base",
            "_model_module_version": "1.2.0",
            "_model_name": "LayoutModel",
            "_view_count": null,
            "_view_module": "@jupyter-widgets/base",
            "_view_module_version": "1.2.0",
            "_view_name": "LayoutView",
            "align_content": null,
            "align_items": null,
            "align_self": null,
            "border": null,
            "bottom": null,
            "display": null,
            "flex": null,
            "flex_flow": null,
            "grid_area": null,
            "grid_auto_columns": null,
            "grid_auto_flow": null,
            "grid_auto_rows": null,
            "grid_column": null,
            "grid_gap": null,
            "grid_row": null,
            "grid_template_areas": null,
            "grid_template_columns": null,
            "grid_template_rows": null,
            "height": null,
            "justify_content": null,
            "justify_items": null,
            "left": null,
            "margin": null,
            "max_height": null,
            "max_width": null,
            "min_height": null,
            "min_width": null,
            "object_fit": null,
            "object_position": null,
            "order": null,
            "overflow": null,
            "overflow_x": null,
            "overflow_y": null,
            "padding": null,
            "right": null,
            "top": null,
            "visibility": null,
            "width": null
          }
        },
        "a21b891df8fa4d9e9e97384ba5225c6e": {
          "model_module": "@jupyter-widgets/controls",
          "model_name": "DescriptionStyleModel",
          "model_module_version": "1.5.0",
          "state": {
            "_model_module": "@jupyter-widgets/controls",
            "_model_module_version": "1.5.0",
            "_model_name": "DescriptionStyleModel",
            "_view_count": null,
            "_view_module": "@jupyter-widgets/base",
            "_view_module_version": "1.2.0",
            "_view_name": "StyleView",
            "description_width": ""
          }
        },
        "89a6de74e04f449abe1f7656227fc0e2": {
          "model_module": "@jupyter-widgets/base",
          "model_name": "LayoutModel",
          "model_module_version": "1.2.0",
          "state": {
            "_model_module": "@jupyter-widgets/base",
            "_model_module_version": "1.2.0",
            "_model_name": "LayoutModel",
            "_view_count": null,
            "_view_module": "@jupyter-widgets/base",
            "_view_module_version": "1.2.0",
            "_view_name": "LayoutView",
            "align_content": null,
            "align_items": null,
            "align_self": null,
            "border": null,
            "bottom": null,
            "display": null,
            "flex": null,
            "flex_flow": null,
            "grid_area": null,
            "grid_auto_columns": null,
            "grid_auto_flow": null,
            "grid_auto_rows": null,
            "grid_column": null,
            "grid_gap": null,
            "grid_row": null,
            "grid_template_areas": null,
            "grid_template_columns": null,
            "grid_template_rows": null,
            "height": null,
            "justify_content": null,
            "justify_items": null,
            "left": null,
            "margin": null,
            "max_height": null,
            "max_width": null,
            "min_height": null,
            "min_width": null,
            "object_fit": null,
            "object_position": null,
            "order": null,
            "overflow": null,
            "overflow_x": null,
            "overflow_y": null,
            "padding": null,
            "right": null,
            "top": null,
            "visibility": null,
            "width": null
          }
        },
        "470c8ade1af14b46bc078c8e14eb6dc4": {
          "model_module": "@jupyter-widgets/controls",
          "model_name": "ProgressStyleModel",
          "model_module_version": "1.5.0",
          "state": {
            "_model_module": "@jupyter-widgets/controls",
            "_model_module_version": "1.5.0",
            "_model_name": "ProgressStyleModel",
            "_view_count": null,
            "_view_module": "@jupyter-widgets/base",
            "_view_module_version": "1.2.0",
            "_view_name": "StyleView",
            "bar_color": null,
            "description_width": ""
          }
        },
        "6c6ba4e5da6f40d8ad9571894edd3de2": {
          "model_module": "@jupyter-widgets/base",
          "model_name": "LayoutModel",
          "model_module_version": "1.2.0",
          "state": {
            "_model_module": "@jupyter-widgets/base",
            "_model_module_version": "1.2.0",
            "_model_name": "LayoutModel",
            "_view_count": null,
            "_view_module": "@jupyter-widgets/base",
            "_view_module_version": "1.2.0",
            "_view_name": "LayoutView",
            "align_content": null,
            "align_items": null,
            "align_self": null,
            "border": null,
            "bottom": null,
            "display": null,
            "flex": null,
            "flex_flow": null,
            "grid_area": null,
            "grid_auto_columns": null,
            "grid_auto_flow": null,
            "grid_auto_rows": null,
            "grid_column": null,
            "grid_gap": null,
            "grid_row": null,
            "grid_template_areas": null,
            "grid_template_columns": null,
            "grid_template_rows": null,
            "height": null,
            "justify_content": null,
            "justify_items": null,
            "left": null,
            "margin": null,
            "max_height": null,
            "max_width": null,
            "min_height": null,
            "min_width": null,
            "object_fit": null,
            "object_position": null,
            "order": null,
            "overflow": null,
            "overflow_x": null,
            "overflow_y": null,
            "padding": null,
            "right": null,
            "top": null,
            "visibility": null,
            "width": null
          }
        },
        "6a46c6d0a1a94c41b66c83567d89b8ec": {
          "model_module": "@jupyter-widgets/controls",
          "model_name": "DescriptionStyleModel",
          "model_module_version": "1.5.0",
          "state": {
            "_model_module": "@jupyter-widgets/controls",
            "_model_module_version": "1.5.0",
            "_model_name": "DescriptionStyleModel",
            "_view_count": null,
            "_view_module": "@jupyter-widgets/base",
            "_view_module_version": "1.2.0",
            "_view_name": "StyleView",
            "description_width": ""
          }
        }
      }
    }
  },
  "nbformat": 4,
  "nbformat_minor": 0
}